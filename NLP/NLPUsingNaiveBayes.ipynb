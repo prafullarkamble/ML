{
  "nbformat": 4,
  "nbformat_minor": 0,
  "metadata": {
    "colab": {
      "name": "NLPUsingNaiveBayes.ipynb",
      "provenance": [],
      "collapsed_sections": []
    },
    "kernelspec": {
      "name": "python3",
      "display_name": "Python 3"
    },
    "language_info": {
      "name": "python"
    }
  },
  "cells": [
    {
      "cell_type": "code",
      "metadata": {
        "id": "vfok_-MiU5Su"
      },
      "source": [
        "import pandas as pd\n",
        "import gensim #the library for Topic modelling\n",
        "from gensim import corpora, models\n",
        "import warnings\n",
        "warnings.simplefilter('ignore')\n",
        "from itertools import chain\n",
        "\n",
        "from sklearn.datasets import fetch_20newsgroups"
      ],
      "execution_count": 3,
      "outputs": []
    },
    {
      "cell_type": "code",
      "metadata": {
        "id": "-LmoztOOhIJO",
        "colab": {
          "base_uri": "https://localhost:8080/"
        },
        "outputId": "959f651a-7a16-417c-94c3-c2557c11c796"
      },
      "source": [
        "categories = [\"alt.atheism\", \"soc.religion.christian\", \"comp.graphics\", \"sci.med\" ]\n",
        "news_train = fetch_20newsgroups(subset='train', categories=categories,shuffle=True)\n",
        "news_test = fetch_20newsgroups(subset='test', categories=categories, shuffle=True)\n"
      ],
      "execution_count": 4,
      "outputs": [
        {
          "output_type": "stream",
          "name": "stderr",
          "text": [
            "Downloading 20news dataset. This may take a few minutes.\n",
            "Downloading dataset from https://ndownloader.figshare.com/files/5975967 (14 MB)\n"
          ]
        }
      ]
    },
    {
      "cell_type": "code",
      "metadata": {
        "id": "ZYmgoEZQHbHi"
      },
      "source": [
        "from sklearn.feature_extraction.text import CountVectorizer\n",
        "from sklearn.feature_extraction.text import TfidfTransformer"
      ],
      "execution_count": 42,
      "outputs": []
    },
    {
      "cell_type": "code",
      "metadata": {
        "colab": {
          "base_uri": "https://localhost:8080/"
        },
        "id": "qLdmr9PIH05n",
        "outputId": "415b304a-df4a-426f-b58f-453c7cefa343"
      },
      "source": [
        "count_vector = CountVectorizer()\n",
        "X_train_tf = count_vector.fit_transform(news_train.data)\n",
        "X_train_tf.shape"
      ],
      "execution_count": 20,
      "outputs": [
        {
          "output_type": "execute_result",
          "data": {
            "text/plain": [
              "(2257, 35788)"
            ]
          },
          "metadata": {},
          "execution_count": 20
        }
      ]
    },
    {
      "cell_type": "code",
      "metadata": {
        "colab": {
          "base_uri": "https://localhost:8080/"
        },
        "id": "zaitHkMaJYwo",
        "outputId": "0e561daa-6687-42ec-f74c-d557008c8615"
      },
      "source": [
        "tfidf_transformer = TfidfTransformer()\n",
        "X_train_tfidf = tfidf_transformer.fit_transform(X_train_tf)\n",
        "X_train_tfidf.shape"
      ],
      "execution_count": 47,
      "outputs": [
        {
          "output_type": "execute_result",
          "data": {
            "text/plain": [
              "(2257, 35788)"
            ]
          },
          "metadata": {},
          "execution_count": 47
        }
      ]
    },
    {
      "cell_type": "code",
      "metadata": {
        "id": "IY2oEHhrJqT2"
      },
      "source": [
        "from sklearn.naive_bayes import MultinomialNB\n",
        "clf = MultinomialNB().fit(X_train_tfidf, news_train.target)"
      ],
      "execution_count": 48,
      "outputs": []
    },
    {
      "cell_type": "code",
      "metadata": {
        "id": "piOg3sUHLEYp"
      },
      "source": [
        "X_test_tf = count_vector.transform(news_test.data)\n",
        "X_train_tfidf = tfidf_transformer.transform(X_test_tf)\n",
        "predicted = clf.predict(X_test_tfidf)"
      ],
      "execution_count": 53,
      "outputs": []
    },
    {
      "cell_type": "code",
      "metadata": {
        "colab": {
          "base_uri": "https://localhost:8080/"
        },
        "id": "8imKVbifN-Pr",
        "outputId": "3ee6c157-5bce-4154-e916-65e1e04d56b5"
      },
      "source": [
        "from sklearn import metrics\n",
        "from sklearn.metrics import accuracy_score\n",
        "print(\"Accuracy: \", accuracy_score(news_test.target, predicted))\n",
        "print(metrics.classification_report(news_test.target, predicted, target_names=news_test.target_names))\n",
        "metrics.confusion_matrix(news_test.target, predicted)"
      ],
      "execution_count": 55,
      "outputs": [
        {
          "output_type": "stream",
          "name": "stdout",
          "text": [
            "Accuracy:  0.6058588548601864\n",
            "                        precision    recall  f1-score   support\n",
            "\n",
            "           alt.atheism       0.95      0.34      0.50       319\n",
            "         comp.graphics       0.97      0.58      0.73       389\n",
            "               sci.med       0.94      0.45      0.61       396\n",
            "soc.religion.christian       0.41      1.00      0.58       398\n",
            "\n",
            "              accuracy                           0.61      1502\n",
            "             macro avg       0.82      0.59      0.60      1502\n",
            "          weighted avg       0.81      0.61      0.61      1502\n",
            "\n"
          ]
        },
        {
          "output_type": "execute_result",
          "data": {
            "text/plain": [
              "array([[108,   0,   4, 207],\n",
              "       [  2, 227,   7, 153],\n",
              "       [  3,   7, 178, 208],\n",
              "       [  1,   0,   0, 397]])"
            ]
          },
          "metadata": {},
          "execution_count": 55
        }
      ]
    },
    {
      "cell_type": "code",
      "metadata": {
        "id": "7jWWhIcWP_DG"
      },
      "source": [
        "# Using pipeline"
      ],
      "execution_count": 56,
      "outputs": []
    },
    {
      "cell_type": "code",
      "metadata": {
        "id": "oeTkiPsJSFAV"
      },
      "source": [
        "from sklearn.pipeline import Pipeline\n",
        "from sklearn.naive_bayes import MultinomialNB\n",
        "from sklearn.feature_extraction.text import TfidfVectorizer"
      ],
      "execution_count": 64,
      "outputs": []
    },
    {
      "cell_type": "code",
      "metadata": {
        "id": "iLf-eXlqSKUQ"
      },
      "source": [
        "text_clf = Pipeline([('vect', TfidfVectorizer()),\n",
        "                     ('clf', MultinomialNB())])"
      ],
      "execution_count": 66,
      "outputs": []
    },
    {
      "cell_type": "code",
      "metadata": {
        "colab": {
          "base_uri": "https://localhost:8080/"
        },
        "id": "ieFPo1aBS1Yo",
        "outputId": "f7d57c4a-9bd9-4304-c7c9-dade6d763bf9"
      },
      "source": [
        "text_clf.fit(news_train.data, news_train.target)"
      ],
      "execution_count": 68,
      "outputs": [
        {
          "output_type": "execute_result",
          "data": {
            "text/plain": [
              "Pipeline(memory=None,\n",
              "         steps=[('vect',\n",
              "                 TfidfVectorizer(analyzer='word', binary=False,\n",
              "                                 decode_error='strict',\n",
              "                                 dtype=<class 'numpy.float64'>,\n",
              "                                 encoding='utf-8', input='content',\n",
              "                                 lowercase=True, max_df=1.0, max_features=None,\n",
              "                                 min_df=1, ngram_range=(1, 1), norm='l2',\n",
              "                                 preprocessor=None, smooth_idf=True,\n",
              "                                 stop_words=None, strip_accents=None,\n",
              "                                 sublinear_tf=False,\n",
              "                                 token_pattern='(?u)\\\\b\\\\w\\\\w+\\\\b',\n",
              "                                 tokenizer=None, use_idf=True,\n",
              "                                 vocabulary=None)),\n",
              "                ('clf',\n",
              "                 MultinomialNB(alpha=1.0, class_prior=None, fit_prior=True))],\n",
              "         verbose=False)"
            ]
          },
          "metadata": {},
          "execution_count": 68
        }
      ]
    },
    {
      "cell_type": "code",
      "metadata": {
        "colab": {
          "base_uri": "https://localhost:8080/"
        },
        "id": "V2BwqGGTTg6D",
        "outputId": "8d1f637f-6867-4c13-ef0e-435d4b06ad79"
      },
      "source": [
        "predicted = text_clf.predict(news_test.data)\n",
        "predicted"
      ],
      "execution_count": 70,
      "outputs": [
        {
          "output_type": "execute_result",
          "data": {
            "text/plain": [
              "array([2, 2, 3, ..., 2, 2, 1])"
            ]
          },
          "metadata": {},
          "execution_count": 70
        }
      ]
    },
    {
      "cell_type": "code",
      "metadata": {
        "colab": {
          "base_uri": "https://localhost:8080/"
        },
        "id": "6DNzht-1Tuqp",
        "outputId": "88f8e848-e07d-4bac-f2c5-e9c2ab395957"
      },
      "source": [
        "from sklearn import metrics\n",
        "from sklearn.metrics import accuracy_score\n",
        "print(\"Accuracy: \", accuracy_score(news_test.target, predicted))\n",
        "print(metrics.classification_report(news_test.target, predicted, target_names=news_test.target_names))\n",
        "metrics.confusion_matrix(news_test.target, predicted)"
      ],
      "execution_count": 71,
      "outputs": [
        {
          "output_type": "stream",
          "name": "stdout",
          "text": [
            "Accuracy:  0.8348868175765646\n",
            "                        precision    recall  f1-score   support\n",
            "\n",
            "           alt.atheism       0.97      0.60      0.74       319\n",
            "         comp.graphics       0.96      0.89      0.92       389\n",
            "               sci.med       0.97      0.81      0.88       396\n",
            "soc.religion.christian       0.65      0.99      0.78       398\n",
            "\n",
            "              accuracy                           0.83      1502\n",
            "             macro avg       0.89      0.82      0.83      1502\n",
            "          weighted avg       0.88      0.83      0.84      1502\n",
            "\n"
          ]
        },
        {
          "output_type": "execute_result",
          "data": {
            "text/plain": [
              "array([[192,   2,   6, 119],\n",
              "       [  2, 347,   4,  36],\n",
              "       [  2,  11, 322,  61],\n",
              "       [  2,   2,   1, 393]])"
            ]
          },
          "metadata": {},
          "execution_count": 71
        }
      ]
    },
    {
      "cell_type": "code",
      "metadata": {
        "id": "xf8byJGNT1Og"
      },
      "source": [
        ""
      ],
      "execution_count": null,
      "outputs": []
    }
  ]
}