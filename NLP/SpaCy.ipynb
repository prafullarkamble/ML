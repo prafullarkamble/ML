{
 "cells": [
  {
   "cell_type": "code",
   "execution_count": null,
   "metadata": {
    "id": "PtetYGHGL5lD"
   },
   "outputs": [],
   "source": [
    "import spacy"
   ]
  },
  {
   "cell_type": "code",
   "execution_count": null,
   "metadata": {
    "colab": {
     "base_uri": "https://localhost:8080/"
    },
    "id": "xTCDyQYNL_c0",
    "outputId": "3a03b326-ff6e-4461-a2cd-50db20fbf151"
   },
   "outputs": [
    {
     "data": {
      "text/plain": [
       "spacy.tokens.doc.Doc"
      ]
     },
     "execution_count": 16,
     "metadata": {},
     "output_type": "execute_result"
    }
   ],
   "source": [
    "nlp = spacy.load('en_core_web_sm')\n",
    "doc = nlp(\"Apple is looking at buying U.K. startup for $1 billion\")\n",
    "type(doc)"
   ]
  },
  {
   "cell_type": "code",
   "execution_count": null,
   "metadata": {
    "colab": {
     "base_uri": "https://localhost:8080/"
    },
    "id": "GBWLUwK2MDWt",
    "outputId": "0a35dd13-3997-4a88-ff5a-eb6139961d89"
   },
   "outputs": [
    {
     "name": "stdout",
     "output_type": "stream",
     "text": [
      "Apple PROPN nsubj True\n",
      "is AUX aux True\n",
      "looking VERB ROOT True\n",
      "at ADP prep True\n",
      "buying VERB pcomp True\n",
      "U.K. PROPN compound False\n",
      "startup NOUN dobj True\n",
      "for ADP prep True\n",
      "$ SYM quantmod False\n",
      "1 NUM compound False\n",
      "billion NUM pobj True\n"
     ]
    }
   ],
   "source": [
    "for token in doc:\n",
    "  print(token.text, token.pos_, token.dep_, token.is_alpha)\n",
    "  \n",
    "\n",
    "# pos: the simple part-of-speech tag, verb, noun,...\n",
    "# dep: syntactic dependency i.e. relation between tokens"
   ]
  },
  {
   "cell_type": "code",
   "execution_count": null,
   "metadata": {
    "colab": {
     "base_uri": "https://localhost:8080/"
    },
    "id": "lvY6myJmMda2",
    "outputId": "ef3e0d7e-9287-4b7b-8a73-0d44d68a94ee"
   },
   "outputs": [
    {
     "data": {
      "text/plain": [
       "0.0"
      ]
     },
     "execution_count": 18,
     "metadata": {},
     "output_type": "execute_result"
    }
   ],
   "source": [
    "doc.sentiment"
   ]
  },
  {
   "cell_type": "code",
   "execution_count": null,
   "metadata": {
    "id": "k_j9QXUVOJ8b"
   },
   "outputs": [],
   "source": [
    "doc = nlp(\"Here, we adopt the properties of possibilities and Bayes’ Theorem to do the conversion.\")"
   ]
  },
  {
   "cell_type": "code",
   "execution_count": null,
   "metadata": {
    "colab": {
     "base_uri": "https://localhost:8080/"
    },
    "id": "uZGdcH1IQfzh",
    "outputId": "a51f6964-8bac-436a-d788-6c0220093704"
   },
   "outputs": [
    {
     "name": "stdout",
     "output_type": "stream",
     "text": [
      "Here here RB advmod Xxxx True\n",
      ", , , punct , False\n",
      "we -PRON- PRP nsubj xx True\n",
      "adopt adopt VBP ROOT xxxx False\n",
      "the the DT det xxx True\n",
      "properties property NNS dobj xxxx False\n",
      "of of IN prep xx True\n",
      "possibilities possibility NNS pobj xxxx False\n",
      "and and CC cc xxx True\n",
      "Bayes Bayes NNP conj Xxxxx False\n",
      "’ ' '' punct ’ False\n",
      "Theorem theorem NN ROOT Xxxxx False\n",
      "to to TO aux xx True\n",
      "do do VB xcomp xx True\n",
      "the the DT det xxx True\n",
      "conversion conversion NN dobj xxxx False\n",
      ". . . punct . False\n"
     ]
    }
   ],
   "source": [
    "for token in doc:\n",
    "  print(token.text, token.lemma_, token.tag_, token.dep_, token.shape_, token.is_stop)"
   ]
  },
  {
   "cell_type": "code",
   "execution_count": null,
   "metadata": {
    "id": "zXTjm6rbQ3k-"
   },
   "outputs": [],
   "source": [
    "from spacy import displacy"
   ]
  },
  {
   "cell_type": "code",
   "execution_count": null,
   "metadata": {
    "colab": {
     "base_uri": "https://localhost:8080/"
    },
    "id": "9Dz9EGVdSxtz",
    "outputId": "6cb976e8-d899-4db1-8b33-58fbcfefc245"
   },
   "outputs": [
    {
     "name": "stdout",
     "output_type": "stream",
     "text": [
      "\n",
      "Using the 'dep' visualizer\n",
      "Serving on http://0.0.0.0:5000 ...\n",
      "\n",
      "Shutting down server on port 5000.\n"
     ]
    }
   ],
   "source": [
    "displacy.serve(doc)"
   ]
  },
  {
   "cell_type": "code",
   "execution_count": null,
   "metadata": {
    "colab": {
     "base_uri": "https://localhost:8080/"
    },
    "id": "EJqbRJ3ES4mg",
    "outputId": "17ab788d-a186-48cd-aab7-3b0cfaba395f"
   },
   "outputs": [
    {
     "name": "stdout",
     "output_type": "stream",
     "text": [
      "\n",
      "Using the 'dep' visualizer\n",
      "Serving on http://0.0.0.0:5000 ...\n",
      "\n",
      "Shutting down server on port 5000.\n"
     ]
    }
   ],
   "source": [
    "displacy.serve(doc, style='dep')"
   ]
  },
  {
   "cell_type": "code",
   "execution_count": null,
   "metadata": {
    "id": "JhXfOjdMTLNT"
   },
   "outputs": [],
   "source": [
    "# Name entity recognizing"
   ]
  },
  {
   "cell_type": "code",
   "execution_count": null,
   "metadata": {
    "colab": {
     "base_uri": "https://localhost:8080/"
    },
    "id": "2grF5ISPTVFy",
    "outputId": "f0886554-e782-4749-aab8-57c6f4248a51"
   },
   "outputs": [
    {
     "name": "stdout",
     "output_type": "stream",
     "text": [
      "India 0 5 GPE\n",
      "USA 48 51 GPE\n",
      "second 59 65 ORDINAL\n"
     ]
    }
   ],
   "source": [
    "doc2 = nlp(\"India is the biggest democracy in the world and USA is the second.\")\n",
    "\n",
    "for ent in doc2.ents:\n",
    "  print(ent.text, ent.start_char, ent.end_char, ent.label_)"
   ]
  },
  {
   "cell_type": "code",
   "execution_count": null,
   "metadata": {
    "colab": {
     "base_uri": "https://localhost:8080/"
    },
    "id": "1D9xdM8QTqgl",
    "outputId": "68065878-740b-4c15-fcf9-dc83fa11a41f"
   },
   "outputs": [
    {
     "name": "stdout",
     "output_type": "stream",
     "text": [
      "\n",
      "Using the 'ent' visualizer\n",
      "Serving on http://0.0.0.0:5000 ...\n",
      "\n",
      "Shutting down server on port 5000.\n"
     ]
    }
   ],
   "source": [
    "displacy.serve(doc2,style=\"ent\")"
   ]
  },
  {
   "cell_type": "code",
   "execution_count": null,
   "metadata": {
    "id": "0vUUVFOZVLuG"
   },
   "outputs": [],
   "source": [
    "# Word vector and similarity"
   ]
  },
  {
   "cell_type": "code",
   "execution_count": null,
   "metadata": {
    "colab": {
     "base_uri": "https://localhost:8080/"
    },
    "id": "XTdQTXJTXelM",
    "outputId": "c8843f27-5923-4cc7-d607-8f53fa862c43"
   },
   "outputs": [
    {
     "name": "stdout",
     "output_type": "stream",
     "text": [
      "\u001b[38;5;2m✔ Download and installation successful\u001b[0m\n",
      "You can now load the model via spacy.load('en_core_web_md')\n"
     ]
    }
   ],
   "source": [
    "import spacy.cli\n",
    "spacy.cli.download(\"en_core_web_md\")"
   ]
  },
  {
   "cell_type": "code",
   "execution_count": null,
   "metadata": {
    "id": "i0NlVyfzXo3S"
   },
   "outputs": [],
   "source": [
    "import en_core_web_md\n",
    "nlp = en_core_web_md.load()"
   ]
  },
  {
   "cell_type": "code",
   "execution_count": null,
   "metadata": {
    "colab": {
     "base_uri": "https://localhost:8080/"
    },
    "id": "dGNxjNnfX17B",
    "outputId": "1f436023-460e-46d8-b6b1-79c09e5d1531"
   },
   "outputs": [
    {
     "data": {
      "text/plain": [
       "<spacy.lang.en.English at 0x7fc5e1e23890>"
      ]
     },
     "execution_count": 44,
     "metadata": {},
     "output_type": "execute_result"
    }
   ],
   "source": [
    "spacy.load(\"en_core_web_md\")"
   ]
  },
  {
   "cell_type": "code",
   "execution_count": null,
   "metadata": {
    "colab": {
     "base_uri": "https://localhost:8080/"
    },
    "id": "wFgZJzpwX8yz",
    "outputId": "d3164534-6ee1-44ab-fc31-df0b6a661c5b"
   },
   "outputs": [
    {
     "name": "stdout",
     "output_type": "stream",
     "text": [
      "lion True 6.5120897 False\n",
      "bear True 5.881604 False\n",
      "apple True 7.1346846 False\n",
      "banana True 6.700014 False\n",
      "qwe123rty False 0.0 True\n"
     ]
    }
   ],
   "source": [
    "tokens = nlp(\"lion bear apple banana qwe123rty\")\n",
    "\n",
    "for token in tokens:\n",
    "  print(token.text, token.has_vector, token.vector_norm, token.is_oov)\n",
    "\n",
    "# has_vector: does a token have a vector representation\n",
    "# oov: out of vocabulary"
   ]
  },
  {
   "cell_type": "code",
   "execution_count": null,
   "metadata": {
    "colab": {
     "base_uri": "https://localhost:8080/"
    },
    "id": "-ZIZiPSTYnyu",
    "outputId": "9a2428a2-3412-40f6-e134-a669ec361749"
   },
   "outputs": [
    {
     "name": "stdout",
     "output_type": "stream",
     "text": [
      "lion lion 1.0\n",
      "lion bear 0.6390859\n",
      "lion river 0.32039484\n",
      "lion apple 0.33227408\n",
      "lion banana 0.21994989\n",
      "lion cow 0.4780627\n",
      "bear lion 0.6390859\n",
      "bear bear 1.0\n",
      "bear river 0.32381308\n",
      "bear apple 0.3176035\n",
      "bear banana 0.2628087\n",
      "bear cow 0.43222302\n",
      "river lion 0.32039484\n",
      "river bear 0.32381308\n",
      "river river 1.0\n",
      "river apple 0.2081475\n",
      "river banana 0.18435778\n",
      "river cow 0.27732792\n",
      "apple lion 0.33227408\n",
      "apple bear 0.3176035\n",
      "apple river 0.2081475\n",
      "apple apple 1.0\n",
      "apple banana 0.5831845\n",
      "apple cow 0.36605674\n",
      "banana lion 0.21994989\n",
      "banana bear 0.2628087\n",
      "banana river 0.18435778\n",
      "banana apple 0.5831845\n",
      "banana banana 1.0\n",
      "banana cow 0.38532063\n",
      "cow lion 0.4780627\n",
      "cow bear 0.43222302\n",
      "cow river 0.27732792\n",
      "cow apple 0.36605674\n",
      "cow banana 0.38532063\n",
      "cow cow 1.0\n"
     ]
    }
   ],
   "source": [
    "tokens = nlp(\"lion bear river apple banana cow\")\n",
    "\n",
    "for token1 in tokens:\n",
    "  for token2 in tokens:\n",
    "    print(token1.text, token2.text, token1.similarity(token2))"
   ]
  },
  {
   "cell_type": "code",
   "execution_count": null,
   "metadata": {
    "id": "_iNIX27_ZwzN"
   },
   "outputs": [],
   "source": [
    "# Vocab, hashes and lexemes\n",
    "# Whenever possible, spaCy tries to store data in a vocabulary, the Vocab, that will be shared by multiple \n",
    "# documents. To save memory, spaCy also encodes all strings to hash values – \n",
    "# in this case for example, “coffee” has the hash 3197928453018144401. \n",
    "# Entity labels like “ORG” and part-of-speech tags like “VERB” are also encoded. \n",
    "# Internally, spaCy only “speaks” in hash values."
   ]
  },
  {
   "cell_type": "code",
   "execution_count": null,
   "metadata": {
    "colab": {
     "base_uri": "https://localhost:8080/"
    },
    "id": "A3Dr2hLTgEih",
    "outputId": "6781020a-c214-48a0-d242-93fcc19f14b2"
   },
   "outputs": [
    {
     "name": "stdout",
     "output_type": "stream",
     "text": [
      "3197928453018144401\n",
      "coffee\n"
     ]
    }
   ],
   "source": [
    "nlp = spacy.load(\"en_core_web_sm\")\n",
    "doc = nlp(\"I love coffee\")\n",
    "print(doc.vocab.strings[\"coffee\"])  # 3197928453018144401\n",
    "print(doc.vocab.strings[3197928453018144401])  # 'coffee'"
   ]
  },
  {
   "cell_type": "code",
   "execution_count": null,
   "metadata": {
    "colab": {
     "base_uri": "https://localhost:8080/"
    },
    "id": "IsQpuJsig7l9",
    "outputId": "2bbbd042-8ec4-42b6-979e-9494e9ce90e4"
   },
   "outputs": [
    {
     "name": "stdout",
     "output_type": "stream",
     "text": [
      "I 4690420944186131903 X I I True False True en\n",
      "love 3702023516439754181 xxxx l ove True False False en\n",
      "tea 6041671307218480733 xxx t tea True False False en\n",
      ", 2593208677638477497 , , , False False False en\n",
      "over 5456543204961066030 xxxx o ver True False False en\n",
      "coffee 3197928453018144401 xxxx c fee True False False en\n",
      "! 17494803046312582752 ! ! ! False False False en\n"
     ]
    }
   ],
   "source": [
    "nlp = spacy.load(\"en_core_web_sm\")\n",
    "doc = nlp(\"I love tea, over coffee!\")\n",
    "for word in doc:\n",
    "    lexeme = doc.vocab[word.text]\n",
    "    # print(lexeme)\n",
    "    print(lexeme.text, lexeme.orth, lexeme.shape_, lexeme.prefix_, lexeme.suffix_,\n",
    "            lexeme.is_alpha, lexeme.is_digit, lexeme.is_title, lexeme.lang_)"
   ]
  },
  {
   "cell_type": "code",
   "execution_count": null,
   "metadata": {
    "colab": {
     "base_uri": "https://localhost:8080/"
    },
    "id": "e-EoBKxqhFH7",
    "outputId": "49f241a8-47ac-4187-9eae-074724824730"
   },
   "outputs": [
    {
     "name": "stdout",
     "output_type": "stream",
     "text": [
      "6041671307218480733\n"
     ]
    }
   ],
   "source": [
    "from spacy.tokens import Doc\n",
    "from spacy.vocab import Vocab\n",
    "nlp = spacy.load('en_core_web_sm')\n",
    "doc = nlp(\"I love tea, over coffee!\")\n",
    "print(doc.vocab.strings[\"tea\"])"
   ]
  },
  {
   "cell_type": "code",
   "execution_count": null,
   "metadata": {
    "colab": {
     "base_uri": "https://localhost:8080/"
    },
    "id": "7Z56bqRei7ZR",
    "outputId": "d74cef48-2a5e-4695-9d54-0d95423d33b8"
   },
   "outputs": [
    {
     "name": "stdout",
     "output_type": "stream",
     "text": [
      "tea\n"
     ]
    }
   ],
   "source": [
    "print(doc.vocab.strings[6041671307218480733])"
   ]
  },
  {
   "cell_type": "code",
   "execution_count": null,
   "metadata": {
    "colab": {
     "base_uri": "https://localhost:8080/"
    },
    "id": "C2AnNOx3jAOR",
    "outputId": "42c5f242-fd2d-418b-cd89-c231752e999a"
   },
   "outputs": [
    {
     "data": {
      "text/plain": [
       "6041671307218480733"
      ]
     },
     "execution_count": 64,
     "metadata": {},
     "output_type": "execute_result"
    }
   ],
   "source": [
    "empty_doc = Doc(Vocab())\n",
    "empty_doc.vocab.strings.add(\"tea\")"
   ]
  },
  {
   "cell_type": "code",
   "execution_count": null,
   "metadata": {
    "colab": {
     "base_uri": "https://localhost:8080/"
    },
    "id": "yWoGqHtAjWNO",
    "outputId": "25c62476-14e7-4e0f-94aa-966fc9263028"
   },
   "outputs": [
    {
     "name": "stdout",
     "output_type": "stream",
     "text": [
      "tea\n"
     ]
    }
   ],
   "source": [
    "new_doc = Doc(doc.vocab)\n",
    "print(new_doc.vocab.strings[6041671307218480733])"
   ]
  },
  {
   "cell_type": "code",
   "execution_count": null,
   "metadata": {
    "id": "YFSprGwmjgoS"
   },
   "outputs": [],
   "source": [
    "# KnowledgeBase\n",
    "# To support the entity linking task, spaCy stores external knowledge in a KnowledgeBase. \n",
    "# The knowledge base (KB) uses the Vocab to store its data efficiently.\n",
    "# A knowledge base is created by first adding all entities to it. \n",
    "# Next, for each potential mention or alias, a list of relevant KB IDs and their prior probabilities is added. \n",
    "# The sum of these prior probabilities should never exceed 1 for any given alias."
   ]
  },
  {
   "cell_type": "code",
   "execution_count": null,
   "metadata": {
    "colab": {
     "base_uri": "https://localhost:8080/"
    },
    "id": "dYbZHqJPj35o",
    "outputId": "6dbd7d9b-fa6e-4b5e-eaf9-5e0635c22021"
   },
   "outputs": [
    {
     "name": "stdout",
     "output_type": "stream",
     "text": [
      "\n",
      "Number of entities in KB: 3\n",
      "Number of aliases in KB: 2\n"
     ]
    }
   ],
   "source": [
    "from spacy.kb import KnowledgeBase\n",
    "\n",
    "# load the model and create an empty KB\n",
    "nlp = spacy.load('en_core_web_sm')\n",
    "kb = KnowledgeBase(vocab=nlp.vocab, entity_vector_length=3)\n",
    "\n",
    "# adding entities\n",
    "kb.add_entity(entity=\"Q1004791\", freq=6, entity_vector=[0, 3, 5])\n",
    "kb.add_entity(entity=\"Q42\", freq=342, entity_vector=[1, 9, -3])\n",
    "kb.add_entity(entity=\"Q5301561\", freq=12, entity_vector=[-2, 4, 2])\n",
    "\n",
    "# adding aliases\n",
    "kb.add_alias(alias=\"Douglas\", entities=[\"Q1004791\", \"Q42\", \"Q5301561\"], probabilities=[0.6, 0.1, 0.2])\n",
    "kb.add_alias(alias=\"Douglas Adams\", entities=[\"Q42\"], probabilities=[0.9])\n",
    "\n",
    "print()\n",
    "print(\"Number of entities in KB:\",kb.get_size_entities()) # 3\n",
    "print(\"Number of aliases in KB:\", kb.get_size_aliases()) # 2"
   ]
  },
  {
   "cell_type": "code",
   "execution_count": null,
   "metadata": {
    "id": "EtyV5KBuj4WL"
   },
   "outputs": [],
   "source": []
  }
 ],
 "metadata": {
  "colab": {
   "collapsed_sections": [],
   "name": "Copy of SpaCy.ipynb",
   "provenance": []
  },
  "kernelspec": {
   "display_name": "Python 3",
   "language": "python",
   "name": "python3"
  },
  "language_info": {
   "codemirror_mode": {
    "name": "ipython",
    "version": 3
   },
   "file_extension": ".py",
   "mimetype": "text/x-python",
   "name": "python",
   "nbconvert_exporter": "python",
   "pygments_lexer": "ipython3",
   "version": "3.8.3"
  }
 },
 "nbformat": 4,
 "nbformat_minor": 1
}
