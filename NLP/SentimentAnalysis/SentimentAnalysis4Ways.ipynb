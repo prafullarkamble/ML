{
 "cells": [
  {
   "cell_type": "code",
   "execution_count": null,
   "id": "e3ac934a",
   "metadata": {},
   "outputs": [],
   "source": [
    "# 1. TextBlob"
   ]
  },
  {
   "cell_type": "code",
   "execution_count": 1,
   "id": "1cb4c103",
   "metadata": {},
   "outputs": [],
   "source": [
    "from textblob import TextBlob\n",
    "from textblob.sentiments import NaiveBayesAnalyzer, PatternAnalyzer"
   ]
  },
  {
   "cell_type": "code",
   "execution_count": 3,
   "id": "e6a5737e",
   "metadata": {},
   "outputs": [],
   "source": [
    "text = 'Apple is a very succcessful company due to its visionary leadership team. They have a very bright future'"
   ]
  },
  {
   "cell_type": "code",
   "execution_count": 5,
   "id": "ad512f92",
   "metadata": {},
   "outputs": [
    {
     "data": {
      "text/plain": [
       "Sentiment(polarity=0.24625000000000002, subjectivity=0.45)"
      ]
     },
     "execution_count": 5,
     "metadata": {},
     "output_type": "execute_result"
    }
   ],
   "source": [
    "blob = TextBlob(text)\n",
    "blob.sentiment"
   ]
  },
  {
   "cell_type": "code",
   "execution_count": 10,
   "id": "d6414853",
   "metadata": {},
   "outputs": [
    {
     "data": {
      "text/plain": [
       "Sentiment(classification='pos', p_pos=0.8980227173699891, p_neg=0.10197728263001006)"
      ]
     },
     "execution_count": 10,
     "metadata": {},
     "output_type": "execute_result"
    }
   ],
   "source": [
    "blob = TextBlob(text, analyzer=NaiveBayesAnalyzer())\n",
    "blob.sentiment"
   ]
  },
  {
   "cell_type": "code",
   "execution_count": 11,
   "id": "fd2c9410",
   "metadata": {},
   "outputs": [
    {
     "data": {
      "text/plain": [
       "Sentiment(classification='pos', p_pos=0.8054351294202905, p_neg=0.1945648705797093)"
      ]
     },
     "execution_count": 11,
     "metadata": {},
     "output_type": "execute_result"
    }
   ],
   "source": [
    "text = 'There is a lockdown in Delhi due to covid19 pandemic'\n",
    "blob = TextBlob(text, analyzer=NaiveBayesAnalyzer())\n",
    "blob.sentiment"
   ]
  },
  {
   "cell_type": "code",
   "execution_count": 15,
   "id": "49e2a123",
   "metadata": {},
   "outputs": [
    {
     "data": {
      "text/plain": [
       "Sentiment(polarity=-0.125, subjectivity=0.375)"
      ]
     },
     "execution_count": 15,
     "metadata": {},
     "output_type": "execute_result"
    }
   ],
   "source": [
    "# w/o patternAnalyzer parameter\n",
    "\n",
    "blob = TextBlob(text)\n",
    "blob.sentiment"
   ]
  },
  {
   "cell_type": "code",
   "execution_count": 16,
   "id": "9fa242ce",
   "metadata": {},
   "outputs": [
    {
     "data": {
      "text/plain": [
       "Sentiment(polarity=-0.125, subjectivity=0.375)"
      ]
     },
     "execution_count": 16,
     "metadata": {},
     "output_type": "execute_result"
    }
   ],
   "source": [
    "blob = TextBlob(text, analyzer=PatternAnalyzer())\n",
    "blob.sentiment"
   ]
  },
  {
   "cell_type": "code",
   "execution_count": null,
   "id": "14dbb914",
   "metadata": {},
   "outputs": [],
   "source": []
  },
  {
   "cell_type": "code",
   "execution_count": 17,
   "id": "56b8f2c4",
   "metadata": {},
   "outputs": [],
   "source": [
    "# 2. Word-Dictionary based"
   ]
  },
  {
   "cell_type": "code",
   "execution_count": 18,
   "id": "b2dd9599",
   "metadata": {},
   "outputs": [],
   "source": [
    "# http://mpqa.cs.pitt.edu/lexicons/subj_lexicon/"
   ]
  },
  {
   "cell_type": "code",
   "execution_count": 38,
   "id": "3ef96a95",
   "metadata": {},
   "outputs": [
    {
     "data": {
      "text/html": [
       "<div>\n",
       "<style scoped>\n",
       "    .dataframe tbody tr th:only-of-type {\n",
       "        vertical-align: middle;\n",
       "    }\n",
       "\n",
       "    .dataframe tbody tr th {\n",
       "        vertical-align: top;\n",
       "    }\n",
       "\n",
       "    .dataframe thead th {\n",
       "        text-align: right;\n",
       "    }\n",
       "</style>\n",
       "<table border=\"1\" class=\"dataframe\">\n",
       "  <thead>\n",
       "    <tr style=\"text-align: right;\">\n",
       "      <th></th>\n",
       "      <th>type=weaksubj len=1 word1=abandoned pos1=adj stemmed1=n priorpolarity=negative</th>\n",
       "    </tr>\n",
       "  </thead>\n",
       "  <tbody>\n",
       "    <tr>\n",
       "      <th>0</th>\n",
       "      <td>type=weaksubj len=1 word1=abandonment pos1=nou...</td>\n",
       "    </tr>\n",
       "    <tr>\n",
       "      <th>1</th>\n",
       "      <td>type=weaksubj len=1 word1=abandon pos1=verb st...</td>\n",
       "    </tr>\n",
       "    <tr>\n",
       "      <th>2</th>\n",
       "      <td>type=strongsubj len=1 word1=abase pos1=verb st...</td>\n",
       "    </tr>\n",
       "    <tr>\n",
       "      <th>3</th>\n",
       "      <td>type=strongsubj len=1 word1=abasement pos1=any...</td>\n",
       "    </tr>\n",
       "    <tr>\n",
       "      <th>4</th>\n",
       "      <td>type=strongsubj len=1 word1=abash pos1=verb st...</td>\n",
       "    </tr>\n",
       "    <tr>\n",
       "      <th>5</th>\n",
       "      <td>type=weaksubj len=1 word1=abate pos1=verb stem...</td>\n",
       "    </tr>\n",
       "    <tr>\n",
       "      <th>6</th>\n",
       "      <td>type=weaksubj len=1 word1=abdicate pos1=verb s...</td>\n",
       "    </tr>\n",
       "    <tr>\n",
       "      <th>7</th>\n",
       "      <td>type=strongsubj len=1 word1=aberration pos1=ad...</td>\n",
       "    </tr>\n",
       "    <tr>\n",
       "      <th>8</th>\n",
       "      <td>type=strongsubj len=1 word1=aberration pos1=no...</td>\n",
       "    </tr>\n",
       "    <tr>\n",
       "      <th>9</th>\n",
       "      <td>type=strongsubj len=1 word1=abhor pos1=anypos ...</td>\n",
       "    </tr>\n",
       "  </tbody>\n",
       "</table>\n",
       "</div>"
      ],
      "text/plain": [
       "  type=weaksubj len=1 word1=abandoned pos1=adj stemmed1=n priorpolarity=negative\n",
       "0  type=weaksubj len=1 word1=abandonment pos1=nou...                            \n",
       "1  type=weaksubj len=1 word1=abandon pos1=verb st...                            \n",
       "2  type=strongsubj len=1 word1=abase pos1=verb st...                            \n",
       "3  type=strongsubj len=1 word1=abasement pos1=any...                            \n",
       "4  type=strongsubj len=1 word1=abash pos1=verb st...                            \n",
       "5  type=weaksubj len=1 word1=abate pos1=verb stem...                            \n",
       "6  type=weaksubj len=1 word1=abdicate pos1=verb s...                            \n",
       "7  type=strongsubj len=1 word1=aberration pos1=ad...                            \n",
       "8  type=strongsubj len=1 word1=aberration pos1=no...                            \n",
       "9  type=strongsubj len=1 word1=abhor pos1=anypos ...                            "
      ]
     },
     "execution_count": 38,
     "metadata": {},
     "output_type": "execute_result"
    }
   ],
   "source": [
    "import pandas as pd\n",
    "\n",
    "f = 'subjectivity_clues_hltemnlp05/subjclueslen1-HLTEMNLP05.tff'\n",
    "df = pd.read_csv(f)\n",
    "df.head(10)"
   ]
  },
  {
   "cell_type": "code",
   "execution_count": 29,
   "id": "4b5bf18e",
   "metadata": {},
   "outputs": [
    {
     "name": "stdout",
     "output_type": "stream",
     "text": [
      "Total positive word count 2718\n",
      "Total negative word count 4911\n",
      "['abidance', 'abide', 'abilities', 'ability', 'able', 'above', 'above-average', 'abound', 'absolve']\n"
     ]
    }
   ],
   "source": [
    "pos_words = []\n",
    "neg_words = []\n",
    "\n",
    "# Ignoring neutral, both and other polarities\n",
    "\n",
    "with open('subjectivity_clues_hltemnlp05/subjclueslen1-HLTEMNLP05.tff') as file:\n",
    "    for line in file:\n",
    "        line_attrib = line.split()\n",
    "        word = line_attrib[2].split('=')[1] # 2nd column in the file\n",
    "        polarity = line_attrib[-1].split('=')[1] # last column in the file\n",
    "        \n",
    "        if polarity == 'positive':\n",
    "            pos_words.append(word)\n",
    "        elif polarity == 'negative':\n",
    "            neg_words.append(word)\n",
    "\n",
    "print(\"Total positive word count\", len(pos_words))\n",
    "print(\"Total negative word count\", len(neg_words))\n",
    "print(pos_words[1:10])\n",
    "\n",
    "with open('pos_words.txt', mode='wt',encoding='utf-8') as myfile:\n",
    "    myfile.write('\\n'.join(pos_words))\n",
    "    \n",
    "with open('neg_words.txt', mode='wt',encoding='utf-8') as myfile:\n",
    "    myfile.write(\"\\n\".join(neg_words))"
   ]
  },
  {
   "cell_type": "code",
   "execution_count": 40,
   "id": "8a13866b",
   "metadata": {},
   "outputs": [],
   "source": [
    "# Add any positive/ negative words\n",
    "pos_word_add = ['lifted']\n",
    "\n",
    "for w in pos_word_add:\n",
    "    pos_words.append(w)\n",
    "    \n",
    "neg_word_add = ['covid', 'lockdown']\n",
    "for w in neg_word_add:\n",
    "    neg_words.append(w)"
   ]
  },
  {
   "cell_type": "code",
   "execution_count": 41,
   "id": "46e91eac",
   "metadata": {},
   "outputs": [],
   "source": [
    "# Calculate sentiments based on word-dictionary"
   ]
  },
  {
   "cell_type": "code",
   "execution_count": 60,
   "id": "a6676823",
   "metadata": {},
   "outputs": [],
   "source": [
    "import nltk\n",
    "\n",
    "def calc_sentiment_based_on_word_dict(text):\n",
    "    sentiment_score = 0\n",
    "    words = nltk.word_tokenize(text)\n",
    "    \n",
    "    for word in words:\n",
    "        if word in pos_words:\n",
    "            print('pos: ', word)\n",
    "            print('len: ', len(word))\n",
    "            sentiment_score = sentiment_score + 1\n",
    "            print('sentiment_score: ', sentiment_score)\n",
    "        if word in neg_words:\n",
    "            print('neg: ', word)\n",
    "            sentiment_score = sentiment_score - 1\n",
    "    return sentiment_score/ len(words)\n",
    "\n",
    "        "
   ]
  },
  {
   "cell_type": "code",
   "execution_count": 63,
   "id": "a712b0f0",
   "metadata": {},
   "outputs": [
    {
     "name": "stdout",
     "output_type": "stream",
     "text": [
      "neg:  lockdown\n",
      "neg:  covid\n"
     ]
    },
    {
     "data": {
      "text/plain": [
       "-0.3333333333333333"
      ]
     },
     "execution_count": 63,
     "metadata": {},
     "output_type": "execute_result"
    }
   ],
   "source": [
    "calc_sentiment_based_on_word_dict(\"This lockdown was caused by covid\")"
   ]
  },
  {
   "cell_type": "code",
   "execution_count": 64,
   "id": "533c38ac",
   "metadata": {},
   "outputs": [
    {
     "name": "stdout",
     "output_type": "stream",
     "text": [
      "neg:  lockdown\n",
      "pos:  lifted\n",
      "len:  6\n",
      "sentiment_score:  0\n"
     ]
    },
    {
     "data": {
      "text/plain": [
       "0.0"
      ]
     },
     "execution_count": 64,
     "metadata": {},
     "output_type": "execute_result"
    }
   ],
   "source": [
    "calc_sentiment_based_on_word_dict(\"This lockdown is now lifted\")"
   ]
  },
  {
   "cell_type": "code",
   "execution_count": 66,
   "id": "acb5baec",
   "metadata": {},
   "outputs": [
    {
     "name": "stdout",
     "output_type": "stream",
     "text": [
      "neg:  lockdown\n",
      "pos:  lifted\n",
      "len:  6\n",
      "sentiment_score:  0\n",
      "neg:  covid\n"
     ]
    },
    {
     "data": {
      "text/plain": [
       "-0.1"
      ]
     },
     "execution_count": 66,
     "metadata": {},
     "output_type": "execute_result"
    }
   ],
   "source": [
    "calc_sentiment_based_on_word_dict(\"This lockdown is now lifted which \\\n",
    "                                  was caused by covid\")"
   ]
  },
  {
   "cell_type": "code",
   "execution_count": null,
   "id": "c05decef",
   "metadata": {},
   "outputs": [],
   "source": []
  },
  {
   "cell_type": "code",
   "execution_count": 67,
   "id": "75070d30",
   "metadata": {},
   "outputs": [],
   "source": [
    "# 3. custom trained classifier"
   ]
  },
  {
   "cell_type": "code",
   "execution_count": 68,
   "id": "f5a5a2f6",
   "metadata": {},
   "outputs": [
    {
     "name": "stderr",
     "output_type": "stream",
     "text": [
      "C:\\Users\\PRAFUL~1.KAM\\AppData\\Local\\Temp/ipykernel_11112/1748307071.py:2: FutureWarning: Passing a negative integer is deprecated in version 1.0 and will not be supported in future version. Instead, use None to not limit the column width.\n",
      "  pd.set_option('display.max_colwidth', -1)\n"
     ]
    },
    {
     "data": {
      "text/html": [
       "<div>\n",
       "<style scoped>\n",
       "    .dataframe tbody tr th:only-of-type {\n",
       "        vertical-align: middle;\n",
       "    }\n",
       "\n",
       "    .dataframe tbody tr th {\n",
       "        vertical-align: top;\n",
       "    }\n",
       "\n",
       "    .dataframe thead th {\n",
       "        text-align: right;\n",
       "    }\n",
       "</style>\n",
       "<table border=\"1\" class=\"dataframe\">\n",
       "  <thead>\n",
       "    <tr style=\"text-align: right;\">\n",
       "      <th></th>\n",
       "      <th>id</th>\n",
       "      <th>text</th>\n",
       "      <th>class</th>\n",
       "      <th>url</th>\n",
       "    </tr>\n",
       "  </thead>\n",
       "  <tbody>\n",
       "    <tr>\n",
       "      <th>0</th>\n",
       "      <td>1</td>\n",
       "      <td>Target stores announced yesterday that it will permanently raise its starting wage for U.S. team members to $15 per hour. Additionally, the company will give a one-time recognition bonus of $200.00 to its frontline store and distribution center hourly workers for their efforts during the coronavirus pandemic.\\n\\nAdditionally, starting this week, Target is also offering a new healthcare benefit that provides access to free virtual healthcare visits through the end of the year, regardless of whether team members are on a Target health insurance plan. The company also announced additional extensions of a 30-day paid leave for vulnerable team members, as well as free backup care for family members.\\n\\n“In the best of times, our team brings incredible energy and empathy to our work, and in harder times they bring those qualities plus extraordinary resilience and agility to keep,” said Target CEO Brian Cornell in a statement. “Everything we aspire to do and be as a company builds on the central role our team members play.”</td>\n",
       "      <td>POS</td>\n",
       "      <td>https://www.goodnewsnetwork.org/target-raises-minimum-wage-to-15/</td>\n",
       "    </tr>\n",
       "    <tr>\n",
       "      <th>1</th>\n",
       "      <td>2</td>\n",
       "      <td>He grew up in a gentrified neighborhood with only a few African-American residents, but after confessing that he’s always felt uneasy walking alone on its streets, his faith in humanity was restored by dozens of neighbors who walked with him in solidarity.\\n\\nThe 29-year-old has lived in the 12 South neighborhood of Nashville his whole life, after his family moved there 54 years ago. But over the course of his life, Shawn Dromgoole has seen the neighborhood change dramatically.\\n\\nRising home values priced out many of the black families who lived there. As they moved out to find more affordable housing, new families moved in, most of them white and more financially well-off—leaving Shawn feeling out of place in his hometown.</td>\n",
       "      <td>POS</td>\n",
       "      <td>https://www.goodnewsnetwork.org/black-man-scared-to-walk-in-neighborhood-joined-by-75-neighbors/</td>\n",
       "    </tr>\n",
       "    <tr>\n",
       "      <th>2</th>\n",
       "      <td>3</td>\n",
       "      <td>This teenage entrepreneur is responsible for inventing a simple, yet brilliant way to help curb coronavirus infections.\\n\\n15-year-old Max Melia designed and developed a wearable wristband which alerts users whenever they are about to touch their face\\n\\nHe first came up with the brilliant idea two years ago as a means of reducing the spread of the cold and flu. After both of Max’s parents contracted COVID-19 four months ago, however, he threw all his efforts into developing a working prototype.\\n“Watching this pandemic unfold on the news, it was clear the devastating effect it was having on people lives’ across the world,” says Max. “However, it wasn’t until I saw the severity of the virus first-hand, when my parents both contracted COVID-19, did I truly appreciate just what we were dealing with.”\\n\\nThe tech-savvy English teen has since produced the VybPro, which warns users whenever they are about to subconsciously touch their face.\\n\\nThe gesture has been recognized as one of the key ways that coronavirus can be transmitted, making it a potentially live-saving invention.</td>\n",
       "      <td>POS</td>\n",
       "      <td>https://www.goodnewsnetwork.org/teen-invents-wristband-that-warns-against-touching-your-face/</td>\n",
       "    </tr>\n",
       "    <tr>\n",
       "      <th>3</th>\n",
       "      <td>4</td>\n",
       "      <td>Making catalysts to convert waste carbon dioxide into useful industrial products has been expensive and complicated – until now. Australian engineers have shown it’s as easy as playing with Lego.\\n\\nChemical engineers from UNSW Sydney have developed new technology that helps convert harmful carbon dioxide emissions into chemical building blocks to make useful industrial products like fuel and plastics.\\n\\nAnd if adopted on a large scale, the process could give the world breathing space as it transitions towards a green economy.\\n\\n\\nIn a paper published today in the journal Advanced Energy Materials, Dr Rahman Daiyan and Dr Emma Lovell from UNSW’s School of Chemical Engineering detail a way of creating nanoparticles that promote conversion of waste carbon dioxide into useful industrial components.\\n\\nThe researchers, who carried out their work in the Particles and Catalysis Research Laboratory led by Scientia Professor Rose Amal, show that by making zinc oxide at very high temperatures using a technique called flame spray pyrolysis (FSP), they can create nanoparticles which act as the catalyst for turning carbon dioxide into ‘syngas’ – a mix of hydrogen and carbon monoxide used in the manufacture of industrial products. The researchers say this method is cheaper and more scalable to the requirements of heavy industry than what is available today.</td>\n",
       "      <td>POS</td>\n",
       "      <td>https://www.goodnewsnetwork.org/engineers-convert-co2-emissions-into-chemical-building-blocks-for-fuel/</td>\n",
       "    </tr>\n",
       "    <tr>\n",
       "      <th>4</th>\n",
       "      <td>5</td>\n",
       "      <td>An Austrian farmer has experienced a trailblazing “eureka moment” on how to grow vegetables throughout the winter—and he is now teaching his technique to other European gardening communities as well.\\n\\nAccording to a recent interview with Reasons to Be Cheerful, horticulturist Wolfgang Palme says he accidentally discovered his “winter farming” technique after a batch of his Asian lettuce was left undamaged by an early frost in the vegetable fields behind his house in Lower Austria.\\n\\nThe temperature had dropped to -11º Celsius (12º Fahrenheit), and although the crop is generally frost-resistant to temperatures of -3 or so, the lettuce—and Palme’s other vegetables—had survived the cold.\\n\\nPalme, who is head of the Research Institute of Horticulture in Austria, was puzzled by the agricultural phenomenon. Upon doing some digging on why his vegetables may have survived the cold snap, the horticulturist found that the existing scientific literature on the frost-hardiness of Central European vegetables was just wrong… so he started to make it right.</td>\n",
       "      <td>POS</td>\n",
       "      <td>https://www.goodnewsnetwork.org/farmer-writes-guide-on-farming-vegetables-in-winter/</td>\n",
       "    </tr>\n",
       "    <tr>\n",
       "      <th>5</th>\n",
       "      <td>6</td>\n",
       "      <td>Some unlikely heroes in Minneapolis have raised $100,000 to support black-owned businesses and neighborhoods—and they’re only 9-years-old.\\n\\nIt all started one day when Kamryn Johnson and five of her friends were bored. So, in order to have a little bit of fun, they had the bright idea to sell some bracelets. Rather than just keep the money for themselves, Kamryn’s mom suggested it would be nice to do something positive for others—and the kids agreed. “Kamryn &amp; Friends: Bracelets for Unity and Justice” was born.\\n\\nThe kiddos hoped to make a small impact with their enterprise, but since May 30, these altruistic children have managed to raise almost $100,000.\\n\\nJust in time for Father’s Day in the U.S., Kamryn’s dad is super proud.\\n\\n“She made over $800 the first day,” her dad, former NFL player Ron Johnson, told WCCO News. “She has blisters on her fingers now; she’s been working hard.”\\n\\nSmall business owners in Minneapolis have been hit hard in recent months. First, the coronavirus pandemic shut them down for more than a month. Then, violence following the death of George Floyd resulted in damage and looting. The money raised by Kamryn and her friends will deliver welcome aid to those trying to get back on their feet.</td>\n",
       "      <td>POS</td>\n",
       "      <td>https://www.goodnewsnetwork.org/9yo-kamryn-and-friends-raise-100k-for-black-businesses/</td>\n",
       "    </tr>\n",
       "    <tr>\n",
       "      <th>6</th>\n",
       "      <td>7</td>\n",
       "      <td>Senate Republicans have introduced a large bill of police reform called the JUSTICE Act  that includes measures to improve reporting, increase penalties for officers falsifying police reports, offer funding for additional training programs in de-escalation and non-violent policing, and to create a new Criminal Justice Commission that will continually make recommendations on how to reform every level of the criminal justice system with the citizen’s safety and rights as the central consideration.\\n\\nIn the wake of everything that’s happened since George Floyd was killed in Minneapolis, Minnesota, state and now federal legislatures have been listening to the petitions of millions of Americans asking for more police accountability, less violence in policing, fewer laws which create discriminatory policing, and more.\\n\\nGood News Network has already reported on the introduction and passage of laws in both Colorado and in Kentucky that increase police accountability, and ban “no-knock” police warrants, respectively.\\n\\nAt the federal level, House Libertarian Justin Amash has introduced, along with Democratic support, a bill that would roll back the doctrine of qualified immunity, which makes it extremely difficult for a private citizen to bring a police officer up on charges for rights violations.\\n\\nThe JUSTICE Act goes quite a bit further than that, albeit in a different direction. Created by African American Senator Tim Scott (R-SC) and 46 other co-sponsors from the right side of the isle, the JUSTICE Act is a large piece of police reform with an aim to “improve and reform policing practices, accountability and transparency”.\\n\\n“Now is the time for reform,” Senator Scott said on his website. “The murder of George Floyd and its aftermath made clear from sea to shining sea that action must be taken to rebuild lost trust between communities of color and law enforcement.”</td>\n",
       "      <td>POS</td>\n",
       "      <td>https://www.goodnewsnetwork.org/new-police-reform-bill-in-the-senate-looks-to-increase-accountability-and-promote-de-escalation/</td>\n",
       "    </tr>\n",
       "    <tr>\n",
       "      <th>7</th>\n",
       "      <td>8</td>\n",
       "      <td>A commencement recording of the national anthem became so much better than a social-distancing performance when a man wandering by decided to join in with magnificent harmonies.\\n\\nPortland State University graduate Madisen Hallberg was being recorded in a public city park that runs through the campus, after the school’s decision to hold a virtual ceremony on June 14.\\n\\nSuddenly, while the video crew was recording her rendition of The Star Spangled Banner, the Oregon opera singer Emmanuel Henreid happened to walk by.\\n\\nThe classically trained singer who performs with the Portland Opera wanted to join in. It was completely serendipitous and, as you can see by the video, totally beautiful.\\n\\n“Once he started singing I immediately relaxed into the sound of his voice,” Hallberg told GNN. “His voice was so good, and I realized I was getting the chance to sing with a super talented musician!”\\n\\nHenreid, who goes by Onry, has been singing at Black Lives Matter protests trying to keep his instrument in shape as all local musical venues have been closed—and his dates with the opera company cancelled.</td>\n",
       "      <td>POS</td>\n",
       "      <td>https://www.goodnewsnetwork.org/opera-singer-joins-student-unexpectedly-for-national-anthem/</td>\n",
       "    </tr>\n",
       "    <tr>\n",
       "      <th>8</th>\n",
       "      <td>9</td>\n",
       "      <td>Prevention has been the name of the game in the coronavirus pandemic thus far. Testing has saved many lives, but there have been no known life-saving treatments for those with respiratory complications from the virus—until now.\\n\\nResearchers at Oxford University in the UK announced last week that a low-dose steroid treatment—which costs about $6 per dose and is widely available—can reduce the risk of death by one-third for patients on ventilators, and by one-fifth for those on oxygen.\\n\\n“It’s a major breakthrough,” the chief investigator, Professor of Emerging Infectious Diseases Peter Horby, told the BBC. “This is the only drug so far that has been shown to reduce mortality—and it reduces it significantly.”\\n\\nDoctors typically use the drug, called dexamethasone, to reduce inflammation in their patients. It is an effective treatment for a wide range of conditions, including asthma, arthritis, and even some skin problems. It seems to help coronavirus patients by reducing the damage of cytokine storms, a condition where the immune system goes into overdrive and attacks healthy tissue as it tries to fight the virus.\\n\\n“It is fantastic that the first treatment demonstrated to reduce mortality is one that is instantly available and affordable worldwide,” wrote Prof. Martin Landry, another lead researcher, in a press release.\\n\\nCalled the RECOVERY trial (Randomized Evaluation of COVid-19 thERapY), the study, which involved 175 hospitals across the whole of the UK, found no outstanding adverse events from the 10-day treatment given to 2104 patients in the randomized trial of over 6400 infected patients, investigators said.\\n\\n“This treatment can be given to pretty much anyone—and can be used immediately to save lives worldwide,” says Horby.</td>\n",
       "      <td>POS</td>\n",
       "      <td>https://www.goodnewsnetwork.org/dexamethasone-shown-to-reduce-covid-19-deaths-by-a-third/</td>\n",
       "    </tr>\n",
       "    <tr>\n",
       "      <th>9</th>\n",
       "      <td>10</td>\n",
       "      <td>An elephant at the Murghazar Zoo in Islamabad, is set to be freed thanks to a May 21 ruling by the Pakistan High Court.\\n\\nPop icon Cher, who advocated for four years on his behalf, calling him “the world’s loneliest elephant”, is celebrating the news.\\n\\n“THIS IS ONE OF THE GREATEST MOMENTS OF MY LIFE,” she tweeted.\\n\\nSince at least 2016, animal rights groups have worked tirelessly for the release of Kaavan, a 33-year old Asian elephant from Sri Lanka, whose only playmate died eight years ago in the zoo.\\n\\nTo facilitate the court’s ruling, Pakistan’s Islamabad Wildlife Management Board (IWMB) is working to—at last—find him a “suitable sanctuary”.\\n\\n“The pain and suffering of Kaavan must come to an end by relocating him to an appropriate elephant sanctuary,” the court wrote in its ruling.\\n\\nThe world was mobilized into action, sending petitions to the Pakistani government, after photos showed the elephant living in terrible conditions, sometimes chained.</td>\n",
       "      <td>POS</td>\n",
       "      <td>https://www.goodnewsnetwork.org/kaavan-the-elephant-wins-high-court-ruling-in-pakistan/</td>\n",
       "    </tr>\n",
       "    <tr>\n",
       "      <th>10</th>\n",
       "      <td>11</td>\n",
       "      <td>In a rare moment of bipartisanship on Capitol Hill, Democrats and Republicans in the Senate voted 73-25 to pass the Great American Outdoors Act, a funding bill that one lawmaker called the “single greatest conservation achievement in generations.”\\n\\nThe Outdoors Act creates a fund into which not less than 50% of all revenues made from energy production on public lands—from oil and gas drilling and renewables—to be dedicated to finally funding over $20 billion worth of delayed maintenance projects in America’s national parks and public lands.\\n\\n70% of the fund’s contents will go to the National Parks Service for projects in America’s national parks, encompassing over 400 places of historic, recreational, and scientific importance, from the Grand Canyon and Yellowstone to the Appomattox Courthouse and Statue of Liberty. Another 15% will go to the Forest Service, for maintenance on public lands, while 5% will be given to the Bureau of Indian Education, the Bureau of Land Management, and the Fish and Wildlife Service respectively.\\n\\nThe delaying of repairs and maintenance on things like roads, bridges, restrooms, campgrounds, and visitor centers has been mounting for years. The new legislation would also permanently authorize the Land and Water Conservation Fund (LWCF) to continue its work as the single-most successful conduit of public lands funding, which was reauthorized temporarily last year with the passage of the Natural Resources Management Act.\\n\\nIf passed by the US House of Representatives, the new law would reauthorize the Conservation Fund to the tune of $900 million every year.\\n\\nThe LWCF, like the Great American Outdoors Act funding, uses a portion of all monies made from fuel and mineral extraction on public lands, and offshore energy production, for the purpose of conserving public land and water.</td>\n",
       "      <td>POS</td>\n",
       "      <td>https://www.goodnewsnetwork.org/the-great-american-outdoors-act-of-2020/</td>\n",
       "    </tr>\n",
       "    <tr>\n",
       "      <th>11</th>\n",
       "      <td>12</td>\n",
       "      <td>In a rare moment of bipartisanship on Capitol Hill, Democrats and Republicans in the Senate voted 73-25 to pass the Great American Outdoors Act, a funding bill that one lawmaker called the “single greatest conservation achievement in generations.”\\n\\nThe Outdoors Act creates a fund into which not less than 50% of all revenues made from energy production on public lands—from oil and gas drilling and renewables—to be dedicated to finally funding over $20 billion worth of delayed maintenance projects in America’s national parks and public lands.\\n\\n70% of the fund’s contents will go to the National Parks Service for projects in America’s national parks, encompassing over 400 places of historic, recreational, and scientific importance, from the Grand Canyon and Yellowstone to the Appomattox Courthouse and Statue of Liberty. Another 15% will go to the Forest Service, for maintenance on public lands, while 5% will be given to the Bureau of Indian Education, the Bureau of Land Management, and the Fish and Wildlife Service respectively.\\n\\nThe delaying of repairs and maintenance on things like roads, bridges, restrooms, campgrounds, and visitor centers has been mounting for years. The new legislation would also permanently authorize the Land and Water Conservation Fund (LWCF) to continue its work as the single-most successful conduit of public lands funding, which was reauthorized temporarily last year with the passage of the Natural Resources Management Act.\\n\\nIf passed by the US House of Representatives, the new law would reauthorize the Conservation Fund to the tune of $900 million every year.\\n\\nThe LWCF, like the Great American Outdoors Act funding, uses a portion of all monies made from fuel and mineral extraction on public lands, and offshore energy production, for the purpose of conserving public land and water.</td>\n",
       "      <td>POS</td>\n",
       "      <td>https://www.goodnewsnetwork.org/the-great-american-outdoors-act-of-2020/</td>\n",
       "    </tr>\n",
       "    <tr>\n",
       "      <th>12</th>\n",
       "      <td>13</td>\n",
       "      <td>“Life is a practice in improv,” says a Quebec college senior who won a scholarship for her candid musings on the theme ‘How the coronavirus affected my final semester.’\\n\\nThe contest, sponsored by greatergood.org, invited high school and college seniors to record a selfie video that answers the question: How did the coronavirus change your senior year? Participants included 379 students worldwide in 49 countries, but it was a 19-year-old film student who stole the hearts of judges in The “Class of 2020” Challenge.\\n\\nGraduating from John Abbott College, April Judd used humor and creative edits to depict what life was like moving back in with her family and missing the chance to say goodbye to all her friends at the arts college.\\n\\nHer inspiring message details how the class of 2020 can use this experience to their advantage and “mold the universe into the future they want to see”.\\n\\nThe pandemic of crisis actually caused April to see the beauty in what our world is going through.\\n\\n“I don’t want to go back to the way things were… I want to have a heightened appreciation for all the things that make life full.”\\n\\nThe Shawville, Quebec graduate told GNN, “In the chaos that our world is experiencing right now, it’s really easy to get caught up in the negative.”\\n\\n“Listening to other people’s submissions and hearing about the unique experiences other girls have gone through this year as graduates is inspiring.”</td>\n",
       "      <td>POS</td>\n",
       "      <td>https://www.goodnewsnetwork.org/watch-teens-graduation-advice-for-class-of-2020-that-won-1st-prize/</td>\n",
       "    </tr>\n",
       "    <tr>\n",
       "      <th>13</th>\n",
       "      <td>14</td>\n",
       "      <td>A white Tennessee police deputy was left awestruck earlier this week when he was surprised with an anonymous gesture of kindness from two black women.\\n\\nDeputy Jody McDowell of the Sumner County Sheriff’s Department had stopped at a Cracker Barrel for breakfast when the good deed took place.\\n\\nWhen it was time to pay for his meal, he discovered that the women had already taken care of the bill—and they left him a message that read: “BLM [Black Lives Matter], but so does yours! Thank you for your service. Breakfast paid.”\\n\\nMcDowell later published a photo of the note to Facebook hoping it would reach the women. “I want to thank the two sweet black ladies who paid for my breakfast this morning,” he wrote.\\nAlthough the women left before anyone had a chance to get their names, they were reportedly waiting to board a flight home to Baltimore, Maryland from the nearby airport.\\n\\nSince McDowell posted the photo to social media, thousands of people have expressed their appreciation over the sweet message.\\n\\n“This post made me feel that there is hope for our country after all,” read one of the comments.\\n</td>\n",
       "      <td>POS</td>\n",
       "      <td>https://www.goodnewsnetwork.org/deputy-thanks-black-women-for-act-of-kindness/</td>\n",
       "    </tr>\n",
       "    <tr>\n",
       "      <th>14</th>\n",
       "      <td>15</td>\n",
       "      <td>Consumer Reports warned that bottled water made by Whole Foods contains \"potentially harmful levels of arsenic,\" amounting to three times the level of the chemical compared to other brands.\\n\\nThe consumer watchdog group said Wednesday that Starkey Spring Water had \"concerning levels of arsenic,\" ranging from 9.49 to 9.56 parts per billion. Federal regulations limits the amount of arsenic to 10 parts per billion, although Consumer Reports has been pushing it to be lowered to 3 parts per billion for safety and health reasons.\\nAlthough drinking a single bottle of the in-house brand isn't harmful, regular consumption of \"even small amounts of the heavy metal over extended periods increases the risk of cardiovascular disease, certain cancers, and lower IQ scores in children,\" Consumer Reports said.\\nIn response, Whole Foods said that Starkey water meets \"all FDA requirements and are fully compliant with FDA standards for heavy metals.\"\\n\"Beyond the required annual testing by an FDA certified lab, we have an accredited third-party lab test every production run of water before it is sold,\" a Whole Foods spokesperson said in a statement to CNN Business.</td>\n",
       "      <td>NEG</td>\n",
       "      <td>https://www.cnn.com/2020/06/24/business/whole-foods-arsenic-water-consumer-reports-wellness/index.html</td>\n",
       "    </tr>\n",
       "    <tr>\n",
       "      <th>15</th>\n",
       "      <td>16</td>\n",
       "      <td>The death in police custody of a father and son arrested last Friday for keeping their mobile phone shop in Tuticorin open beyond permitted hours has led to anger across Tamil Nadu. Shops in the state will be shut tomorrow in protest against what the family of father-son pair alleges was police brutality in jail.  \\nFamily members of the store owners - Jayaraj and his son Pennis -- have refused to accept their bodies after the post-mortem last night. They allege that there were injuries to the rectum and other tell-tale signs of torture on the two bodies, and have demanded murder charges against the policemen involved.\\n\\n\"It's a twin murder. There has been inexplicable torture, which as a woman I can't even describe. We will not collect the bodies until murder cases are filed against them (police),\" said Jayaraj's daughter  Persis. \\n\\nJayaraj and his son, who ran a mobile phone store in Santhankulam, were arrested on Friday. \\n\\nAccording to a First Information Report filed on the basis of a police complaint, the two men rolled on the ground and that is how they suffered internal injuries. They were also accused of throwing abuses at the police and threatening to kill them. Charges against them include criminal intimidation, defiance and abuse.\\n\\nThe family alleges that the men were kept in the police station all night and tortured till the next morning, when they were to appear before a Magistrate. \\n\\nAt the sub-jail where the store owners were kept, Pennis, the son, first complained of chest pain. He died in hospital. His father, who complained of severe fever, was also shifted to hospital, where he died. Tuticorin police chief Arun Balagopalan told NDTV: \"We have ordered a probe\".</td>\n",
       "      <td>NEG</td>\n",
       "      <td>https://www.ndtv.com/tamil-nadu-news/anger-in-tamil-nadu-after-tuticorin-men-jayaraj-his-son-pennis-die-in-police-custody-2252082?pfrom=home-topscroll</td>\n",
       "    </tr>\n",
       "    <tr>\n",
       "      <th>16</th>\n",
       "      <td>17</td>\n",
       "      <td>Seventeen people were shot, one fatally, Wednesday in Chicago.\\n\\nA man was shot dead and two others were wounded at a party at a Chatham home on the South Side, Chicago police said.\\n\\nA witness told investigators he left the party to go to sleep in an upstairs bedroom when he heard gunfire on the first floor of the home in the 8000 block of South Stewart Avenue, police said\\n\\nThe witness found a man on the living room floor with a gunshot wound to his head, police said. Police responded shortly after 5 a.m. and found the man dead, along with several shell casings in the room.\\n\\nThe Cook County medical examiner’s office identified him as 20-year-old Jessie D. Gregory. He lived in Fernwood.\\n\\nA 20-year-old woman was shot in the leg, police said. She was treated and released from St. Bernard’s Hospital.\\n\\nAn 18-year-old man took himself to Trinity Hospital with gunshots to his arm and abdomen, police said. He was transferred in fair condition to the University of Chicago Medical Center.\\n\\nIn non-fatal shootings, a man was hurt in Bridgeport on the South Side.\\n\\nHe was on the sidewalk about 10:15 p.m. in the 3200 block of South Lituanica Avenue when a male approached and unleashed gunfire, police said. The 27-year-old was struck in the leg and taken to Mercy Hospital in good condition.</td>\n",
       "      <td>NEG</td>\n",
       "      <td>https://www.fox32chicago.com/news/17-shot-1-fatally-wednesday-in-chicago</td>\n",
       "    </tr>\n",
       "    <tr>\n",
       "      <th>17</th>\n",
       "      <td>18</td>\n",
       "      <td>A Schaumburg man was allegedly high on benzodiazepines and cannabis Sunday when he lost control of his car and hit a utility pole in Gresham, killing his passenger, according to prosecutors.\\n\\nStephen Nolan, 26, was accelerating in the oncoming lanes at a red light at Halsted and 85th street and didn’t attempt to slow down before crashing, Cook County Assistant State’s Attorney Kevin Deboni said Tuesday in a livestreamed bail hearing.\\n\\nNolan’s car went 180 degrees around the pole before stopping, Deboni said.\\n\\nA witness found Nolan unconscious and locked in his vehicle, and tried yelling and banging on the door to wake him, Deboni said. He eventually woke up, stepped out of the car and wandered away momentarily, Deboni said.\\n\\nMeanwhile, Nolan’s passenger, 26-year-old Caleb White, died in the passenger seat, officials said.\\n\\nNolan was hospitalized for observation and DUI testing, which found he had benzodiazepines and cannabinoids in his blood, Deboni said. Blood tests have not yet ruled how much THC was in his body.\\n\\nThe car’s black box revealed that Nolan was accelerating the entire time before the crash, and had reached 48 mph in a 30 mph zone, Deboni said. Officers allegedly found $4,581 in cash inside the vehicle.\\n\\nNolan, who was allegedly driving on a suspended license, faces a charge of reckless homicide and DUI.\\n\\nHis criminal history includes a 2017 DUI arrest in Las Vegas, Deboni said. In 2015, Nolan was cited for driving without a suspended license.\\n\\nNolan’s private attorney, Irving Federman, said the victim of the crash was a “good friend” of Nolan’s.\\n\\nNolan lives with his mother in Schaumburg, works maintenance at his godfather’s properties and was shot in his hand when he was 18 years old, Federman said. A graduate of South Shore High School, Nolan has six children, he said.</td>\n",
       "      <td>NEG</td>\n",
       "      <td>https://www.fox32chicago.com/news/driver-was-allegedly-high-on-benzos-cannabis-in-crash-that-killed-good-friend-prosecutors</td>\n",
       "    </tr>\n",
       "    <tr>\n",
       "      <th>18</th>\n",
       "      <td>19</td>\n",
       "      <td>Chicago saw its highest number of gun violence victims in a single weekend this year with 104 people shot across the city from Friday evening to Monday morning, 15 of them fatally. Five of those killed were minors.\\n\\nThe weekend saw more shooting victims but less fatalities than the last weekend of May, when 85 people were shot, 24 of them fatally — Chicago’s most deadly weekend in years.\\n\\nIn a Sunday news conference, Chicago Police Supt. David Brown reflected on the surge in gun violence. “Bullets don’t just tear apart the things they strike,” Brown said. “Bullets also tear apart families. Bullets destroy neighborhoods and they ruin any sense of safety in a community.”\\n\\nFive children killed\\n\\nThe latest child fatality happened early Monday in Austin on the West Side.\\n\\nTwo boys, 15 and 16, were walking in an alley at 12:18 a.m. in the 4700 block of West Superior Street when someone fired at them, possibly from a gray sedan, according to Chicago police. The 15-year-old was shot in his leg, chest and abdomen. He was taken to Stroger Hospital and pronounced dead. The other boy, 16, was hit in the ankle and also taken to Stroger. He was in fair condition.\\n\\nSaturday night, a 13-year-old girl was killed and two other teens were wounded in Austin on the West Side.\\n\\nThe girl was inside a home about 8:30 p.m. in the 1000 block of North LeClaire Avenue when the shots were fired, and she was struck in the neck, police said. Amaria J. Jones was taken to Stroger, where she was pronounced dead, authorities said.\\n\\nTwo boys, 15 and 16, were sitting on a porch when one of them noticed a red laser pointing at him and heard gunfire, police said. The younger boy was struck in the back and the older boy was struck in the leg. They were taken to Mt. Sinai Hospital in good condition.</td>\n",
       "      <td>NEG</td>\n",
       "      <td>https://www.fox32chicago.com/news/104-shot-15-fatally-over-fathers-day-weekend-in-chicago</td>\n",
       "    </tr>\n",
       "    <tr>\n",
       "      <th>19</th>\n",
       "      <td>20</td>\n",
       "      <td>The death in police custody of a father and son arrested last Friday for keeping their mobile phone shop in Tuticorin open beyond permitted hours has led to anger across Tamil Nadu. Shops in the state will be shut tomorrow in protest against what the family of father-son pair alleges was police brutality in jail.  \\nFamily members of the store owners - Jayaraj and his son Pennis -- have refused to accept their bodies after the post-mortem last night. They allege that there were injuries to the rectum and other tell-tale signs of torture on the two bodies, and have demanded murder charges against the policemen involved.\\n\\n\"It's a twin murder. There has been inexplicable torture, which as a woman I can't even describe. We will not collect the bodies until murder cases are filed against them (police),\" said Jayaraj's daughter  Persis. \\n\\nJayaraj and his son, who ran a mobile phone store in Santhankulam, were arrested on Friday. \\n\\nAccording to a First Information Report filed on the basis of a police complaint, the two men rolled on the ground and that is how they suffered internal injuries. They were also accused of throwing abuses at the police and threatening to kill them. Charges against them include criminal intimidation, defiance and abuse.\\n\\nThe family alleges that the men were kept in the police station all night and tortured till the next morning, when they were to appear before a Magistrate. \\n\\nAt the sub-jail where the store owners were kept, Pennis, the son, first complained of chest pain. He died in hospital. His father, who complained of severe fever, was also shifted to hospital, where he died. Tuticorin police chief Arun Balagopalan told NDTV: \"We have ordered a probe\".\\n\\nThe Madurai bench of the Madras High Court, which took up the case, has ordered a post-mortem by three government doctors, which will be videographed.\\n\\nChief Minister E Palaniswami, who heads the police force, has announced Rs 20 lakh to each family and a government job for a family member.\\n\\nThough he condoled the deaths, his statement was silent on the allegations of police torture. The government, he says, will abide by the High Court order.\\n\\nOpposition DMK MP Kanimozhi, who represents Tuticorin, has complained to the police chief and demanded action.\\n\\nHuman Rights group People's Watch has even pointed fingers at the Magistrate. Henri Tiphagne of the group says: \"Our enquiry sadly reveals the Judicial Magistrate had not personally met the men before they were remanded. They were hidden in the van. This is contrary to law. Had he met them, they could have narrated what happened and showed the injuries as a result of torture\".\\n\\nA few years ago, the police in Tuticorin came under scrutiny over firing that killed 13 anti-Sterlite protestors.</td>\n",
       "      <td>NEG</td>\n",
       "      <td>https://www.ndtv.com/tamil-nadu-news/anger-in-tamil-nadu-after-tuticorin-men-jayaraj-his-son-pennis-die-in-police-custody-2252082?pfrom=home-topscroll</td>\n",
       "    </tr>\n",
       "    <tr>\n",
       "      <th>20</th>\n",
       "      <td>21</td>\n",
       "      <td>Clear, blue skies are turning brown.\\n\\nA historic Saharan dust plume that blanketed the Caribbean over the weekend is now sweeping toward the Gulf Coast.\\n\\nThe densest plume of dust developed off Western Africa and has traveled nearly 5,000 miles across the Atlantic Ocean.\\n\\nAccording to the National Oceanic &amp; Atmospheric Administration, the plume of dusty air is likely to reach the United States by Thursday morning, bringing dust particles to the Southern United States.\\n\\nRELATED: Sahara dust blankets Caribbean, air quality hazardous\\n\\nThis dust is expected to stretch from Florida to the Gulf coast to as far west as Texas, and this is likely to cause a deterioration in air quality for sections of the U.S.\\n\\nAccording to Sonoma Tech Meteorologist Jeff Beamish, model runs show that this dust is predicted to cause impacts for Texas and Louisiana Thursday, potentially spreading into the central and eastern U.S. by Saturday.\\nThe densest plume of dust developed off Western Africa and has traveled nearly 5,000 miles across the Atlantic Ocean.\\n\\nAccording to the National Oceanic &amp; Atmospheric Administration, the plume of dusty air is likely to reach the United States by Thursday morning, bringing dust particles to the Southern United States.\\n\\nRELATED: Sahara dust blankets Caribbean, air quality hazardous\\n\\nThis dust is expected to stretch from Florida to the Gulf coast to as far west as Texas, and this is likely to cause a deterioration in air quality for sections of the U.S.\\n\\nAccording to Sonoma Tech Meteorologist Jeff Beamish, model runs show that this dust is predicted to cause impacts for Texas and Louisiana Thursday, potentially spreading into the central and eastern U.S. by Saturday.\\n\\nA Saharan Air Layer (or SAL) is a mass of dry and dusty air, which forms over the Sahara Desert and moves over the North Atlantic.\\n\\nAccording to NOAA, this dry layer of air usually travels about one mile above the ocean surface. The extremely dry air can inhibit tropical cyclones and activity.\\n</td>\n",
       "      <td>NEG</td>\n",
       "      <td>https://www.fox32chicago.com/news/massive-saharan-dust-plume-will-reach-us-thursday-heres-what-you-need-to-know</td>\n",
       "    </tr>\n",
       "    <tr>\n",
       "      <th>21</th>\n",
       "      <td>22</td>\n",
       "      <td>A 12-year-old girl was shot Thursday while playing outside in West Englewood on the South Side.\\n\\nAbout 1:15 a.m., the girl was playing on the sidewalk on South Wolcott Avenue when someone in a white SUV started shooting, Chicago police said.\\n\\nThe girl was struck in the lower back and taken to Comer Children’s Hospital in good condition, police said.\\n\\nNo one is in custody as Area One detectives investigate.</td>\n",
       "      <td>NEG</td>\n",
       "      <td>https://www.fox32chicago.com/news/girl-12-shot-in-west-englewood</td>\n",
       "    </tr>\n",
       "    <tr>\n",
       "      <th>22</th>\n",
       "      <td>23</td>\n",
       "      <td>A concealed-carry holder critically wounded a gunman during a shootout Wednesday in Little Village on the Southwest Side, according to police.\\n\\nA 24-year-old man was in the yard of a home about 9:15 p.m. in the 2400 block of South Kedvale Avenue when another man approached from the sidewalk and opened fire, Chicago police said.\\n\\nThe 24-year-old returned fire, striking the man multiple times throughout the body, police said. The man, 23, ran and was later taken to Mount Sinai Hospital in critical condition.\\n\\nA weapon was found in the area where the younger man ran off to, police said.\\n\\nThe 24-year-old is a concealed-carry license holder and gave statements to Area Four detectives about the shooting, police said</td>\n",
       "      <td>NEG</td>\n",
       "      <td>https://www.fox32chicago.com/news/concealed-carry-holder-shoots-gunman-in-little-village-police</td>\n",
       "    </tr>\n",
       "    <tr>\n",
       "      <th>23</th>\n",
       "      <td>24</td>\n",
       "      <td>Police are asking the community for help identifying a suspect in connection with the beating death of a business owner in suburban New Lenox.\\n\\nThe man, described as having a large beard, is considered a suspect in the attack of Wayne Deutsch, 39, the Will County sheriff’s office said in a statement.\\n\\nOn June 12, Deutsch, owner of Shades of Darkness Window Tinting at 13957 W. Illinois Highway, told deputies that the man had come into the store asking for a refund on a previous tinting job, the sheriff’s office said.\\n\\nThe pair exchanged words and the man left the store only to come back moments later and start a physical altercation with Deutsch, the sheriff’s office said. The man beat Deutsch as he fell to the floor and he drove off in a dark-colored Chrysler 300 with tinted windows.\\n\\nDeutsch, of Orland Park, refused medical treatment at the scene and didn’t identify the suspect to detectives who spoke to him after the attack, the sheriff’s office said.\\n\\nHis injuries worsened and he was hospitalized on June 14, the sheriff’s office said. He died at Palos Community Hospital on June 17.\\n\\nAn autopsy found he died of an accumulation of blood in his chest caused by broken ribs from an assault, the Cook County medical examiner’s office said. His death was ruled a homicide.\\n\\nAnyone with information is asked to call the Will County sheriff’s office at 815-727-8574.</td>\n",
       "      <td>NEG</td>\n",
       "      <td>https://www.fox32chicago.com/news/police-looking-for-suspect-in-beating-death-of-suburban-business-owner</td>\n",
       "    </tr>\n",
       "    <tr>\n",
       "      <th>24</th>\n",
       "      <td>25</td>\n",
       "      <td>Chicago police are searching for a person who allegedly shot and killed two teenage boys Saturday in South Chicago.\\n\\nThe shooting, which happened about 5:10 p.m. on South Luella Avenue, left 17-year-old Jasean Francis and 16-year-old Charles Riley dead.\\nPolice say the shooter was a male in a black Puma hoodie wearing ripped, faded jeans and one shoe on his left foot.\\n\\nAnyone with information is asked to call Area Two detectives at\\n</td>\n",
       "      <td>NEG</td>\n",
       "      <td>https://www.fox32chicago.com/news/police-release-images-of-person-wanted-for-slaying-of-2-teens-in-south-chicago</td>\n",
       "    </tr>\n",
       "    <tr>\n",
       "      <th>25</th>\n",
       "      <td>26</td>\n",
       "      <td>In one of the shocking incidents, a man after killing his wife in Bengaluru flew to Kolkata and shot dead his mother-in-law on Monday (June 22) and later committed suicide by shooting himself. \\n\\nReportedly, Amit Agarwal aged 42 who is a son-in-law of Subhas and Lalita Dhandhania came to his in-law's flat at RK Samadhi Road in Kolkata around 5:30 PM on Monday and started arguing with them. \\n\\nAmit's mother-in-law tried to quell his anger, whose relationship with her wife Shilpi had soured from the past 2 years and a divorce suit was also pending.\\n\\nHe then shot his mother-in-law during the argument. \\n\\nHis father-in-law survived as he somehow locked the room and sought help from the Phoolbagan Police Station.\\n\\nPolice rushed to the place and entered the flat where Amit was found dead in a pool of blood and a firearm was also recovered from the spot. \\n\\nA suicide note was found where it was mentioned that he had killed his wife in Bengaluru before coming to Kolkata.\\n\\nKolkata Police immediately contacted the DCP of Whitefield in Bengaluru who hurried to the mentioned spot and found the dead body of Amit's wife.\\n\\nDCP of Whitefield said, \"One Amit Agarwal s/o Muralidhar Agarwal has killed his mother-in-law and thereafter committed suicide in Kolkata today. Based on information received from the Kolkata Police, the Mahadevpura Police personnel went to the apartment occupied by Mrs Shilpi Agarwal wife of Amit Agarwal. When she did not open the door, the lock was broken open. The dead body of the Shilpi Agarwal was found lying on the floor of the kitchen next to a cupboard.\"\\n\\n\"Prima facie it looks like she has been murdered but is subject to official confirmation by post mortem. A note allegedly written by Amit Agarwal has been found in the apartment. A case of murder has been taken up at Mahadevpura PS and investigation has started,\" added DCP.</td>\n",
       "      <td>NEG</td>\n",
       "      <td>https://zeenews.india.com/karnataka/man-kills-wife-in-bengaluru-flies-to-kolkata-murders-mother-in-law-and-commits-suicide-2291393.html</td>\n",
       "    </tr>\n",
       "    <tr>\n",
       "      <th>26</th>\n",
       "      <td>27</td>\n",
       "      <td>A man has been arrested on suspicion of murder after his wife was bitten by a cobra in her sleep, police in India have said.\\n\\nThe suspect, named as Sooraj, allegedly kept the highly venomous snake in a glass bottle before throwing it at his partner Uthra on 6 May as she slept.\\n\\nPolice added Sooraj, who is said to be 27, had tried to killed his 25-year-old wife with a viper in March but she recovered in hospital.\\n\\nThe couple, whose full names have not been reported by police or Indian news outlets, lived in the southern state of Kerala.\\n\\nThey had a one-year-old child, according to The News Minute website in the country.\\n\\nUthra was reportedly staying at her parents' home in the city of Kollam when Sooraj visited her allegedly with the cobra hidden in a glass bottle.\\n\\nHari Sankar, the district police chief of Kollam Rural Police in Kerala, said the force has the bottle and will use it as evidence.</td>\n",
       "      <td>NEG</td>\n",
       "      <td>https://news.sky.com/story/india-man-arrested-on-suspicion-of-murder-after-wife-dies-from-cobra-bite-in-kerala-11994929</td>\n",
       "    </tr>\n",
       "    <tr>\n",
       "      <th>27</th>\n",
       "      <td>28</td>\n",
       "      <td>A new study by Duke University show a substantial increase in heat-related fatalities in Texas by the year 2100 given the current rate of greenhouse gas emissions. These heat-trapping gases are contributing to the rise in global temperatures, a shifting climate and, as a result, more extreme heat events.\\n\\nHeat is the #1 weather killer\\nOn average, heat is the deadliest weather hazard here in the U.S., killing an estimated 12,000 people every year. That’s more than hurricanes and tornadoes combined.\\n\\nAs noted in the study, hospitals and health care providers do not always report heat-related illnesses or heat as an underlying cause of a death, making it hard to measure the actual impact of extreme heat on health.\\n\\nEffects of climate change\\nWith increased emissions of greenhouse gases (via industry, transportation, electricity, etc.) more heat is being trapped in the atmosphere. Think of greenhouse gases as a blanket around Earth — increase the concentration of those gases (thicker blanket), more heat gets trapped and the Earth warms. The temperature of our Earth is in fact rising. Since 1880, the global average surface temperature has risen 2 degrees Fahrenheit – a major feat considering how much heat the ocean can absorb and how much is reflected back into space.\\n\\nAccording to the study performed by Duke University, heat-related deaths are projected to increase by 9,300 by the year 2100 if no cut in current greenhouse emissions is made. This surpasses initial projections made by the National Climate Assessment in 2018 by a factor of 10. That number drops to 3,900 fatalities by 2100 only if the warming is limited to 3.6 degrees Fahrenheit (+1.6 degrees).\\n\\nGiven Texas’ population of close to 30 million people and a rate of over 200 deaths per million, this would put our state on track to see over 5,800 people dying from heat-related causes annually, 80 years from now. (In 2019, just over 700 people died from heat-related causes in Texas.)\\n\\nComplications with COVID-19\\nResearch shows that over 80% of those dying from a heat-related cause are over the age of 60. Unfortunately, the same population more susceptible to heat-related illness/death is the same population more susceptible to COVID-19. Given the ongoing pandemic, the concern for the elderly rises as many are forgoing visits or wellness checks in an effort to social distance. In addition, the loss of jobs due to COVID-19 may put a strain on affording utilities like air conditioning.</td>\n",
       "      <td>NEG</td>\n",
       "      <td>https://www.kxan.com/weather/heat-related-fatalities-projected-to-significantly-increase-with-climate-change/</td>\n",
       "    </tr>\n",
       "    <tr>\n",
       "      <th>28</th>\n",
       "      <td>29</td>\n",
       "      <td>Stocks fell sharply on Wednesday as the increasing number of newly confirmed coronavirus cases dampened expectations of an economic recovery.\\n\\nThe Dow Jones Industrial Average dropped 710.16 points, or 2.7%, to 25,445.94. The S&amp;P 500 closed 2.6% lower at 3,050.33 while the Nasdaq Composite slid 2.2% to 9,909.17. The tech-heavy Nasdaq posted its first daily decline in nine sessions.  It was the worst day for the Dow, S&amp;P 500 and Nasdaq since June 11.\\n\\nFlorida said its confirmed cases jumped by 5,508 on Tuesday, a record, and now total 109,014. The state also said its positivity rate rose to 15.91% from 10.82%. Stocks fell to their session lows after Florida reported its latest case figures.  At one point, the Dow had fallen more than 800 points on Wednesday.\\n\\nCalifornia is one of the states that has also seen a dramatic spike in cases, adding a record of more than 7,000 in one day on Tuesday. In Texas, the Covid-19 number of Covid-19 cases jumped by 5,489. Meanwhile, New York, New Jersey and Connecticut ordered visitors from certain hotspot states to quarantine for 14 days.\\n\\n“The latest coronavirus news is not positive for the stock market which was betting the worst of the pandemic recession was behind us,” said Chris Rupkey, chief financial economist at MUFG. “All the hopes of investors looking for a better economy to improve the bottom lines of companies shut down in the recession have been dashed. Forget about the fears of the virus coming back in the fall, the number of new cases and hospitalizations in states like Arizona, Texas, and Florida says the threat is happening right now.”\\n\\nShares of companies primed to benefit from the economy reopening faltered. United Airlines fell 8.3%. Delta, American and Southwest all slid over 7%. Airlines were especially hit by the quarantine orders issued by New York, New Jersey and Connecticut. \\n\\n“It’s definitely the reason for the last leg down. Airline stocks and transports are down, and oil tanked,” said Peter Boockvar, chief investment officer at Bleakley Advisory Group. “The regional quarantine sparked concerns about a dampening of activity as the economy in the region is just reopening.”\\n\\nCarnival, Norwegian Cruise Line and Royal Caribbean were lower by 11.1%, 12.4% and 11.3%, respectively. Retailer Gap also fell 7.8%. Disney, meanwhile, declined by 3.9% after its Orlando theme-park workers petitioned to postpone the reopening amid the spike in cases in Florida. \\n</td>\n",
       "      <td>NEG</td>\n",
       "      <td>https://www.cnbc.com/2020/06/23/stock-market-futures-open-to-close-news.html</td>\n",
       "    </tr>\n",
       "    <tr>\n",
       "      <th>29</th>\n",
       "      <td>30</td>\n",
       "      <td>SFPD names India Palace attack a hate crime\\nThe Santa Fe Police Department is investigating the recent vandalism at downtown restaurant India Palace as a hate crime and the department \"is aggressively pursuing those responsible for this disgusting display of hatred and intolerance,\" a new release issued Tuesday afternoon stated. Additionally, Deputy Chief Paul Joye tells SFR police are considering possible connections between this incident and the vandalism that defaced the Plaza obelisk. Police believe both crimes occurred in the same time frame overnight on Sunday, June 21. According to Joye, police are collecting surveillance videos from the area, but have not released any information about potential suspects or leads.The FBI also has offered its assistance with the investigation into unlawful entry, criminal damage and vandalism; restaurant owner Bajit Singh made a report with the FBI shortly after discovering the crime.</td>\n",
       "      <td>NEG</td>\n",
       "      <td>https://www.sfreporter.com/news/2020/06/24/sfpd-calls-india-palace-attack-a-hate-crime/</td>\n",
       "    </tr>\n",
       "  </tbody>\n",
       "</table>\n",
       "</div>"
      ],
      "text/plain": [
       "    id  \\\n",
       "0   1    \n",
       "1   2    \n",
       "2   3    \n",
       "3   4    \n",
       "4   5    \n",
       "5   6    \n",
       "6   7    \n",
       "7   8    \n",
       "8   9    \n",
       "9   10   \n",
       "10  11   \n",
       "11  12   \n",
       "12  13   \n",
       "13  14   \n",
       "14  15   \n",
       "15  16   \n",
       "16  17   \n",
       "17  18   \n",
       "18  19   \n",
       "19  20   \n",
       "20  21   \n",
       "21  22   \n",
       "22  23   \n",
       "23  24   \n",
       "24  25   \n",
       "25  26   \n",
       "26  27   \n",
       "27  28   \n",
       "28  29   \n",
       "29  30   \n",
       "\n",
       "                                                                                                                                                                                                                                                                                                                                                                                                                                                                                                                                                                                                                                                                                                                                                                                                                                                                                                                                                                                                                                                                                                                                                                                                                                                                                                                                                                                                                                                                                                                                                                                                                                                                                                                                                                                                                                                                                                                                                                                                                                                                                                                                                                                                                                                                                                                                                                                                                                                                                                                                                                                                                                                                                                                                                                                                                                                                                                 text  \\\n",
       "0   Target stores announced yesterday that it will permanently raise its starting wage for U.S. team members to $15 per hour. Additionally, the company will give a one-time recognition bonus of $200.00 to its frontline store and distribution center hourly workers for their efforts during the coronavirus pandemic.\\n\\nAdditionally, starting this week, Target is also offering a new healthcare benefit that provides access to free virtual healthcare visits through the end of the year, regardless of whether team members are on a Target health insurance plan. The company also announced additional extensions of a 30-day paid leave for vulnerable team members, as well as free backup care for family members.\\n\\n“In the best of times, our team brings incredible energy and empathy to our work, and in harder times they bring those qualities plus extraordinary resilience and agility to keep,” said Target CEO Brian Cornell in a statement. “Everything we aspire to do and be as a company builds on the central role our team members play.”                                                                                                                                                                                                                                                                                                                                                                                                                                                                                                                                                                                                                                                                                                                                                                                                                                                                                                                                                                                                                                                                                                                                                                                                                                                                                                                                                                                                                                                                                                                                                                                                                                                                                                                                                                                                                            \n",
       "1   He grew up in a gentrified neighborhood with only a few African-American residents, but after confessing that he’s always felt uneasy walking alone on its streets, his faith in humanity was restored by dozens of neighbors who walked with him in solidarity.\\n\\nThe 29-year-old has lived in the 12 South neighborhood of Nashville his whole life, after his family moved there 54 years ago. But over the course of his life, Shawn Dromgoole has seen the neighborhood change dramatically.\\n\\nRising home values priced out many of the black families who lived there. As they moved out to find more affordable housing, new families moved in, most of them white and more financially well-off—leaving Shawn feeling out of place in his hometown.                                                                                                                                                                                                                                                                                                                                                                                                                                                                                                                                                                                                                                                                                                                                                                                                                                                                                                                                                                                                                                                                                                                                                                                                                                                                                                                                                                                                                                                                                                                                                                                                                                                                                                                                                                                                                                                                                                                                                                                                                                                                                                                                      \n",
       "2   This teenage entrepreneur is responsible for inventing a simple, yet brilliant way to help curb coronavirus infections.\\n\\n15-year-old Max Melia designed and developed a wearable wristband which alerts users whenever they are about to touch their face\\n\\nHe first came up with the brilliant idea two years ago as a means of reducing the spread of the cold and flu. After both of Max’s parents contracted COVID-19 four months ago, however, he threw all his efforts into developing a working prototype.\\n“Watching this pandemic unfold on the news, it was clear the devastating effect it was having on people lives’ across the world,” says Max. “However, it wasn’t until I saw the severity of the virus first-hand, when my parents both contracted COVID-19, did I truly appreciate just what we were dealing with.”\\n\\nThe tech-savvy English teen has since produced the VybPro, which warns users whenever they are about to subconsciously touch their face.\\n\\nThe gesture has been recognized as one of the key ways that coronavirus can be transmitted, making it a potentially live-saving invention.                                                                                                                                                                                                                                                                                                                                                                                                                                                                                                                                                                                                                                                                                                                                                                                                                                                                                                                                                                                                                                                                                                                                                                                                                                                                                                                                                                                                                                                                                                                                                                                                                                                                                                                                                                 \n",
       "3   Making catalysts to convert waste carbon dioxide into useful industrial products has been expensive and complicated – until now. Australian engineers have shown it’s as easy as playing with Lego.\\n\\nChemical engineers from UNSW Sydney have developed new technology that helps convert harmful carbon dioxide emissions into chemical building blocks to make useful industrial products like fuel and plastics.\\n\\nAnd if adopted on a large scale, the process could give the world breathing space as it transitions towards a green economy.\\n\\n\\nIn a paper published today in the journal Advanced Energy Materials, Dr Rahman Daiyan and Dr Emma Lovell from UNSW’s School of Chemical Engineering detail a way of creating nanoparticles that promote conversion of waste carbon dioxide into useful industrial components.\\n\\nThe researchers, who carried out their work in the Particles and Catalysis Research Laboratory led by Scientia Professor Rose Amal, show that by making zinc oxide at very high temperatures using a technique called flame spray pyrolysis (FSP), they can create nanoparticles which act as the catalyst for turning carbon dioxide into ‘syngas’ – a mix of hydrogen and carbon monoxide used in the manufacture of industrial products. The researchers say this method is cheaper and more scalable to the requirements of heavy industry than what is available today.                                                                                                                                                                                                                                                                                                                                                                                                                                                                                                                                                                                                                                                                                                                                                                                                                                                                                                                                                                                                                                                                                                                                                                                                                                                                                                                                                                                                                                                                            \n",
       "4   An Austrian farmer has experienced a trailblazing “eureka moment” on how to grow vegetables throughout the winter—and he is now teaching his technique to other European gardening communities as well.\\n\\nAccording to a recent interview with Reasons to Be Cheerful, horticulturist Wolfgang Palme says he accidentally discovered his “winter farming” technique after a batch of his Asian lettuce was left undamaged by an early frost in the vegetable fields behind his house in Lower Austria.\\n\\nThe temperature had dropped to -11º Celsius (12º Fahrenheit), and although the crop is generally frost-resistant to temperatures of -3 or so, the lettuce—and Palme’s other vegetables—had survived the cold.\\n\\nPalme, who is head of the Research Institute of Horticulture in Austria, was puzzled by the agricultural phenomenon. Upon doing some digging on why his vegetables may have survived the cold snap, the horticulturist found that the existing scientific literature on the frost-hardiness of Central European vegetables was just wrong… so he started to make it right.                                                                                                                                                                                                                                                                                                                                                                                                                                                                                                                                                                                                                                                                                                                                                                                                                                                                                                                                                                                                                                                                                                                                                                                                                                                                                                                                                                                                                                                                                                                                                                                                                                                                                                                                                                                              \n",
       "5   Some unlikely heroes in Minneapolis have raised $100,000 to support black-owned businesses and neighborhoods—and they’re only 9-years-old.\\n\\nIt all started one day when Kamryn Johnson and five of her friends were bored. So, in order to have a little bit of fun, they had the bright idea to sell some bracelets. Rather than just keep the money for themselves, Kamryn’s mom suggested it would be nice to do something positive for others—and the kids agreed. “Kamryn & Friends: Bracelets for Unity and Justice” was born.\\n\\nThe kiddos hoped to make a small impact with their enterprise, but since May 30, these altruistic children have managed to raise almost $100,000.\\n\\nJust in time for Father’s Day in the U.S., Kamryn’s dad is super proud.\\n\\n“She made over $800 the first day,” her dad, former NFL player Ron Johnson, told WCCO News. “She has blisters on her fingers now; she’s been working hard.”\\n\\nSmall business owners in Minneapolis have been hit hard in recent months. First, the coronavirus pandemic shut them down for more than a month. Then, violence following the death of George Floyd resulted in damage and looting. The money raised by Kamryn and her friends will deliver welcome aid to those trying to get back on their feet.                                                                                                                                                                                                                                                                                                                                                                                                                                                                                                                                                                                                                                                                                                                                                                                                                                                                                                                                                                                                                                                                                                                                                                                                                                                                                                                                                                                                                                                                                                                                                                                                          \n",
       "6   Senate Republicans have introduced a large bill of police reform called the JUSTICE Act  that includes measures to improve reporting, increase penalties for officers falsifying police reports, offer funding for additional training programs in de-escalation and non-violent policing, and to create a new Criminal Justice Commission that will continually make recommendations on how to reform every level of the criminal justice system with the citizen’s safety and rights as the central consideration.\\n\\nIn the wake of everything that’s happened since George Floyd was killed in Minneapolis, Minnesota, state and now federal legislatures have been listening to the petitions of millions of Americans asking for more police accountability, less violence in policing, fewer laws which create discriminatory policing, and more.\\n\\nGood News Network has already reported on the introduction and passage of laws in both Colorado and in Kentucky that increase police accountability, and ban “no-knock” police warrants, respectively.\\n\\nAt the federal level, House Libertarian Justin Amash has introduced, along with Democratic support, a bill that would roll back the doctrine of qualified immunity, which makes it extremely difficult for a private citizen to bring a police officer up on charges for rights violations.\\n\\nThe JUSTICE Act goes quite a bit further than that, albeit in a different direction. Created by African American Senator Tim Scott (R-SC) and 46 other co-sponsors from the right side of the isle, the JUSTICE Act is a large piece of police reform with an aim to “improve and reform policing practices, accountability and transparency”.\\n\\n“Now is the time for reform,” Senator Scott said on his website. “The murder of George Floyd and its aftermath made clear from sea to shining sea that action must be taken to rebuild lost trust between communities of color and law enforcement.”                                                                                                                                                                                                                                                                                                                                                                                                                                                                                                                                                                                                                                                                                                                                                                                                                                                                                                                         \n",
       "7   A commencement recording of the national anthem became so much better than a social-distancing performance when a man wandering by decided to join in with magnificent harmonies.\\n\\nPortland State University graduate Madisen Hallberg was being recorded in a public city park that runs through the campus, after the school’s decision to hold a virtual ceremony on June 14.\\n\\nSuddenly, while the video crew was recording her rendition of The Star Spangled Banner, the Oregon opera singer Emmanuel Henreid happened to walk by.\\n\\nThe classically trained singer who performs with the Portland Opera wanted to join in. It was completely serendipitous and, as you can see by the video, totally beautiful.\\n\\n“Once he started singing I immediately relaxed into the sound of his voice,” Hallberg told GNN. “His voice was so good, and I realized I was getting the chance to sing with a super talented musician!”\\n\\nHenreid, who goes by Onry, has been singing at Black Lives Matter protests trying to keep his instrument in shape as all local musical venues have been closed—and his dates with the opera company cancelled.                                                                                                                                                                                                                                                                                                                                                                                                                                                                                                                                                                                                                                                                                                                                                                                                                                                                                                                                                                                                                                                                                                                                                                                                                                                                                                                                                                                                                                                                                                                                                                                                                                                                                                                                            \n",
       "8   Prevention has been the name of the game in the coronavirus pandemic thus far. Testing has saved many lives, but there have been no known life-saving treatments for those with respiratory complications from the virus—until now.\\n\\nResearchers at Oxford University in the UK announced last week that a low-dose steroid treatment—which costs about $6 per dose and is widely available—can reduce the risk of death by one-third for patients on ventilators, and by one-fifth for those on oxygen.\\n\\n“It’s a major breakthrough,” the chief investigator, Professor of Emerging Infectious Diseases Peter Horby, told the BBC. “This is the only drug so far that has been shown to reduce mortality—and it reduces it significantly.”\\n\\nDoctors typically use the drug, called dexamethasone, to reduce inflammation in their patients. It is an effective treatment for a wide range of conditions, including asthma, arthritis, and even some skin problems. It seems to help coronavirus patients by reducing the damage of cytokine storms, a condition where the immune system goes into overdrive and attacks healthy tissue as it tries to fight the virus.\\n\\n“It is fantastic that the first treatment demonstrated to reduce mortality is one that is instantly available and affordable worldwide,” wrote Prof. Martin Landry, another lead researcher, in a press release.\\n\\nCalled the RECOVERY trial (Randomized Evaluation of COVid-19 thERapY), the study, which involved 175 hospitals across the whole of the UK, found no outstanding adverse events from the 10-day treatment given to 2104 patients in the randomized trial of over 6400 infected patients, investigators said.\\n\\n“This treatment can be given to pretty much anyone—and can be used immediately to save lives worldwide,” says Horby.                                                                                                                                                                                                                                                                                                                                                                                                                                                                                                                                                                                                                                                                                                                                                                                                                                                                                                                                                                                                                                                            \n",
       "9   An elephant at the Murghazar Zoo in Islamabad, is set to be freed thanks to a May 21 ruling by the Pakistan High Court.\\n\\nPop icon Cher, who advocated for four years on his behalf, calling him “the world’s loneliest elephant”, is celebrating the news.\\n\\n“THIS IS ONE OF THE GREATEST MOMENTS OF MY LIFE,” she tweeted.\\n\\nSince at least 2016, animal rights groups have worked tirelessly for the release of Kaavan, a 33-year old Asian elephant from Sri Lanka, whose only playmate died eight years ago in the zoo.\\n\\nTo facilitate the court’s ruling, Pakistan’s Islamabad Wildlife Management Board (IWMB) is working to—at last—find him a “suitable sanctuary”.\\n\\n“The pain and suffering of Kaavan must come to an end by relocating him to an appropriate elephant sanctuary,” the court wrote in its ruling.\\n\\nThe world was mobilized into action, sending petitions to the Pakistani government, after photos showed the elephant living in terrible conditions, sometimes chained.                                                                                                                                                                                                                                                                                                                                                                                                                                                                                                                                                                                                                                                                                                                                                                                                                                                                                                                                                                                                                                                                                                                                                                                                                                                                                                                                                                                                                                                                                                                                                                                                                                                                                                                                                                                                                                                                                        \n",
       "10  In a rare moment of bipartisanship on Capitol Hill, Democrats and Republicans in the Senate voted 73-25 to pass the Great American Outdoors Act, a funding bill that one lawmaker called the “single greatest conservation achievement in generations.”\\n\\nThe Outdoors Act creates a fund into which not less than 50% of all revenues made from energy production on public lands—from oil and gas drilling and renewables—to be dedicated to finally funding over $20 billion worth of delayed maintenance projects in America’s national parks and public lands.\\n\\n70% of the fund’s contents will go to the National Parks Service for projects in America’s national parks, encompassing over 400 places of historic, recreational, and scientific importance, from the Grand Canyon and Yellowstone to the Appomattox Courthouse and Statue of Liberty. Another 15% will go to the Forest Service, for maintenance on public lands, while 5% will be given to the Bureau of Indian Education, the Bureau of Land Management, and the Fish and Wildlife Service respectively.\\n\\nThe delaying of repairs and maintenance on things like roads, bridges, restrooms, campgrounds, and visitor centers has been mounting for years. The new legislation would also permanently authorize the Land and Water Conservation Fund (LWCF) to continue its work as the single-most successful conduit of public lands funding, which was reauthorized temporarily last year with the passage of the Natural Resources Management Act.\\n\\nIf passed by the US House of Representatives, the new law would reauthorize the Conservation Fund to the tune of $900 million every year.\\n\\nThe LWCF, like the Great American Outdoors Act funding, uses a portion of all monies made from fuel and mineral extraction on public lands, and offshore energy production, for the purpose of conserving public land and water.                                                                                                                                                                                                                                                                                                                                                                                                                                                                                                                                                                                                                                                                                                                                                                                                                                                                                                                                                                                \n",
       "11  In a rare moment of bipartisanship on Capitol Hill, Democrats and Republicans in the Senate voted 73-25 to pass the Great American Outdoors Act, a funding bill that one lawmaker called the “single greatest conservation achievement in generations.”\\n\\nThe Outdoors Act creates a fund into which not less than 50% of all revenues made from energy production on public lands—from oil and gas drilling and renewables—to be dedicated to finally funding over $20 billion worth of delayed maintenance projects in America’s national parks and public lands.\\n\\n70% of the fund’s contents will go to the National Parks Service for projects in America’s national parks, encompassing over 400 places of historic, recreational, and scientific importance, from the Grand Canyon and Yellowstone to the Appomattox Courthouse and Statue of Liberty. Another 15% will go to the Forest Service, for maintenance on public lands, while 5% will be given to the Bureau of Indian Education, the Bureau of Land Management, and the Fish and Wildlife Service respectively.\\n\\nThe delaying of repairs and maintenance on things like roads, bridges, restrooms, campgrounds, and visitor centers has been mounting for years. The new legislation would also permanently authorize the Land and Water Conservation Fund (LWCF) to continue its work as the single-most successful conduit of public lands funding, which was reauthorized temporarily last year with the passage of the Natural Resources Management Act.\\n\\nIf passed by the US House of Representatives, the new law would reauthorize the Conservation Fund to the tune of $900 million every year.\\n\\nThe LWCF, like the Great American Outdoors Act funding, uses a portion of all monies made from fuel and mineral extraction on public lands, and offshore energy production, for the purpose of conserving public land and water.                                                                                                                                                                                                                                                                                                                                                                                                                                                                                                                                                                                                                                                                                                                                                                                                                                                                                                                                                                                \n",
       "12  “Life is a practice in improv,” says a Quebec college senior who won a scholarship for her candid musings on the theme ‘How the coronavirus affected my final semester.’\\n\\nThe contest, sponsored by greatergood.org, invited high school and college seniors to record a selfie video that answers the question: How did the coronavirus change your senior year? Participants included 379 students worldwide in 49 countries, but it was a 19-year-old film student who stole the hearts of judges in The “Class of 2020” Challenge.\\n\\nGraduating from John Abbott College, April Judd used humor and creative edits to depict what life was like moving back in with her family and missing the chance to say goodbye to all her friends at the arts college.\\n\\nHer inspiring message details how the class of 2020 can use this experience to their advantage and “mold the universe into the future they want to see”.\\n\\nThe pandemic of crisis actually caused April to see the beauty in what our world is going through.\\n\\n“I don’t want to go back to the way things were… I want to have a heightened appreciation for all the things that make life full.”\\n\\nThe Shawville, Quebec graduate told GNN, “In the chaos that our world is experiencing right now, it’s really easy to get caught up in the negative.”\\n\\n“Listening to other people’s submissions and hearing about the unique experiences other girls have gone through this year as graduates is inspiring.”                                                                                                                                                                                                                                                                                                                                                                                                                                                                                                                                                                                                                                                                                                                                                                                                                                                                                                                                                                                                                                                                                                                                                                                                                                                                                                                                                                                                        \n",
       "13  A white Tennessee police deputy was left awestruck earlier this week when he was surprised with an anonymous gesture of kindness from two black women.\\n\\nDeputy Jody McDowell of the Sumner County Sheriff’s Department had stopped at a Cracker Barrel for breakfast when the good deed took place.\\n\\nWhen it was time to pay for his meal, he discovered that the women had already taken care of the bill—and they left him a message that read: “BLM [Black Lives Matter], but so does yours! Thank you for your service. Breakfast paid.”\\n\\nMcDowell later published a photo of the note to Facebook hoping it would reach the women. “I want to thank the two sweet black ladies who paid for my breakfast this morning,” he wrote.\\nAlthough the women left before anyone had a chance to get their names, they were reportedly waiting to board a flight home to Baltimore, Maryland from the nearby airport.\\n\\nSince McDowell posted the photo to social media, thousands of people have expressed their appreciation over the sweet message.\\n\\n“This post made me feel that there is hope for our country after all,” read one of the comments.\\n                                                                                                                                                                                                                                                                                                                                                                                                                                                                                                                                                                                                                                                                                                                                                                                                                                                                                                                                                                                                                                                                                                                                                                                                                                                                                                                                                                                                                                                                                                                                                                                                                                                                                                                                    \n",
       "14  Consumer Reports warned that bottled water made by Whole Foods contains \"potentially harmful levels of arsenic,\" amounting to three times the level of the chemical compared to other brands.\\n\\nThe consumer watchdog group said Wednesday that Starkey Spring Water had \"concerning levels of arsenic,\" ranging from 9.49 to 9.56 parts per billion. Federal regulations limits the amount of arsenic to 10 parts per billion, although Consumer Reports has been pushing it to be lowered to 3 parts per billion for safety and health reasons.\\nAlthough drinking a single bottle of the in-house brand isn't harmful, regular consumption of \"even small amounts of the heavy metal over extended periods increases the risk of cardiovascular disease, certain cancers, and lower IQ scores in children,\" Consumer Reports said.\\nIn response, Whole Foods said that Starkey water meets \"all FDA requirements and are fully compliant with FDA standards for heavy metals.\"\\n\"Beyond the required annual testing by an FDA certified lab, we have an accredited third-party lab test every production run of water before it is sold,\" a Whole Foods spokesperson said in a statement to CNN Business.                                                                                                                                                                                                                                                                                                                                                                                                                                                                                                                                                                                                                                                                                                                                                                                                                                                                                                                                                                                                                                                                                                                                                                                                                                                                                                                                                                                                                                                                                                                                                                                                                                                                                       \n",
       "15  The death in police custody of a father and son arrested last Friday for keeping their mobile phone shop in Tuticorin open beyond permitted hours has led to anger across Tamil Nadu. Shops in the state will be shut tomorrow in protest against what the family of father-son pair alleges was police brutality in jail.  \\nFamily members of the store owners - Jayaraj and his son Pennis -- have refused to accept their bodies after the post-mortem last night. They allege that there were injuries to the rectum and other tell-tale signs of torture on the two bodies, and have demanded murder charges against the policemen involved.\\n\\n\"It's a twin murder. There has been inexplicable torture, which as a woman I can't even describe. We will not collect the bodies until murder cases are filed against them (police),\" said Jayaraj's daughter  Persis. \\n\\nJayaraj and his son, who ran a mobile phone store in Santhankulam, were arrested on Friday. \\n\\nAccording to a First Information Report filed on the basis of a police complaint, the two men rolled on the ground and that is how they suffered internal injuries. They were also accused of throwing abuses at the police and threatening to kill them. Charges against them include criminal intimidation, defiance and abuse.\\n\\nThe family alleges that the men were kept in the police station all night and tortured till the next morning, when they were to appear before a Magistrate. \\n\\nAt the sub-jail where the store owners were kept, Pennis, the son, first complained of chest pain. He died in hospital. His father, who complained of severe fever, was also shifted to hospital, where he died. Tuticorin police chief Arun Balagopalan told NDTV: \"We have ordered a probe\".                                                                                                                                                                                                                                                                                                                                                                                                                                                                                                                                                                                                                                                                                                                                                                                                                                                                                                                                                                                                                                                                                                                \n",
       "16  Seventeen people were shot, one fatally, Wednesday in Chicago.\\n\\nA man was shot dead and two others were wounded at a party at a Chatham home on the South Side, Chicago police said.\\n\\nA witness told investigators he left the party to go to sleep in an upstairs bedroom when he heard gunfire on the first floor of the home in the 8000 block of South Stewart Avenue, police said\\n\\nThe witness found a man on the living room floor with a gunshot wound to his head, police said. Police responded shortly after 5 a.m. and found the man dead, along with several shell casings in the room.\\n\\nThe Cook County medical examiner’s office identified him as 20-year-old Jessie D. Gregory. He lived in Fernwood.\\n\\nA 20-year-old woman was shot in the leg, police said. She was treated and released from St. Bernard’s Hospital.\\n\\nAn 18-year-old man took himself to Trinity Hospital with gunshots to his arm and abdomen, police said. He was transferred in fair condition to the University of Chicago Medical Center.\\n\\nIn non-fatal shootings, a man was hurt in Bridgeport on the South Side.\\n\\nHe was on the sidewalk about 10:15 p.m. in the 3200 block of South Lituanica Avenue when a male approached and unleashed gunfire, police said. The 27-year-old was struck in the leg and taken to Mercy Hospital in good condition.                                                                                                                                                                                                                                                                                                                                                                                                                                                                                                                                                                                                                                                                                                                                                                                                                                                                                                                                                                                                                                                                                                                                                                                                                                                                                                                                                                                                                                                                                                                                      \n",
       "17  A Schaumburg man was allegedly high on benzodiazepines and cannabis Sunday when he lost control of his car and hit a utility pole in Gresham, killing his passenger, according to prosecutors.\\n\\nStephen Nolan, 26, was accelerating in the oncoming lanes at a red light at Halsted and 85th street and didn’t attempt to slow down before crashing, Cook County Assistant State’s Attorney Kevin Deboni said Tuesday in a livestreamed bail hearing.\\n\\nNolan’s car went 180 degrees around the pole before stopping, Deboni said.\\n\\nA witness found Nolan unconscious and locked in his vehicle, and tried yelling and banging on the door to wake him, Deboni said. He eventually woke up, stepped out of the car and wandered away momentarily, Deboni said.\\n\\nMeanwhile, Nolan’s passenger, 26-year-old Caleb White, died in the passenger seat, officials said.\\n\\nNolan was hospitalized for observation and DUI testing, which found he had benzodiazepines and cannabinoids in his blood, Deboni said. Blood tests have not yet ruled how much THC was in his body.\\n\\nThe car’s black box revealed that Nolan was accelerating the entire time before the crash, and had reached 48 mph in a 30 mph zone, Deboni said. Officers allegedly found $4,581 in cash inside the vehicle.\\n\\nNolan, who was allegedly driving on a suspended license, faces a charge of reckless homicide and DUI.\\n\\nHis criminal history includes a 2017 DUI arrest in Las Vegas, Deboni said. In 2015, Nolan was cited for driving without a suspended license.\\n\\nNolan’s private attorney, Irving Federman, said the victim of the crash was a “good friend” of Nolan’s.\\n\\nNolan lives with his mother in Schaumburg, works maintenance at his godfather’s properties and was shot in his hand when he was 18 years old, Federman said. A graduate of South Shore High School, Nolan has six children, he said.                                                                                                                                                                                                                                                                                                                                                                                                                                                                                                                                                                                                                                                                                                                                                                                                                                                                                                                                                                                        \n",
       "18  Chicago saw its highest number of gun violence victims in a single weekend this year with 104 people shot across the city from Friday evening to Monday morning, 15 of them fatally. Five of those killed were minors.\\n\\nThe weekend saw more shooting victims but less fatalities than the last weekend of May, when 85 people were shot, 24 of them fatally — Chicago’s most deadly weekend in years.\\n\\nIn a Sunday news conference, Chicago Police Supt. David Brown reflected on the surge in gun violence. “Bullets don’t just tear apart the things they strike,” Brown said. “Bullets also tear apart families. Bullets destroy neighborhoods and they ruin any sense of safety in a community.”\\n\\nFive children killed\\n\\nThe latest child fatality happened early Monday in Austin on the West Side.\\n\\nTwo boys, 15 and 16, were walking in an alley at 12:18 a.m. in the 4700 block of West Superior Street when someone fired at them, possibly from a gray sedan, according to Chicago police. The 15-year-old was shot in his leg, chest and abdomen. He was taken to Stroger Hospital and pronounced dead. The other boy, 16, was hit in the ankle and also taken to Stroger. He was in fair condition.\\n\\nSaturday night, a 13-year-old girl was killed and two other teens were wounded in Austin on the West Side.\\n\\nThe girl was inside a home about 8:30 p.m. in the 1000 block of North LeClaire Avenue when the shots were fired, and she was struck in the neck, police said. Amaria J. Jones was taken to Stroger, where she was pronounced dead, authorities said.\\n\\nTwo boys, 15 and 16, were sitting on a porch when one of them noticed a red laser pointing at him and heard gunfire, police said. The younger boy was struck in the back and the older boy was struck in the leg. They were taken to Mt. Sinai Hospital in good condition.                                                                                                                                                                                                                                                                                                                                                                                                                                                                                                                                                                                                                                                                                                                                                                                                                                                                                                                                                                                                                       \n",
       "19  The death in police custody of a father and son arrested last Friday for keeping their mobile phone shop in Tuticorin open beyond permitted hours has led to anger across Tamil Nadu. Shops in the state will be shut tomorrow in protest against what the family of father-son pair alleges was police brutality in jail.  \\nFamily members of the store owners - Jayaraj and his son Pennis -- have refused to accept their bodies after the post-mortem last night. They allege that there were injuries to the rectum and other tell-tale signs of torture on the two bodies, and have demanded murder charges against the policemen involved.\\n\\n\"It's a twin murder. There has been inexplicable torture, which as a woman I can't even describe. We will not collect the bodies until murder cases are filed against them (police),\" said Jayaraj's daughter  Persis. \\n\\nJayaraj and his son, who ran a mobile phone store in Santhankulam, were arrested on Friday. \\n\\nAccording to a First Information Report filed on the basis of a police complaint, the two men rolled on the ground and that is how they suffered internal injuries. They were also accused of throwing abuses at the police and threatening to kill them. Charges against them include criminal intimidation, defiance and abuse.\\n\\nThe family alleges that the men were kept in the police station all night and tortured till the next morning, when they were to appear before a Magistrate. \\n\\nAt the sub-jail where the store owners were kept, Pennis, the son, first complained of chest pain. He died in hospital. His father, who complained of severe fever, was also shifted to hospital, where he died. Tuticorin police chief Arun Balagopalan told NDTV: \"We have ordered a probe\".\\n\\nThe Madurai bench of the Madras High Court, which took up the case, has ordered a post-mortem by three government doctors, which will be videographed.\\n\\nChief Minister E Palaniswami, who heads the police force, has announced Rs 20 lakh to each family and a government job for a family member.\\n\\nThough he condoled the deaths, his statement was silent on the allegations of police torture. The government, he says, will abide by the High Court order.\\n\\nOpposition DMK MP Kanimozhi, who represents Tuticorin, has complained to the police chief and demanded action.\\n\\nHuman Rights group People's Watch has even pointed fingers at the Magistrate. Henri Tiphagne of the group says: \"Our enquiry sadly reveals the Judicial Magistrate had not personally met the men before they were remanded. They were hidden in the van. This is contrary to law. Had he met them, they could have narrated what happened and showed the injuries as a result of torture\".\\n\\nA few years ago, the police in Tuticorin came under scrutiny over firing that killed 13 anti-Sterlite protestors.   \n",
       "20   Clear, blue skies are turning brown.\\n\\nA historic Saharan dust plume that blanketed the Caribbean over the weekend is now sweeping toward the Gulf Coast.\\n\\nThe densest plume of dust developed off Western Africa and has traveled nearly 5,000 miles across the Atlantic Ocean.\\n\\nAccording to the National Oceanic & Atmospheric Administration, the plume of dusty air is likely to reach the United States by Thursday morning, bringing dust particles to the Southern United States.\\n\\nRELATED: Sahara dust blankets Caribbean, air quality hazardous\\n\\nThis dust is expected to stretch from Florida to the Gulf coast to as far west as Texas, and this is likely to cause a deterioration in air quality for sections of the U.S.\\n\\nAccording to Sonoma Tech Meteorologist Jeff Beamish, model runs show that this dust is predicted to cause impacts for Texas and Louisiana Thursday, potentially spreading into the central and eastern U.S. by Saturday.\\nThe densest plume of dust developed off Western Africa and has traveled nearly 5,000 miles across the Atlantic Ocean.\\n\\nAccording to the National Oceanic & Atmospheric Administration, the plume of dusty air is likely to reach the United States by Thursday morning, bringing dust particles to the Southern United States.\\n\\nRELATED: Sahara dust blankets Caribbean, air quality hazardous\\n\\nThis dust is expected to stretch from Florida to the Gulf coast to as far west as Texas, and this is likely to cause a deterioration in air quality for sections of the U.S.\\n\\nAccording to Sonoma Tech Meteorologist Jeff Beamish, model runs show that this dust is predicted to cause impacts for Texas and Louisiana Thursday, potentially spreading into the central and eastern U.S. by Saturday.\\n\\nA Saharan Air Layer (or SAL) is a mass of dry and dusty air, which forms over the Sahara Desert and moves over the North Atlantic.\\n\\nAccording to NOAA, this dry layer of air usually travels about one mile above the ocean surface. The extremely dry air can inhibit tropical cyclones and activity.\\n                                                                                                                                                                                                                                                                                                                                                                                                                                                                                                                                                                                                                                                                                                                                                                                         \n",
       "21  A 12-year-old girl was shot Thursday while playing outside in West Englewood on the South Side.\\n\\nAbout 1:15 a.m., the girl was playing on the sidewalk on South Wolcott Avenue when someone in a white SUV started shooting, Chicago police said.\\n\\nThe girl was struck in the lower back and taken to Comer Children’s Hospital in good condition, police said.\\n\\nNo one is in custody as Area One detectives investigate.                                                                                                                                                                                                                                                                                                                                                                                                                                                                                                                                                                                                                                                                                                                                                                                                                                                                                                                                                                                                                                                                                                                                                                                                                                                                                                                                                                                                                                                                                                                                                                                                                                                                                                                                                                                                                                                                                                                                                                                                                                                                                                                                                                                                                                                                                                                                                                                                                                                                     \n",
       "22   A concealed-carry holder critically wounded a gunman during a shootout Wednesday in Little Village on the Southwest Side, according to police.\\n\\nA 24-year-old man was in the yard of a home about 9:15 p.m. in the 2400 block of South Kedvale Avenue when another man approached from the sidewalk and opened fire, Chicago police said.\\n\\nThe 24-year-old returned fire, striking the man multiple times throughout the body, police said. The man, 23, ran and was later taken to Mount Sinai Hospital in critical condition.\\n\\nA weapon was found in the area where the younger man ran off to, police said.\\n\\nThe 24-year-old is a concealed-carry license holder and gave statements to Area Four detectives about the shooting, police said                                                                                                                                                                                                                                                                                                                                                                                                                                                                                                                                                                                                                                                                                                                                                                                                                                                                                                                                                                                                                                                                                                                                                                                                                                                                                                                                                                                                                                                                                                                                                                                                                                                                                                                                                                                                                                                                                                                                                                                                                                                                                                                                            \n",
       "23  Police are asking the community for help identifying a suspect in connection with the beating death of a business owner in suburban New Lenox.\\n\\nThe man, described as having a large beard, is considered a suspect in the attack of Wayne Deutsch, 39, the Will County sheriff’s office said in a statement.\\n\\nOn June 12, Deutsch, owner of Shades of Darkness Window Tinting at 13957 W. Illinois Highway, told deputies that the man had come into the store asking for a refund on a previous tinting job, the sheriff’s office said.\\n\\nThe pair exchanged words and the man left the store only to come back moments later and start a physical altercation with Deutsch, the sheriff’s office said. The man beat Deutsch as he fell to the floor and he drove off in a dark-colored Chrysler 300 with tinted windows.\\n\\nDeutsch, of Orland Park, refused medical treatment at the scene and didn’t identify the suspect to detectives who spoke to him after the attack, the sheriff’s office said.\\n\\nHis injuries worsened and he was hospitalized on June 14, the sheriff’s office said. He died at Palos Community Hospital on June 17.\\n\\nAn autopsy found he died of an accumulation of blood in his chest caused by broken ribs from an assault, the Cook County medical examiner’s office said. His death was ruled a homicide.\\n\\nAnyone with information is asked to call the Will County sheriff’s office at 815-727-8574.                                                                                                                                                                                                                                                                                                                                                                                                                                                                                                                                                                                                                                                                                                                                                                                                                                                                                                                                                                                                                                                                                                                                                                                                                                                                                                                                                                                                                                                   \n",
       "24  Chicago police are searching for a person who allegedly shot and killed two teenage boys Saturday in South Chicago.\\n\\nThe shooting, which happened about 5:10 p.m. on South Luella Avenue, left 17-year-old Jasean Francis and 16-year-old Charles Riley dead.\\nPolice say the shooter was a male in a black Puma hoodie wearing ripped, faded jeans and one shoe on his left foot.\\n\\nAnyone with information is asked to call Area Two detectives at\\n                                                                                                                                                                                                                                                                                                                                                                                                                                                                                                                                                                                                                                                                                                                                                                                                                                                                                                                                                                                                                                                                                                                                                                                                                                                                                                                                                                                                                                                                                                                                                                                                                                                                                                                                                                                                                                                                                                                                                                                                                                                                                                                                                                                                                                                                                                                                                                                                                                           \n",
       "25  In one of the shocking incidents, a man after killing his wife in Bengaluru flew to Kolkata and shot dead his mother-in-law on Monday (June 22) and later committed suicide by shooting himself. \\n\\nReportedly, Amit Agarwal aged 42 who is a son-in-law of Subhas and Lalita Dhandhania came to his in-law's flat at RK Samadhi Road in Kolkata around 5:30 PM on Monday and started arguing with them. \\n\\nAmit's mother-in-law tried to quell his anger, whose relationship with her wife Shilpi had soured from the past 2 years and a divorce suit was also pending.\\n\\nHe then shot his mother-in-law during the argument. \\n\\nHis father-in-law survived as he somehow locked the room and sought help from the Phoolbagan Police Station.\\n\\nPolice rushed to the place and entered the flat where Amit was found dead in a pool of blood and a firearm was also recovered from the spot. \\n\\nA suicide note was found where it was mentioned that he had killed his wife in Bengaluru before coming to Kolkata.\\n\\nKolkata Police immediately contacted the DCP of Whitefield in Bengaluru who hurried to the mentioned spot and found the dead body of Amit's wife.\\n\\nDCP of Whitefield said, \"One Amit Agarwal s/o Muralidhar Agarwal has killed his mother-in-law and thereafter committed suicide in Kolkata today. Based on information received from the Kolkata Police, the Mahadevpura Police personnel went to the apartment occupied by Mrs Shilpi Agarwal wife of Amit Agarwal. When she did not open the door, the lock was broken open. The dead body of the Shilpi Agarwal was found lying on the floor of the kitchen next to a cupboard.\"\\n\\n\"Prima facie it looks like she has been murdered but is subject to official confirmation by post mortem. A note allegedly written by Amit Agarwal has been found in the apartment. A case of murder has been taken up at Mahadevpura PS and investigation has started,\" added DCP.                                                                                                                                                                                                                                                                                                                                                                                                                                                                                                                                                                                                                                                                                                                                                                                                                                                                                                                                          \n",
       "26  A man has been arrested on suspicion of murder after his wife was bitten by a cobra in her sleep, police in India have said.\\n\\nThe suspect, named as Sooraj, allegedly kept the highly venomous snake in a glass bottle before throwing it at his partner Uthra on 6 May as she slept.\\n\\nPolice added Sooraj, who is said to be 27, had tried to killed his 25-year-old wife with a viper in March but she recovered in hospital.\\n\\nThe couple, whose full names have not been reported by police or Indian news outlets, lived in the southern state of Kerala.\\n\\nThey had a one-year-old child, according to The News Minute website in the country.\\n\\nUthra was reportedly staying at her parents' home in the city of Kollam when Sooraj visited her allegedly with the cobra hidden in a glass bottle.\\n\\nHari Sankar, the district police chief of Kollam Rural Police in Kerala, said the force has the bottle and will use it as evidence.                                                                                                                                                                                                                                                                                                                                                                                                                                                                                                                                                                                                                                                                                                                                                                                                                                                                                                                                                                                                                                                                                                                                                                                                                                                                                                                                                                                                                                                                                                                                                                                                                                                                                                                                                                                                                                                                                                                                             \n",
       "27  A new study by Duke University show a substantial increase in heat-related fatalities in Texas by the year 2100 given the current rate of greenhouse gas emissions. These heat-trapping gases are contributing to the rise in global temperatures, a shifting climate and, as a result, more extreme heat events.\\n\\nHeat is the #1 weather killer\\nOn average, heat is the deadliest weather hazard here in the U.S., killing an estimated 12,000 people every year. That’s more than hurricanes and tornadoes combined.\\n\\nAs noted in the study, hospitals and health care providers do not always report heat-related illnesses or heat as an underlying cause of a death, making it hard to measure the actual impact of extreme heat on health.\\n\\nEffects of climate change\\nWith increased emissions of greenhouse gases (via industry, transportation, electricity, etc.) more heat is being trapped in the atmosphere. Think of greenhouse gases as a blanket around Earth — increase the concentration of those gases (thicker blanket), more heat gets trapped and the Earth warms. The temperature of our Earth is in fact rising. Since 1880, the global average surface temperature has risen 2 degrees Fahrenheit – a major feat considering how much heat the ocean can absorb and how much is reflected back into space.\\n\\nAccording to the study performed by Duke University, heat-related deaths are projected to increase by 9,300 by the year 2100 if no cut in current greenhouse emissions is made. This surpasses initial projections made by the National Climate Assessment in 2018 by a factor of 10. That number drops to 3,900 fatalities by 2100 only if the warming is limited to 3.6 degrees Fahrenheit (+1.6 degrees).\\n\\nGiven Texas’ population of close to 30 million people and a rate of over 200 deaths per million, this would put our state on track to see over 5,800 people dying from heat-related causes annually, 80 years from now. (In 2019, just over 700 people died from heat-related causes in Texas.)\\n\\nComplications with COVID-19\\nResearch shows that over 80% of those dying from a heat-related cause are over the age of 60. Unfortunately, the same population more susceptible to heat-related illness/death is the same population more susceptible to COVID-19. Given the ongoing pandemic, the concern for the elderly rises as many are forgoing visits or wellness checks in an effort to social distance. In addition, the loss of jobs due to COVID-19 may put a strain on affording utilities like air conditioning.                                                                                                                                                                                                                                                                                                       \n",
       "28  Stocks fell sharply on Wednesday as the increasing number of newly confirmed coronavirus cases dampened expectations of an economic recovery.\\n\\nThe Dow Jones Industrial Average dropped 710.16 points, or 2.7%, to 25,445.94. The S&P 500 closed 2.6% lower at 3,050.33 while the Nasdaq Composite slid 2.2% to 9,909.17. The tech-heavy Nasdaq posted its first daily decline in nine sessions.  It was the worst day for the Dow, S&P 500 and Nasdaq since June 11.\\n\\nFlorida said its confirmed cases jumped by 5,508 on Tuesday, a record, and now total 109,014. The state also said its positivity rate rose to 15.91% from 10.82%. Stocks fell to their session lows after Florida reported its latest case figures.  At one point, the Dow had fallen more than 800 points on Wednesday.\\n\\nCalifornia is one of the states that has also seen a dramatic spike in cases, adding a record of more than 7,000 in one day on Tuesday. In Texas, the Covid-19 number of Covid-19 cases jumped by 5,489. Meanwhile, New York, New Jersey and Connecticut ordered visitors from certain hotspot states to quarantine for 14 days.\\n\\n“The latest coronavirus news is not positive for the stock market which was betting the worst of the pandemic recession was behind us,” said Chris Rupkey, chief financial economist at MUFG. “All the hopes of investors looking for a better economy to improve the bottom lines of companies shut down in the recession have been dashed. Forget about the fears of the virus coming back in the fall, the number of new cases and hospitalizations in states like Arizona, Texas, and Florida says the threat is happening right now.”\\n\\nShares of companies primed to benefit from the economy reopening faltered. United Airlines fell 8.3%. Delta, American and Southwest all slid over 7%. Airlines were especially hit by the quarantine orders issued by New York, New Jersey and Connecticut. \\n\\n“It’s definitely the reason for the last leg down. Airline stocks and transports are down, and oil tanked,” said Peter Boockvar, chief investment officer at Bleakley Advisory Group. “The regional quarantine sparked concerns about a dampening of activity as the economy in the region is just reopening.”\\n\\nCarnival, Norwegian Cruise Line and Royal Caribbean were lower by 11.1%, 12.4% and 11.3%, respectively. Retailer Gap also fell 7.8%. Disney, meanwhile, declined by 3.9% after its Orlando theme-park workers petitioned to postpone the reopening amid the spike in cases in Florida. \\n                                                                                                                                                                                                                                                                                                                                \n",
       "29  SFPD names India Palace attack a hate crime\\nThe Santa Fe Police Department is investigating the recent vandalism at downtown restaurant India Palace as a hate crime and the department \"is aggressively pursuing those responsible for this disgusting display of hatred and intolerance,\" a new release issued Tuesday afternoon stated. Additionally, Deputy Chief Paul Joye tells SFR police are considering possible connections between this incident and the vandalism that defaced the Plaza obelisk. Police believe both crimes occurred in the same time frame overnight on Sunday, June 21. According to Joye, police are collecting surveillance videos from the area, but have not released any information about potential suspects or leads.The FBI also has offered its assistance with the investigation into unlawful entry, criminal damage and vandalism; restaurant owner Bajit Singh made a report with the FBI shortly after discovering the crime.                                                                                                                                                                                                                                                                                                                                                                                                                                                                                                                                                                                                                                                                                                                                                                                                                                                                                                                                                                                                                                                                                                                                                                                                                                                                                                                                                                                                                                                                                                                                                                                                                                                                                                                                                                                                                                                                                                                         \n",
       "\n",
       "   class  \\\n",
       "0   POS    \n",
       "1   POS    \n",
       "2   POS    \n",
       "3   POS    \n",
       "4   POS    \n",
       "5   POS    \n",
       "6   POS    \n",
       "7   POS    \n",
       "8   POS    \n",
       "9   POS    \n",
       "10  POS    \n",
       "11  POS    \n",
       "12  POS    \n",
       "13  POS    \n",
       "14  NEG    \n",
       "15  NEG    \n",
       "16  NEG    \n",
       "17  NEG    \n",
       "18  NEG    \n",
       "19  NEG    \n",
       "20  NEG    \n",
       "21  NEG    \n",
       "22  NEG    \n",
       "23  NEG    \n",
       "24  NEG    \n",
       "25  NEG    \n",
       "26  NEG    \n",
       "27  NEG    \n",
       "28  NEG    \n",
       "29  NEG    \n",
       "\n",
       "                                                                                                                                                       url  \n",
       "0   https://www.goodnewsnetwork.org/target-raises-minimum-wage-to-15/                                                                                       \n",
       "1   https://www.goodnewsnetwork.org/black-man-scared-to-walk-in-neighborhood-joined-by-75-neighbors/                                                        \n",
       "2   https://www.goodnewsnetwork.org/teen-invents-wristband-that-warns-against-touching-your-face/                                                           \n",
       "3   https://www.goodnewsnetwork.org/engineers-convert-co2-emissions-into-chemical-building-blocks-for-fuel/                                                 \n",
       "4   https://www.goodnewsnetwork.org/farmer-writes-guide-on-farming-vegetables-in-winter/                                                                    \n",
       "5   https://www.goodnewsnetwork.org/9yo-kamryn-and-friends-raise-100k-for-black-businesses/                                                                 \n",
       "6   https://www.goodnewsnetwork.org/new-police-reform-bill-in-the-senate-looks-to-increase-accountability-and-promote-de-escalation/                        \n",
       "7   https://www.goodnewsnetwork.org/opera-singer-joins-student-unexpectedly-for-national-anthem/                                                            \n",
       "8   https://www.goodnewsnetwork.org/dexamethasone-shown-to-reduce-covid-19-deaths-by-a-third/                                                               \n",
       "9   https://www.goodnewsnetwork.org/kaavan-the-elephant-wins-high-court-ruling-in-pakistan/                                                                 \n",
       "10  https://www.goodnewsnetwork.org/the-great-american-outdoors-act-of-2020/                                                                                \n",
       "11  https://www.goodnewsnetwork.org/the-great-american-outdoors-act-of-2020/                                                                                \n",
       "12  https://www.goodnewsnetwork.org/watch-teens-graduation-advice-for-class-of-2020-that-won-1st-prize/                                                     \n",
       "13  https://www.goodnewsnetwork.org/deputy-thanks-black-women-for-act-of-kindness/                                                                          \n",
       "14  https://www.cnn.com/2020/06/24/business/whole-foods-arsenic-water-consumer-reports-wellness/index.html                                                  \n",
       "15  https://www.ndtv.com/tamil-nadu-news/anger-in-tamil-nadu-after-tuticorin-men-jayaraj-his-son-pennis-die-in-police-custody-2252082?pfrom=home-topscroll  \n",
       "16  https://www.fox32chicago.com/news/17-shot-1-fatally-wednesday-in-chicago                                                                                \n",
       "17  https://www.fox32chicago.com/news/driver-was-allegedly-high-on-benzos-cannabis-in-crash-that-killed-good-friend-prosecutors                             \n",
       "18  https://www.fox32chicago.com/news/104-shot-15-fatally-over-fathers-day-weekend-in-chicago                                                               \n",
       "19  https://www.ndtv.com/tamil-nadu-news/anger-in-tamil-nadu-after-tuticorin-men-jayaraj-his-son-pennis-die-in-police-custody-2252082?pfrom=home-topscroll  \n",
       "20  https://www.fox32chicago.com/news/massive-saharan-dust-plume-will-reach-us-thursday-heres-what-you-need-to-know                                         \n",
       "21  https://www.fox32chicago.com/news/girl-12-shot-in-west-englewood                                                                                        \n",
       "22  https://www.fox32chicago.com/news/concealed-carry-holder-shoots-gunman-in-little-village-police                                                         \n",
       "23  https://www.fox32chicago.com/news/police-looking-for-suspect-in-beating-death-of-suburban-business-owner                                                \n",
       "24  https://www.fox32chicago.com/news/police-release-images-of-person-wanted-for-slaying-of-2-teens-in-south-chicago                                        \n",
       "25  https://zeenews.india.com/karnataka/man-kills-wife-in-bengaluru-flies-to-kolkata-murders-mother-in-law-and-commits-suicide-2291393.html                 \n",
       "26  https://news.sky.com/story/india-man-arrested-on-suspicion-of-murder-after-wife-dies-from-cobra-bite-in-kerala-11994929                                 \n",
       "27  https://www.kxan.com/weather/heat-related-fatalities-projected-to-significantly-increase-with-climate-change/                                           \n",
       "28  https://www.cnbc.com/2020/06/23/stock-market-futures-open-to-close-news.html                                                                            \n",
       "29  https://www.sfreporter.com/news/2020/06/24/sfpd-calls-india-palace-attack-a-hate-crime/                                                                 "
      ]
     },
     "execution_count": 68,
     "metadata": {},
     "output_type": "execute_result"
    }
   ],
   "source": [
    "import pandas as pd\n",
    "pd.set_option('display.max_colwidth', -1)\n",
    "new_df = pd.read_csv('POS_NEG_NEWS.csv')\n",
    "new_df"
   ]
  },
  {
   "cell_type": "code",
   "execution_count": 75,
   "id": "a339e306",
   "metadata": {},
   "outputs": [],
   "source": [
    "from sklearn.linear_model import LogisticRegression, SGDClassifier\n",
    "from sklearn.model_selection import train_test_split\n",
    "from sklearn.metrics import classification_report, confusion_matrix, accuracy_score\n",
    "from sklearn.feature_extraction.text import CountVectorizer, HashingVectorizer\n",
    "from sklearn.feature_extraction.text import TfidfVectorizer, TfidfTransformer\n",
    "from sklearn import metrics\n",
    "from sklearn.naive_bayes import MultinomialNB\n",
    "from sklearn.metrics import precision_recall_fscore_support as score"
   ]
  },
  {
   "cell_type": "code",
   "execution_count": 76,
   "id": "7fe3aa90",
   "metadata": {},
   "outputs": [],
   "source": [
    "X = new_df['text']\n",
    "y = new_df['class'].map({'POS':0, 'NEG':1})"
   ]
  },
  {
   "cell_type": "code",
   "execution_count": 79,
   "id": "1c2b7b9b",
   "metadata": {
    "collapsed": true
   },
   "outputs": [
    {
     "name": "stdout",
     "output_type": "stream",
     "text": [
      "0     0\n",
      "1     0\n",
      "2     0\n",
      "3     0\n",
      "4     0\n",
      "5     0\n",
      "6     0\n",
      "7     0\n",
      "8     0\n",
      "9     0\n",
      "10    0\n",
      "11    0\n",
      "12    0\n",
      "13    0\n",
      "14    1\n",
      "15    1\n",
      "16    1\n",
      "17    1\n",
      "18    1\n",
      "19    1\n",
      "20    1\n",
      "21    1\n",
      "22    1\n",
      "23    1\n",
      "24    1\n",
      "25    1\n",
      "26    1\n",
      "27    1\n",
      "28    1\n",
      "29    1\n",
      "Name: class, dtype: int64\n"
     ]
    }
   ],
   "source": [
    "# print(X)\n",
    "print(y)"
   ]
  },
  {
   "cell_type": "code",
   "execution_count": 80,
   "id": "cd49c6cd",
   "metadata": {},
   "outputs": [],
   "source": [
    "X_train, X_test, y_train, y_test = train_test_split(X, y, test_size=0.33, random_state=1, stratify=y)"
   ]
  },
  {
   "cell_type": "code",
   "execution_count": 82,
   "id": "e07bcc2d",
   "metadata": {},
   "outputs": [
    {
     "name": "stdout",
     "output_type": "stream",
     "text": [
      "(20,)\n",
      "(20,)\n",
      "(10,)\n",
      "(10,)\n"
     ]
    }
   ],
   "source": [
    "print(X_train.shape)\n",
    "print(y_train.shape)\n",
    "print(X_test.shape)\n",
    "print(y_test.shape)"
   ]
  },
  {
   "cell_type": "code",
   "execution_count": 86,
   "id": "f5e17179",
   "metadata": {
    "collapsed": true
   },
   "outputs": [
    {
     "name": "stdout",
     "output_type": "stream",
     "text": [
      "  (0, 517)\t1\n",
      "  (0, 375)\t2\n",
      "  (0, 92)\t2\n",
      "  (0, 59)\t1\n",
      "  (0, 560)\t2\n",
      "  (0, 546)\t4\n",
      "  (0, 532)\t1\n",
      "  (0, 26)\t1\n",
      "  (0, 406)\t3\n",
      "  (0, 980)\t2\n",
      "  (0, 959)\t2\n",
      "  (0, 123)\t2\n",
      "  (0, 179)\t2\n",
      "  (0, 402)\t3\n",
      "  (0, 615)\t5\n",
      "  (0, 379)\t2\n",
      "  (0, 690)\t3\n",
      "  (0, 777)\t1\n",
      "  (0, 61)\t3\n",
      "  (0, 743)\t3\n",
      "  (0, 34)\t2\n",
      "  (0, 487)\t1\n",
      "  (0, 351)\t2\n",
      "  (0, 112)\t3\n",
      "  (0, 93)\t1\n",
      "  :\t:\n",
      "  (19, 505)\t1\n",
      "  (19, 518)\t1\n",
      "  (19, 551)\t1\n",
      "  (19, 326)\t1\n",
      "  (19, 900)\t1\n",
      "  (19, 253)\t1\n",
      "  (19, 501)\t1\n",
      "  (19, 963)\t1\n",
      "  (19, 324)\t1\n",
      "  (19, 325)\t1\n",
      "  (19, 841)\t2\n",
      "  (19, 697)\t1\n",
      "  (19, 14)\t1\n",
      "  (19, 190)\t2\n",
      "  (19, 146)\t2\n",
      "  (19, 415)\t2\n",
      "  (19, 6)\t3\n",
      "  (19, 307)\t2\n",
      "  (19, 191)\t2\n",
      "  (19, 918)\t2\n",
      "  (19, 7)\t3\n",
      "  (19, 805)\t2\n",
      "  (19, 8)\t3\n",
      "  (19, 696)\t2\n",
      "  (19, 806)\t2\n",
      "  (0, 851)\t3\n",
      "  (0, 163)\t4\n",
      "  (0, 755)\t1\n",
      "  (0, 459)\t4\n",
      "  (0, 954)\t2\n",
      "  (0, 64)\t2\n",
      "  (0, 427)\t3\n",
      "  (0, 123)\t2\n",
      "  (0, 127)\t2\n",
      "  (0, 108)\t6\n",
      "  (0, 46)\t1\n",
      "  (0, 543)\t1\n",
      "  (0, 148)\t3\n",
      "  (0, 271)\t1\n",
      "  (0, 10)\t1\n",
      "  (0, 499)\t2\n",
      "  (0, 473)\t1\n",
      "  (0, 18)\t1\n",
      "  (0, 21)\t2\n",
      "  (0, 295)\t2\n",
      "  (0, 66)\t4\n",
      "  (0, 20)\t1\n",
      "  (0, 971)\t1\n",
      "  (0, 349)\t3\n",
      "  (0, 839)\t2\n",
      "  :\t:\n",
      "  (9, 714)\t1\n",
      "  (9, 325)\t1\n",
      "  (9, 735)\t1\n",
      "  (9, 906)\t2\n",
      "  (9, 333)\t1\n",
      "  (9, 765)\t1\n",
      "  (9, 686)\t1\n",
      "  (9, 588)\t1\n",
      "  (9, 449)\t2\n",
      "  (9, 878)\t2\n",
      "  (9, 711)\t2\n",
      "  (9, 328)\t1\n",
      "  (9, 919)\t2\n",
      "  (9, 596)\t1\n",
      "  (9, 715)\t1\n",
      "  (9, 326)\t1\n",
      "  (9, 736)\t1\n",
      "  (9, 334)\t1\n",
      "  (9, 766)\t1\n",
      "  (9, 687)\t1\n",
      "  (9, 589)\t1\n",
      "  (9, 329)\t1\n",
      "  (9, 597)\t1\n",
      "  (9, 716)\t1\n",
      "  (9, 813)\t1\n"
     ]
    }
   ],
   "source": [
    "# Vectorizing data\n",
    "\n",
    "vectorizer = CountVectorizer(analyzer='word', max_df=0.9, \n",
    "                             max_features=1000, ngram_range=(1, 3))\n",
    "\n",
    "X_train_dtm = vectorizer.fit_transform(X_train)\n",
    "X_test_dtm = vectorizer.fit_transform(X_test)\n",
    "\n",
    "print(X_train_dtm)\n",
    "print(X_test_dtm)"
   ]
  },
  {
   "cell_type": "code",
   "execution_count": 91,
   "id": "39b4269c",
   "metadata": {},
   "outputs": [],
   "source": [
    "models = [MultinomialNB, LogisticRegression, SGDClassifier]\n",
    "\n",
    "def fit_models(X_train, y_train, X_test, y_test, model):\n",
    "    model = model()\n",
    "    model.fit(X_train, y_train)\n",
    "    return model"
   ]
  },
  {
   "cell_type": "code",
   "execution_count": 99,
   "id": "49f1dfba",
   "metadata": {},
   "outputs": [
    {
     "name": "stdout",
     "output_type": "stream",
     "text": [
      "Naive Bayes\n",
      "Wall time: 1.76 ms\n",
      "Accuracy Score: 0.7\n",
      "              precision    recall  f1-score   support\n",
      "\n",
      "           0       0.67      0.80      0.73         5\n",
      "           1       0.75      0.60      0.67         5\n",
      "\n",
      "    accuracy                           0.70        10\n",
      "   macro avg       0.71      0.70      0.70        10\n",
      "weighted avg       0.71      0.70      0.70        10\n",
      "\n",
      "[[4 1]\n",
      " [2 3]]\n"
     ]
    }
   ],
   "source": [
    "print('Naive Bayes')\n",
    "%time model = fit_models(X_train_dtm,y_train,X_test_dtm,y_test,models[0])\n",
    "# make class predictions for X_test_dtm\n",
    "y_pred_class = model.predict(X_test_dtm)\n",
    "\n",
    "# calculate accuracy of class predictions\n",
    "print('Accuracy Score:',metrics.accuracy_score(y_test, y_pred_class))\n",
    "\n",
    "\n",
    "# calculate precision and recall\n",
    "print(classification_report(y_test, y_pred_class))\n",
    "\n",
    "\n",
    "# calculate the confusion matrix\n",
    "print(metrics.confusion_matrix(y_test, y_pred_class))"
   ]
  },
  {
   "cell_type": "code",
   "execution_count": 100,
   "id": "3cbc7b42",
   "metadata": {},
   "outputs": [
    {
     "name": "stdout",
     "output_type": "stream",
     "text": [
      "Logistic Regression Bayes\n",
      "Wall time: 26.9 ms\n",
      "Accuracy Score: 0.5\n",
      "              precision    recall  f1-score   support\n",
      "\n",
      "           0       0.00      0.00      0.00         5\n",
      "           1       0.50      1.00      0.67         5\n",
      "\n",
      "    accuracy                           0.50        10\n",
      "   macro avg       0.25      0.50      0.33        10\n",
      "weighted avg       0.25      0.50      0.33        10\n",
      "\n",
      "[[0 5]\n",
      " [0 5]]\n"
     ]
    },
    {
     "name": "stderr",
     "output_type": "stream",
     "text": [
      "C:\\Python39\\lib\\site-packages\\sklearn\\metrics\\_classification.py:1308: UndefinedMetricWarning: Precision and F-score are ill-defined and being set to 0.0 in labels with no predicted samples. Use `zero_division` parameter to control this behavior.\n",
      "  _warn_prf(average, modifier, msg_start, len(result))\n",
      "C:\\Python39\\lib\\site-packages\\sklearn\\metrics\\_classification.py:1308: UndefinedMetricWarning: Precision and F-score are ill-defined and being set to 0.0 in labels with no predicted samples. Use `zero_division` parameter to control this behavior.\n",
      "  _warn_prf(average, modifier, msg_start, len(result))\n",
      "C:\\Python39\\lib\\site-packages\\sklearn\\metrics\\_classification.py:1308: UndefinedMetricWarning: Precision and F-score are ill-defined and being set to 0.0 in labels with no predicted samples. Use `zero_division` parameter to control this behavior.\n",
      "  _warn_prf(average, modifier, msg_start, len(result))\n"
     ]
    }
   ],
   "source": [
    "print('Logistic Regression Bayes')\n",
    "%time model = fit_models(X_train_dtm,y_train,X_test_dtm,y_test,models[1])\n",
    "# make class predictions for X_test_dtm\n",
    "y_pred_class = model.predict(X_test_dtm)\n",
    "\n",
    "# calculate accuracy of class predictions\n",
    "print('Accuracy Score:',metrics.accuracy_score(y_test, y_pred_class))\n",
    "\n",
    "# calculate precision and recall\n",
    "print(classification_report(y_test, y_pred_class))\n",
    "\n",
    "# calculate the confusion matrix\n",
    "print(metrics.confusion_matrix(y_test, y_pred_class))"
   ]
  },
  {
   "cell_type": "code",
   "execution_count": 97,
   "id": "ce18af8d",
   "metadata": {},
   "outputs": [
    {
     "name": "stdout",
     "output_type": "stream",
     "text": [
      "SVM\n",
      "Wall time: 3 ms\n",
      "Accuracy Score: 0.5\n",
      "              precision    recall  f1-score   support\n",
      "\n",
      "           0       0.00      0.00      0.00         5\n",
      "           1       0.50      1.00      0.67         5\n",
      "\n",
      "    accuracy                           0.50        10\n",
      "   macro avg       0.25      0.50      0.33        10\n",
      "weighted avg       0.25      0.50      0.33        10\n",
      "\n",
      "[[0 5]\n",
      " [0 5]]\n"
     ]
    },
    {
     "name": "stderr",
     "output_type": "stream",
     "text": [
      "C:\\Python39\\lib\\site-packages\\sklearn\\metrics\\_classification.py:1308: UndefinedMetricWarning: Precision and F-score are ill-defined and being set to 0.0 in labels with no predicted samples. Use `zero_division` parameter to control this behavior.\n",
      "  _warn_prf(average, modifier, msg_start, len(result))\n",
      "C:\\Python39\\lib\\site-packages\\sklearn\\metrics\\_classification.py:1308: UndefinedMetricWarning: Precision and F-score are ill-defined and being set to 0.0 in labels with no predicted samples. Use `zero_division` parameter to control this behavior.\n",
      "  _warn_prf(average, modifier, msg_start, len(result))\n",
      "C:\\Python39\\lib\\site-packages\\sklearn\\metrics\\_classification.py:1308: UndefinedMetricWarning: Precision and F-score are ill-defined and being set to 0.0 in labels with no predicted samples. Use `zero_division` parameter to control this behavior.\n",
      "  _warn_prf(average, modifier, msg_start, len(result))\n"
     ]
    }
   ],
   "source": [
    "print('SVM')\n",
    "%time model = fit_models(X_train_dtm,y_train,X_test_dtm,y_test,models[2])\n",
    "# make class predictions for X_test_dtm\n",
    "y_pred_class = model.predict(X_test_dtm)\n",
    "\n",
    "# calculate accuracy of class predictions\n",
    "print('Accuracy Score:',metrics.accuracy_score(y_test, y_pred_class))\n",
    "\n",
    "# calculate precision and recall\n",
    "print(classification_report(y_test, y_pred_class))\n",
    "\n",
    "# calculate the confusion matrix\n",
    "print(metrics.confusion_matrix(y_test, y_pred_class))\n",
    "countVect_SVM_CM = metrics.confusion_matrix(y_test, y_pred_class)"
   ]
  },
  {
   "cell_type": "code",
   "execution_count": 116,
   "id": "d1115f8f",
   "metadata": {},
   "outputs": [
    {
     "name": "stdout",
     "output_type": "stream",
     "text": [
      "Wall time: 1 ms\n",
      "[1]\n"
     ]
    }
   ],
   "source": [
    "text1 = [\"Today was a grim day for New Delhi where there happend communal riots and many people were killed in the clashes. The police arrested 100 people in connnection with the riots.\"]\n",
    "val_vect = vectorizer.transform(text1)\n",
    "%time y_pred_class = model.predict(val_vect)\n",
    "print(y_pred_class)  # 1 = negative"
   ]
  },
  {
   "cell_type": "code",
   "execution_count": 117,
   "id": "6209ea41",
   "metadata": {},
   "outputs": [
    {
     "name": "stdout",
     "output_type": "stream",
     "text": [
      "val_vect   (0, 2)\t1\n",
      "  (0, 63)\t1\n",
      "  (0, 138)\t1\n",
      "  (0, 172)\t1\n",
      "  (0, 230)\t2\n",
      "  (0, 243)\t1\n",
      "  (0, 280)\t1\n",
      "  (0, 362)\t1\n",
      "  (0, 493)\t2\n",
      "  (0, 494)\t1\n",
      "  (0, 500)\t1\n",
      "  (0, 893)\t1\n",
      "  (0, 911)\t1\n",
      "  (0, 945)\t1\n",
      "  (0, 957)\t1\n",
      "  (0, 967)\t1\n",
      "  (0, 978)\t1\n",
      "  (0, 979)\t1\n",
      "Wall time: 0 ns\n",
      "[1]\n"
     ]
    }
   ],
   "source": [
    "text2 = [\"I am happy that university has given me scholarship for my Masters degree.\"]\n",
    "print(\"val_vect\", val_vect)\n",
    "val_vect = vectorizer.transform(text2)\n",
    "%time y_pred_class = model.predict(val_vect)\n",
    "print(y_pred_class)  # 0 = positive"
   ]
  },
  {
   "cell_type": "code",
   "execution_count": 119,
   "id": "94b7d2aa",
   "metadata": {},
   "outputs": [],
   "source": [
    "#https://www.ndtv.com/world-news/dubai-supermarket-delivers-mango-in-lamborghini-2251965?pfrom=home-topstories\n",
    "text3=[\"\"\"A supermarket in Dubai is delivering Mangoes at the doorsteps of its customers in a green Lamborghini, a Gulf news report has said.\n",
    "\"The king should travel like a king,\" says Mohammad Jehanzeb, the managing director of the store at Dubai's Pakistan Supermarket.\n",
    "\n",
    "Mohammad Jehanzeb delivers the pulpy fruit himself and also takes the customers on a short ride in the luxury car.\n",
    "\n",
    "In order to avail the offer rolled out on the Facebook page of the famous supermarket, customers are required to make a minimum order of Dh100, the Gulf News report said.\n",
    "\n",
    "\"The idea is to put a smile on people's faces and make them feel special,\" says Mr Jehanzeb.\n",
    "\n",
    "The videos of delighted mango lovers, taking a joy ride in the car, are doing rounds over the internet. Mangoes At Your Doorstep, Lamborghini Joyride: Dubai Supermarket's Offer\n",
    "A supermarket in Dubai is delivering Mangoes at the doorsteps of its customers in a green Lamborghini.\n",
    "\n",
    "\"Each order takes about an hour. We do about 7-8 home deliveries a day but are hoping to ramp up the numbers to 12,\" he adds.\n",
    "\n",
    "Arshad Khan, who hails from India's Lucknow, said that his children were excited after hearing the roar of the Lamborghini outside their Falcon City villa.\n",
    "\n",
    "\"For someone who hails from Lucknow -- the land of the famous dussheri and landga mangoes -- I was a bit skeptical about the taste of Pakistani mangoes. I ordered them for the sheer\n",
    "experience of seeing them come to my place in a luxury supercar,\" Gulf News quoted Mr Khan as saying.\n",
    "\n",
    "\"It was quite exhilarating and I must confess that the mangoes were as delicious as the ones back home,\" he added.\"\"\"]"
   ]
  },
  {
   "cell_type": "code",
   "execution_count": 120,
   "id": "dced8f6f",
   "metadata": {},
   "outputs": [
    {
     "name": "stdout",
     "output_type": "stream",
     "text": [
      "Wall time: 0 ns\n",
      "[[0.35453458 0.64546542]]\n"
     ]
    }
   ],
   "source": [
    "val_vect = vectorizer.transform(text3)\n",
    "%time y_pred_class = model.predict_proba(val_vect)\n",
    "print(y_pred_class)"
   ]
  },
  {
   "cell_type": "code",
   "execution_count": 121,
   "id": "8dc40b70",
   "metadata": {},
   "outputs": [],
   "source": [
    "#https://www.mirror.co.uk/news/uk-news/teen-accused-pc-andrew-harper-22247350\n",
    "text4 =[\"\"\"A teenager accused of murdering PC Andrew Harper said he \"didn't give a f*** and complained that police were \"discriminating\" against travellers after he was arrested at a caravan site, \n",
    "a court heard.\n",
    "\n",
    "Henry Long, 19, allegedly claimed he had been watching DVDs, including Fast and the Furious, with relatives at the time the officer Andrew Harper was dragged to his death behind a car.\n",
    "\n",
    "He allegedly said \"I don't give a f*** about any of this\", as he was charged with murder on September 18, jurors heard.\n",
    "\n",
    "The trio allegedly got rid of their mobile phones by the time police arrived at the traveller's site where they were arrested around 10 minutes after they returned from their getaway journey.\n",
    "\n",
    "Long remarked \"look at me, do I look like a murderer?\", as officers detained him, the court heard. Prosecutors said he told \"clear and deliberate lies\" to distance himself from the \n",
    "horrific killing. He later admitted manslaughter ahead of the murder trial.\n",
    "\n",
    "Mr Laidlaw said: \"Police began, in numbers, to enter the Four Houses Corner site at about 11:44pm just 10 minutes or so after the three defendants had arrived back at the site in the SEAT.\n",
    "\n",
    "\"Henry Long along with Albert Bowers was found in a Fendt Diamond caravan in Plot 2 on the Four Houses Corner site.\n",
    "\n",
    "\"Neither man was found in possession of a mobile phone, and the police could not find any phone attributable to either defendant during their search of the caravan site.\n",
    "\n",
    "\"What becomes clear is that both young men had managed to get rid of their telephones - either by disposing of them or, as would appear more likely by passing them to other members of the \n",
    "travelling community who were not arrested.\"\"\"]"
   ]
  },
  {
   "cell_type": "code",
   "execution_count": 122,
   "id": "f97576be",
   "metadata": {},
   "outputs": [
    {
     "name": "stdout",
     "output_type": "stream",
     "text": [
      "Wall time: 957 µs\n",
      "[[0.31598578 0.68401422]]\n"
     ]
    }
   ],
   "source": [
    "val_vect = vectorizer.transform(text4)\n",
    "%time y_pred_class = model.predict_proba(val_vect)\n",
    "print(y_pred_class)"
   ]
  },
  {
   "cell_type": "code",
   "execution_count": 113,
   "id": "0b7eae1e",
   "metadata": {},
   "outputs": [],
   "source": []
  },
  {
   "cell_type": "code",
   "execution_count": 123,
   "id": "4c06a6b7",
   "metadata": {},
   "outputs": [],
   "source": [
    "# 4. Named Entity based on sentiment analysis (targetted)"
   ]
  },
  {
   "cell_type": "code",
   "execution_count": 124,
   "id": "008bd7e6",
   "metadata": {},
   "outputs": [],
   "source": [
    "import spacy\n",
    "from spacy import displacy"
   ]
  },
  {
   "cell_type": "code",
   "execution_count": 128,
   "id": "351547b1",
   "metadata": {},
   "outputs": [],
   "source": [
    "# spacy.load('en_core_web_sm')"
   ]
  },
  {
   "cell_type": "code",
   "execution_count": 129,
   "id": "9422d910",
   "metadata": {},
   "outputs": [],
   "source": [
    "nlp = spacy.load(\"en_core_web_sm\")"
   ]
  },
  {
   "cell_type": "code",
   "execution_count": 135,
   "id": "a8c1d027",
   "metadata": {},
   "outputs": [],
   "source": [
    "def spacy_ner(text):\n",
    "    text = text.replace('\\n', ' ')\n",
    "    doc = nlp(text)\n",
    "    entities = []\n",
    "    labels = []\n",
    "    position_start = []\n",
    "    positon_end = []\n",
    "    \n",
    "    for ent in doc.ents:\n",
    "        if ent.label_ in ['PERSON', 'ORG', 'GPE']:\n",
    "            entities.append(ent)\n",
    "            labels.append(ent.label_)\n",
    "    return entities, labels\n",
    "\n",
    "\n",
    "def fit_ner(df):\n",
    "    \"\"\"The dataframe should have a column named 'text'\"\"\"\n",
    "    print('Fitting Spacy NER model...')\n",
    "    ner = df['text'].apply(spacy_ner)\n",
    "    ner_org = {}\n",
    "    ner_per = {}\n",
    "    ner_gpe = {}\n",
    "\n",
    "    for x in ner:\n",
    "        #print(list(x))\n",
    "        for entity, label in zip(x[0],x[1]):\n",
    "            #print(type(entity.text))\n",
    "            if label =='ORG':\n",
    "                ner_org[entity.text] = ner_org.get(entity.text,0) + 1\n",
    "            elif label=='PERSON':\n",
    "                ner_per[entity.text] = ner_per.get(entity.text,0) + 1\n",
    "            else:\n",
    "                ner_gpe[entity.text] = ner_gpe.get(entity.text,0) + 1\n",
    "\n",
    "    return {'ORG':ner_org,'PER':ner_per,'GPE':ner_gpe}"
   ]
  },
  {
   "cell_type": "code",
   "execution_count": 136,
   "id": "27ac20b0",
   "metadata": {},
   "outputs": [
    {
     "name": "stdout",
     "output_type": "stream",
     "text": [
      "Fitting Spacy NER model...\n"
     ]
    }
   ],
   "source": [
    "named_entities = fit_ner(new_df)"
   ]
  },
  {
   "cell_type": "code",
   "execution_count": 137,
   "id": "e8a36851",
   "metadata": {},
   "outputs": [
    {
     "data": {
      "text/plain": [
       "{'Target': 4,\n",
       " 'Lego': 1,\n",
       " 'Chemical': 1,\n",
       " 'UNSW Sydney': 1,\n",
       " 'Advanced Energy Materials': 1,\n",
       " 'UNSW’s School of Chemical Engineering': 1,\n",
       " 'Palme': 1,\n",
       " 'the Research Institute of Horticulture': 1,\n",
       " 'Kamryn & Friends: Bracelets for Unity and Justice': 1,\n",
       " 'NFL': 1,\n",
       " 'WCCO News': 1,\n",
       " 'Senate': 3,\n",
       " 'Criminal Justice Commission': 1,\n",
       " 'House': 1,\n",
       " 'Portland State University': 1,\n",
       " 'The Star Spangled Banner': 1,\n",
       " 'the Portland Opera': 1,\n",
       " 'GNN': 2,\n",
       " 'Black Lives Matter': 1,\n",
       " 'Oxford University': 1,\n",
       " 'BBC': 1,\n",
       " 'Randomized Evaluation': 1,\n",
       " 'the Murghazar Zoo': 1,\n",
       " 'the Pakistan High Court': 1,\n",
       " 'Islamabad Wildlife Management Board': 1,\n",
       " 'Capitol Hill': 2,\n",
       " 'the Great American Outdoors Act': 4,\n",
       " 'the National Parks Service': 2,\n",
       " 'the Appomattox Courthouse and Statue of Liberty': 2,\n",
       " 'the Forest Service': 2,\n",
       " 'the Bureau of Indian Education': 2,\n",
       " 'the Bureau of Land Management': 2,\n",
       " 'the Fish and Wildlife Service': 2,\n",
       " 'the Land and Water Conservation Fund': 2,\n",
       " 'the Natural Resources Management Act': 2,\n",
       " 'the US House of Representatives': 2,\n",
       " 'the Conservation Fund': 2,\n",
       " 'John Abbott College': 1,\n",
       " 'the Sumner County Sheriff’s Department': 1,\n",
       " 'Consumer Reports': 3,\n",
       " 'Whole Foods': 3,\n",
       " 'FDA': 3,\n",
       " 'CNN Business': 1,\n",
       " 'Jayaraj': 2,\n",
       " 'Magistrate': 3,\n",
       " 'NDTV': 2,\n",
       " 'St. Bernard’s Hospital': 1,\n",
       " 'Trinity Hospital': 1,\n",
       " 'the University of Chicago Medical Center': 1,\n",
       " 'Halsted': 1,\n",
       " 'Deboni': 5,\n",
       " 'Nolan': 1,\n",
       " 'DUI': 3,\n",
       " 'THC': 1,\n",
       " 'Federman': 1,\n",
       " 'South Shore High School, Nolan': 1,\n",
       " 'Stroger Hospital': 1,\n",
       " 'Mt. Sinai Hospital': 1,\n",
       " 'Madurai': 1,\n",
       " \"People's Watch\": 1,\n",
       " 'the National Oceanic & Atmospheric Administration': 2,\n",
       " 'the Southern United States': 2,\n",
       " 'Sonoma Tech Meteorologist': 2,\n",
       " 'NOAA': 1,\n",
       " 'Mount Sinai Hospital': 1,\n",
       " 'Deutsch': 2,\n",
       " 'Shades of Darkness Window Tinting': 1,\n",
       " 'Chrysler': 1,\n",
       " 'Palos Community Hospital': 1,\n",
       " 'Amit Agarwal': 4,\n",
       " 'the Phoolbagan Police Station': 1,\n",
       " 'Kolkata': 1,\n",
       " 'DCP': 3,\n",
       " 'Amit': 1,\n",
       " 'Muralidhar Agarwal': 1,\n",
       " 'the Kolkata Police': 1,\n",
       " 'the Mahadevpura Police': 1,\n",
       " 'Mahadevpura PS': 1,\n",
       " 'Sooraj': 2,\n",
       " 'Kollam Rural Police': 1,\n",
       " 'Duke University': 2,\n",
       " 'the National Climate Assessment': 1,\n",
       " 'Nasdaq': 2,\n",
       " 'Dow': 2,\n",
       " 'MUFG': 1,\n",
       " 'United Airlines': 1,\n",
       " 'Delta': 1,\n",
       " 'Bleakley Advisory Group': 1,\n",
       " 'Carnival': 1,\n",
       " 'Norwegian Cruise Line': 1,\n",
       " 'Royal Caribbean': 1,\n",
       " 'Disney': 1,\n",
       " 'The Santa Fe Police Department': 1,\n",
       " 'FBI': 2}"
      ]
     },
     "execution_count": 137,
     "metadata": {},
     "output_type": "execute_result"
    }
   ],
   "source": [
    "named_entities['ORG']"
   ]
  },
  {
   "cell_type": "code",
   "execution_count": 138,
   "id": "e8462386",
   "metadata": {},
   "outputs": [
    {
     "data": {
      "text/plain": [
       "{'Brian Cornell': 1,\n",
       " 'Shawn Dromgoole': 1,\n",
       " 'Shawn': 1,\n",
       " 'Max Melia': 1,\n",
       " 'Max': 2,\n",
       " 'Emma Lovell': 1,\n",
       " 'Rose Amal': 1,\n",
       " 'Reasons': 1,\n",
       " 'Wolfgang Palme': 1,\n",
       " 'Kamryn Johnson': 1,\n",
       " 'Ron Johnson': 1,\n",
       " 'George Floyd': 3,\n",
       " 'Justin Amash': 1,\n",
       " 'Tim Scott': 1,\n",
       " 'Scott': 1,\n",
       " 'Madisen Hallberg': 1,\n",
       " 'Emmanuel Henreid': 1,\n",
       " 'Hallberg': 1,\n",
       " 'Onry': 1,\n",
       " 'Peter Horby': 1,\n",
       " 'Martin Landry': 1,\n",
       " 'Cher': 1,\n",
       " 'Kaavan': 2,\n",
       " 'April Judd': 1,\n",
       " 'Jody McDowell': 1,\n",
       " 'McDowell': 1,\n",
       " 'Tamil Nadu': 2,\n",
       " 'Pennis': 4,\n",
       " 'Arun Balagopalan': 2,\n",
       " 'Jessie D. Gregory': 1,\n",
       " 'Gresham': 1,\n",
       " 'Stephen Nolan': 1,\n",
       " 'Kevin Deboni': 1,\n",
       " 'Nolan': 4,\n",
       " 'Deboni': 1,\n",
       " 'Caleb White': 1,\n",
       " 'Irving Federman': 1,\n",
       " 'David Brown': 1,\n",
       " 'Brown': 1,\n",
       " 'Stroger': 2,\n",
       " 'Amaria J. Jones': 1,\n",
       " 'E Palaniswami': 1,\n",
       " 'Kanimozhi': 1,\n",
       " 'Tuticorin': 1,\n",
       " 'Henri Tiphagne': 1,\n",
       " 'Saharan': 1,\n",
       " 'Jeff Beamish': 2,\n",
       " 'Wayne Deutsch': 1,\n",
       " 'Jasean Francis': 1,\n",
       " 'Charles Riley': 1,\n",
       " 'Puma': 1,\n",
       " 'Shilpi': 1,\n",
       " 'Mrs Shilpi Agarwal': 1,\n",
       " 'Uthra': 1,\n",
       " 'Hari Sankar': 1,\n",
       " 'Chris Rupkey': 1,\n",
       " 'Peter Boockvar': 1,\n",
       " 'Retailer Gap': 1,\n",
       " 'Paul Joye': 1,\n",
       " 'Bajit Singh': 1}"
      ]
     },
     "execution_count": 138,
     "metadata": {},
     "output_type": "execute_result"
    }
   ],
   "source": [
    "named_entities['PER']"
   ]
  },
  {
   "cell_type": "code",
   "execution_count": 140,
   "id": "79c1553d",
   "metadata": {},
   "outputs": [],
   "source": [
    "# Sentiment analysis based on named entities\n",
    "# Targetted by finding sentences containing the named entities and \n",
    "# performing sentiment analysis on those sentences one by one "
   ]
  },
  {
   "cell_type": "code",
   "execution_count": 141,
   "id": "eaf21528",
   "metadata": {},
   "outputs": [],
   "source": [
    "from textblob import TextBlob\n",
    "import nltk"
   ]
  },
  {
   "cell_type": "code",
   "execution_count": 151,
   "id": "79216294",
   "metadata": {},
   "outputs": [],
   "source": [
    "def get_keyword_sentences(text,keyword):\n",
    "    \"\"\"Extract sentences containing the Named Entity/Keyword\"\"\"\n",
    "    text = text.replace('\\n', ' ')\n",
    "    sentences = nltk.sent_tokenize(text)\n",
    "\n",
    "    sent_of_interest = []\n",
    "    for sent in sentences:\n",
    "        if keyword in sent.lower():\n",
    "            sent_of_interest.append(sent)\n",
    "    return sent_of_interest if len(sent_of_interest)>0 else False\n",
    "\n",
    "\n",
    "def get_sentiment(list_of_sent):\n",
    "    \"\"\" Extract sentiment from a sentence using TextBlob Pattern Analyzer\"\"\"\n",
    "    sentiment = 0\n",
    "    count = 0\n",
    "\n",
    "    if list_of_sent !=False:\n",
    "        for sent in list_of_sent:\n",
    "            blob = TextBlob(sent)\n",
    "            sentiment += blob.sentiment.polarity\n",
    "            count += len(sent)\n",
    "    return sentiment/count if count!=0 else 0  \n",
    "\n",
    "def extract_sentiment(df,keywords,top=10):\n",
    "    \"\"\"df: data for the cluster, keywords: ner for that cluster\"\"\"\n",
    "    print('Extracting Sentiments using TextBlob...')\n",
    "    keywords = sorted(keywords.items(),key=lambda x: x[1],reverse=True)\n",
    "    sentiment_dict = {}\n",
    "    for keyword,count in keywords[:top]:\n",
    "        df['sentences'] = df['text'].apply(get_keyword_sentences,keyword=keyword.lower())\n",
    "        keyword_sentiment = df['sentences'].apply(get_sentiment).sum()\n",
    "        sentiment_dict[keyword] = keyword_sentiment\n",
    "    return sentiment_dict"
   ]
  },
  {
   "cell_type": "code",
   "execution_count": 153,
   "id": "649054d1",
   "metadata": {},
   "outputs": [
    {
     "name": "stdout",
     "output_type": "stream",
     "text": [
      "Extracting Sentiments using TextBlob...\n"
     ]
    },
    {
     "data": {
      "text/plain": [
       "[('GNN', 0.004569909563803812),\n",
       " ('the US House of Representatives', 0.0019907100199071),\n",
       " ('the Conservation Fund', 0.0019907100199071),\n",
       " ('the National Parks Service', 0.0017921146953405018),\n",
       " ('the Appomattox Courthouse and Statue of Liberty', 0.0017921146953405018),\n",
       " ('the Land and Water Conservation Fund', 0.0013941535496305815),\n",
       " ('the Natural Resources Management Act', 0.0013941535496305815),\n",
       " ('Target', 0.0012131536833410769),\n",
       " ('the Great American Outdoors Act', 0.0011459492888064317),\n",
       " ('Capitol Hill', 0.000883481597767312),\n",
       " ('Senate', 0.0007037413380270522),\n",
       " ('FDA', 0.0005633802816901409),\n",
       " ('Whole Foods', 0.0004136029411764706),\n",
       " ('DUI', 0.0003423736143555005),\n",
       " ('Deutsch', 5.835667600373482e-05),\n",
       " ('the Forest Service', 0.0),\n",
       " ('the Bureau of Indian Education', 0.0),\n",
       " ('the Bureau of Land Management', 0.0),\n",
       " ('the Fish and Wildlife Service', 0.0),\n",
       " ('Jayaraj', 0.0),\n",
       " ('NDTV', 0.0),\n",
       " ('Sonoma Tech Meteorologist', 0.0),\n",
       " ('Consumer Reports', -5.604395604395601e-05),\n",
       " ('Deboni', -0.0003628628628628629),\n",
       " ('the National Oceanic & Atmospheric Administration', -0.0005025125628140704),\n",
       " ('the Southern United States', -0.0005025125628140704),\n",
       " ('Amit Agarwal', -0.0006304347826086958),\n",
       " ('Magistrate', -0.0006684491978609625),\n",
       " ('Sooraj', -0.0007005388760585066),\n",
       " ('DCP', -0.0010416666666666667)]"
      ]
     },
     "execution_count": 153,
     "metadata": {},
     "output_type": "execute_result"
    }
   ],
   "source": [
    "#  top 30 orgs\n",
    "keywords = named_entities['ORG']\n",
    "sentment_result_org = extract_sentiment(new_df, keywords, top=30)\n",
    "sentment_result_org\n",
    "sorted(sentment_result_org.items(), key=lambda x:x[1], reverse=True)"
   ]
  },
  {
   "cell_type": "code",
   "execution_count": 155,
   "id": "581448a6",
   "metadata": {},
   "outputs": [
    {
     "name": "stdout",
     "output_type": "stream",
     "text": [
      "Extracting Sentiments using TextBlob...\n"
     ]
    },
    {
     "data": {
      "text/plain": [
       "[('Brian Cornell', 0.002359882005899705),\n",
       " ('Cher', 0.0017907466352862498),\n",
       " ('Martin Landry', 0.0016826923076923078),\n",
       " ('Hallberg', 0.0014084507042253522),\n",
       " ('Ron Johnson', 0.0013736263736263737),\n",
       " ('Kaavan', 0.0013636363636363637),\n",
       " ('Shawn', 0.001013856032443393),\n",
       " ('Rose Amal', 0.0009461358313817331),\n",
       " ('Onry', 0.0009303774928774928),\n",
       " ('Max Melia', 0.0006799163179916319),\n",
       " ('Emma Lovell', 0.0006195786864931846),\n",
       " ('George Floyd', 0.0005177020708082832),\n",
       " ('Peter Horby', 0.0005165289256198347),\n",
       " ('April Judd', 0.0004651162790697674),\n",
       " ('Tim Scott', 0.0003012048192771084),\n",
       " ('Scott', 0.00023961661341853033),\n",
       " ('Nolan', 0.00020554291972032683),\n",
       " ('Reasons', 5.8685446009389656e-05),\n",
       " ('Wolfgang Palme', 5.8685446009389656e-05),\n",
       " ('Arun Balagopalan', 0.0),\n",
       " ('Jeff Beamish', 0.0),\n",
       " ('Shawn Dromgoole', 0.0),\n",
       " ('Madisen Hallberg', 0.0),\n",
       " ('Emmanuel Henreid', 0.0),\n",
       " ('Pennis', -0.00021367521367521362),\n",
       " ('Max', -0.0005604288499025341),\n",
       " ('Justin Amash', -0.0005889281507656066),\n",
       " ('Stroger', -0.0025609756097560977),\n",
       " ('Tamil Nadu', -0.002578268876611418),\n",
       " ('Kamryn Johnson', -0.00641025641025641)]"
      ]
     },
     "execution_count": 155,
     "metadata": {},
     "output_type": "execute_result"
    }
   ],
   "source": [
    "#  top 30 PERSON\n",
    "keywords = named_entities['PER']\n",
    "sentment_result_org = extract_sentiment(new_df, keywords, top=30)\n",
    "sentment_result_org\n",
    "sorted(sentment_result_org.items(), key=lambda x:x[1], reverse=True)"
   ]
  },
  {
   "cell_type": "code",
   "execution_count": null,
   "id": "254f685c",
   "metadata": {},
   "outputs": [],
   "source": []
  },
  {
   "cell_type": "code",
   "execution_count": 156,
   "id": "4a241cee",
   "metadata": {},
   "outputs": [],
   "source": [
    "# analyze book"
   ]
  },
  {
   "cell_type": "code",
   "execution_count": 158,
   "id": "2b9b7b3d",
   "metadata": {},
   "outputs": [],
   "source": [
    "book = open('book_cab_and_goose.txt',encoding=\"utf8\").read()"
   ]
  },
  {
   "cell_type": "code",
   "execution_count": 159,
   "id": "35382693",
   "metadata": {},
   "outputs": [
    {
     "data": {
      "text/plain": [
       "Sentiment(classification='pos', p_pos=1.0, p_neg=6.5736053249909995e-257)"
      ]
     },
     "execution_count": 159,
     "metadata": {},
     "output_type": "execute_result"
    }
   ],
   "source": [
    "blob = TextBlob(book, analyzer=NaiveBayesAnalyzer())\n",
    "blob.sentiment"
   ]
  },
  {
   "cell_type": "code",
   "execution_count": null,
   "id": "90302222",
   "metadata": {},
   "outputs": [],
   "source": [
    "blob = TextBlob(book)\n",
    "blob.sentiment"
   ]
  },
  {
   "cell_type": "code",
   "execution_count": 160,
   "id": "094aa8fe",
   "metadata": {},
   "outputs": [],
   "source": [
    "blob = TextBlob(book)\n",
    "\n",
    "polarity = []\n",
    "subjectivity = []\n",
    "sentences = []\n",
    "PatternAnalyzerDF = pd.DataFrame(columns=['sentence', 'polarity', 'subjectivity'])\n",
    "\n",
    "for sentence in blob.sentences:\n",
    "    polarity.append(sentence.sentiment.polarity)\n",
    "    subjectivity.append(sentence.sentiment.subjectivity)\n",
    "    sentences.append(str(sentence.raw))\n",
    "\n",
    "PatternAnalyzerDF['sentence'] = sentences\n",
    "PatternAnalyzerDF['polarity'] = polarity\n",
    "PatternAnalyzerDF['subjectivity'] = subjectivity\n",
    "\n",
    "PatternAnalyzerDF['sentence'] = PatternAnalyzerDF['sentence'].str.replace('\\n', ' ')"
   ]
  },
  {
   "cell_type": "code",
   "execution_count": 161,
   "id": "b4f1b40e",
   "metadata": {},
   "outputs": [
    {
     "data": {
      "text/html": [
       "<div>\n",
       "<style scoped>\n",
       "    .dataframe tbody tr th:only-of-type {\n",
       "        vertical-align: middle;\n",
       "    }\n",
       "\n",
       "    .dataframe tbody tr th {\n",
       "        vertical-align: top;\n",
       "    }\n",
       "\n",
       "    .dataframe thead th {\n",
       "        text-align: right;\n",
       "    }\n",
       "</style>\n",
       "<table border=\"1\" class=\"dataframe\">\n",
       "  <thead>\n",
       "    <tr style=\"text-align: right;\">\n",
       "      <th></th>\n",
       "      <th>sentence</th>\n",
       "      <th>polarity</th>\n",
       "      <th>subjectivity</th>\n",
       "    </tr>\n",
       "  </thead>\n",
       "  <tbody>\n",
       "    <tr>\n",
       "      <th>0</th>\n",
       "      <td>The Project Gutenberg eBook, Cab and Caboose, by Kirk Munroe   This eBook is for the use of anyone anywhere at no cost and with almost no restrictions whatsoever.</td>\n",
       "      <td>0.000000</td>\n",
       "      <td>0.000000</td>\n",
       "    </tr>\n",
       "    <tr>\n",
       "      <th>1</th>\n",
       "      <td>You may copy it, give it away or re-use it under the terms of the Project Gutenberg License included with this eBook or online at www.gutenberg.org      Title: Cab and Caboose        The Story of a Railroad Boy   Author: Kirk Munroe    Release Date: September 4, 2007  [eBook #22497]  Language: English   ***START OF THE PROJECT GUTENBERG EBOOK CAB AND CABOOSE***   E-text prepared by Mark C. Orton, Linda McKeown, Anne Storer, and the Project Gutenberg Online Distributed Proofreading Team (http://www.pgdp.net)    Note: Project Gutenberg also has an HTML version of this       file which includes the original illustrations.</td>\n",
       "      <td>0.187500</td>\n",
       "      <td>0.375000</td>\n",
       "    </tr>\n",
       "    <tr>\n",
       "      <th>2</th>\n",
       "      <td>See 22497-h.htm or 22497-h.zip:       (http://www.gutenberg.net/dirs/2/2/4/9/22497/22497-h/22497-h.htm)       or       (http://www.gutenberg.net/dirs/2/2/4/9/22497/22497-h.zip)      CAB AND CABOOSE  The Story of a Railroad Boy  by  KIRK MUNROE     OFFICERS OF THE NATIONAL COUNCIL  Honorary President, THE HON.</td>\n",
       "      <td>-0.750000</td>\n",
       "      <td>1.000000</td>\n",
       "    </tr>\n",
       "    <tr>\n",
       "      <th>3</th>\n",
       "      <td>WOODROW WILSON Honorary Vice-President, HON.</td>\n",
       "      <td>0.000000</td>\n",
       "      <td>0.000000</td>\n",
       "    </tr>\n",
       "    <tr>\n",
       "      <th>4</th>\n",
       "      <td>WILLIAM H. TAFT Honorary Vice-President, COLONEL THEODORE ROOSEVELT President, COLIN H. LIVINGSTONE, Washington, D. C. Vice-President, B. L. DULANEY, Bristol, Tenn.</td>\n",
       "      <td>0.000000</td>\n",
       "      <td>0.000000</td>\n",
       "    </tr>\n",
       "    <tr>\n",
       "      <th>5</th>\n",
       "      <td>Vice-President, MILTON A. McRAE, Detroit.</td>\n",
       "      <td>0.000000</td>\n",
       "      <td>0.000000</td>\n",
       "    </tr>\n",
       "    <tr>\n",
       "      <th>6</th>\n",
       "      <td>Mich.</td>\n",
       "      <td>0.000000</td>\n",
       "      <td>0.000000</td>\n",
       "    </tr>\n",
       "    <tr>\n",
       "      <th>7</th>\n",
       "      <td>Vice-President, DAVID STARR JORDAN, Stanford University, Cal.</td>\n",
       "      <td>0.000000</td>\n",
       "      <td>0.000000</td>\n",
       "    </tr>\n",
       "    <tr>\n",
       "      <th>8</th>\n",
       "      <td>Vice-President, F. L. SEELY, Asheville, N. C. Vice-President, A. STAMFORD WHITE, Chicago, Ill. Chief Scout, ERNEST THOMPSON SETON, Greenwich, Connecticut National Scout Commissioner, DANIEL CARTER BEARD, Flushing, N. Y.</td>\n",
       "      <td>0.000000</td>\n",
       "      <td>0.000000</td>\n",
       "    </tr>\n",
       "    <tr>\n",
       "      <th>9</th>\n",
       "      <td>NATIONAL HEADQUARTERS BOY SCOUTS OF AMERICA THE FIFTH AVENUE BUILDING, 200 FIFTH AVENUE TELEPHONE GRAMERCY 545 NEW YORK CITY   FINANCE COMMITTEE  John Sherman Hoyt, Chairman August Belmont George D. Pratt Mortimer L. Schiff H. Rogers Winthrop  GEORGE D. PRATT, Treasurer  JAMES E. WEST, Chief Scout Executive   ADDITIONAL MEMBERS OF THE EXECUTIVE BOARD  Ernest P. Bicknell Robert Garrett Lee F. Hanmer John Sherman Hoyt Charles C. Jackson Prof. Jeremiah W. Jenks William D. Murray Dr. Charles P. Neill George D. Porter Frank Presbrey Edgar M. Robinson Mortimer L. Schiff Lorillard Spencer Seth Sprague Terry                                 July 31st, 1913.</td>\n",
       "      <td>0.136364</td>\n",
       "      <td>0.454545</td>\n",
       "    </tr>\n",
       "  </tbody>\n",
       "</table>\n",
       "</div>"
      ],
      "text/plain": [
       "                                                                                                                                                                                                                                                                                                                                                                                                                                                                                                                                                                                                                                                                           sentence  \\\n",
       "0  The Project Gutenberg eBook, Cab and Caboose, by Kirk Munroe   This eBook is for the use of anyone anywhere at no cost and with almost no restrictions whatsoever.                                                                                                                                                                                                                                                                                                                                                                                                                                                                                                                 \n",
       "1  You may copy it, give it away or re-use it under the terms of the Project Gutenberg License included with this eBook or online at www.gutenberg.org      Title: Cab and Caboose        The Story of a Railroad Boy   Author: Kirk Munroe    Release Date: September 4, 2007  [eBook #22497]  Language: English   ***START OF THE PROJECT GUTENBERG EBOOK CAB AND CABOOSE***   E-text prepared by Mark C. Orton, Linda McKeown, Anne Storer, and the Project Gutenberg Online Distributed Proofreading Team (http://www.pgdp.net)    Note: Project Gutenberg also has an HTML version of this       file which includes the original illustrations.                                 \n",
       "2  See 22497-h.htm or 22497-h.zip:       (http://www.gutenberg.net/dirs/2/2/4/9/22497/22497-h/22497-h.htm)       or       (http://www.gutenberg.net/dirs/2/2/4/9/22497/22497-h.zip)      CAB AND CABOOSE  The Story of a Railroad Boy  by  KIRK MUNROE     OFFICERS OF THE NATIONAL COUNCIL  Honorary President, THE HON.                                                                                                                                                                                                                                                                                                                                                             \n",
       "3  WOODROW WILSON Honorary Vice-President, HON.                                                                                                                                                                                                                                                                                                                                                                                                                                                                                                                                                                                                                                       \n",
       "4  WILLIAM H. TAFT Honorary Vice-President, COLONEL THEODORE ROOSEVELT President, COLIN H. LIVINGSTONE, Washington, D. C. Vice-President, B. L. DULANEY, Bristol, Tenn.                                                                                                                                                                                                                                                                                                                                                                                                                                                                                                               \n",
       "5  Vice-President, MILTON A. McRAE, Detroit.                                                                                                                                                                                                                                                                                                                                                                                                                                                                                                                                                                                                                                          \n",
       "6  Mich.                                                                                                                                                                                                                                                                                                                                                                                                                                                                                                                                                                                                                                                                              \n",
       "7  Vice-President, DAVID STARR JORDAN, Stanford University, Cal.                                                                                                                                                                                                                                                                                                                                                                                                                                                                                                                                                                                                                      \n",
       "8  Vice-President, F. L. SEELY, Asheville, N. C. Vice-President, A. STAMFORD WHITE, Chicago, Ill. Chief Scout, ERNEST THOMPSON SETON, Greenwich, Connecticut National Scout Commissioner, DANIEL CARTER BEARD, Flushing, N. Y.                                                                                                                                                                                                                                                                                                                                                                                                                                                        \n",
       "9  NATIONAL HEADQUARTERS BOY SCOUTS OF AMERICA THE FIFTH AVENUE BUILDING, 200 FIFTH AVENUE TELEPHONE GRAMERCY 545 NEW YORK CITY   FINANCE COMMITTEE  John Sherman Hoyt, Chairman August Belmont George D. Pratt Mortimer L. Schiff H. Rogers Winthrop  GEORGE D. PRATT, Treasurer  JAMES E. WEST, Chief Scout Executive   ADDITIONAL MEMBERS OF THE EXECUTIVE BOARD  Ernest P. Bicknell Robert Garrett Lee F. Hanmer John Sherman Hoyt Charles C. Jackson Prof. Jeremiah W. Jenks William D. Murray Dr. Charles P. Neill George D. Porter Frank Presbrey Edgar M. Robinson Mortimer L. Schiff Lorillard Spencer Seth Sprague Terry                                 July 31st, 1913.   \n",
       "\n",
       "   polarity  subjectivity  \n",
       "0  0.000000  0.000000      \n",
       "1  0.187500  0.375000      \n",
       "2 -0.750000  1.000000      \n",
       "3  0.000000  0.000000      \n",
       "4  0.000000  0.000000      \n",
       "5  0.000000  0.000000      \n",
       "6  0.000000  0.000000      \n",
       "7  0.000000  0.000000      \n",
       "8  0.000000  0.000000      \n",
       "9  0.136364  0.454545      "
      ]
     },
     "execution_count": 161,
     "metadata": {},
     "output_type": "execute_result"
    }
   ],
   "source": [
    "PatternAnalyzerDF.head(10)"
   ]
  },
  {
   "cell_type": "code",
   "execution_count": 165,
   "id": "76ea9274",
   "metadata": {},
   "outputs": [],
   "source": [
    "import matplotlib.pyplot as plt\n",
    "PatternAnalyzerDF.sort_index(inplace=True)\n",
    "sentiment_top_df = PatternAnalyzerDF.head(n=200)\n",
    "pd.set_option('display.max_colwidth', 200)"
   ]
  },
  {
   "cell_type": "code",
   "execution_count": 166,
   "id": "7ccbec2d",
   "metadata": {},
   "outputs": [
    {
     "data": {
      "image/png": "[encoded data removed]",
      "text/plain": [
       "<Figure size 1440x720 with 1 Axes>"
      ]
     },
     "metadata": {
      "needs_background": "light"
     },
     "output_type": "display_data"
    }
   ],
   "source": [
    "plt.figure().set_size_inches(20, 10)\n",
    "plt.plot(sentiment_top_df['polarity'])\n",
    "plt.xlabel('Sentence')\n",
    "plt.ylabel('Polarity')\n",
    "plt.show()"
   ]
  },
  {
   "cell_type": "code",
   "execution_count": null,
   "id": "8817866a",
   "metadata": {},
   "outputs": [],
   "source": []
  },
  {
   "cell_type": "code",
   "execution_count": null,
   "id": "2ccfd6dc",
   "metadata": {},
   "outputs": [],
   "source": []
  },
  {
   "cell_type": "code",
   "execution_count": null,
   "id": "e5a7842a",
   "metadata": {},
   "outputs": [],
   "source": []
  }
 ],
 "metadata": {
  "kernelspec": {
   "display_name": "Python 3 (ipykernel)",
   "language": "python",
   "name": "python3"
  },
  "language_info": {
   "codemirror_mode": {
    "name": "ipython",
    "version": 3
   },
   "file_extension": ".py",
   "mimetype": "text/x-python",
   "name": "python",
   "nbconvert_exporter": "python",
   "pygments_lexer": "ipython3",
   "version": "3.9.7"
  }
 },
 "nbformat": 4,
 "nbformat_minor": 5
}
