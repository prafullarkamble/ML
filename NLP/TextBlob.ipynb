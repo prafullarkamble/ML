{
 "cells": [
  {
   "cell_type": "code",
   "execution_count": 3,
   "metadata": {},
   "outputs": [],
   "source": []
  },
  {
   "cell_type": "code",
   "execution_count": 2,
   "metadata": {},
   "outputs": [
    {
     "name": "stdout",
     "output_type": "stream",
     "text": [
      "Collecting textblob\n",
      "  Using cached textblob-0.15.3-py2.py3-none-any.whl (636 kB)\n",
      "Requirement already satisfied: nltk>=3.1 in c:\\users\\prafulla.kamble\\anaconda3\\lib\\site-packages (from textblob) (3.5)\n",
      "Requirement already satisfied: regex in c:\\users\\prafulla.kamble\\anaconda3\\lib\\site-packages (from nltk>=3.1->textblob) (2020.6.8)\n",
      "Requirement already satisfied: joblib in c:\\users\\prafulla.kamble\\anaconda3\\lib\\site-packages (from nltk>=3.1->textblob) (0.16.0)\n",
      "Requirement already satisfied: tqdm in c:\\users\\prafulla.kamble\\anaconda3\\lib\\site-packages (from nltk>=3.1->textblob) (4.47.0)\n",
      "Requirement already satisfied: click in c:\\users\\prafulla.kamble\\anaconda3\\lib\\site-packages (from nltk>=3.1->textblob) (7.1.2)\n",
      "Installing collected packages: textblob\n",
      "Successfully installed textblob-0.15.3\n"
     ]
    }
   ],
   "source": [
    "!pip install textblob"
   ]
  },
  {
   "cell_type": "code",
   "execution_count": 59,
   "metadata": {},
   "outputs": [],
   "source": [
    "from textblob import TextBlob"
   ]
  },
  {
   "cell_type": "code",
   "execution_count": 60,
   "metadata": {},
   "outputs": [],
   "source": [
    "blob = TextBlob(\"The science of extracting meaning and learning from text data is an active topic of research called Natural Language Processing (NLP).\\\n",
    "                         NLP produces new and exciting results on a daily basis, and is a very large field. However, having worked with hundreds of companies, the Insight team has seen a few key practical applications come up much more frequently than any other\")"
   ]
  },
  {
   "cell_type": "code",
   "execution_count": 61,
   "metadata": {},
   "outputs": [
    {
     "data": {
      "text/plain": [
       "Sentiment(polarity=0.0869637937819756, subjectivity=0.4624262101534829)"
      ]
     },
     "execution_count": 61,
     "metadata": {},
     "output_type": "execute_result"
    }
   ],
   "source": [
    "blob.sentiment"
   ]
  },
  {
   "cell_type": "code",
   "execution_count": 62,
   "metadata": {},
   "outputs": [
    {
     "data": {
      "text/plain": [
       "defaultdict(int,\n",
       "            {'the': 2,\n",
       "             'science': 1,\n",
       "             'of': 3,\n",
       "             'extracting': 1,\n",
       "             'meaning': 1,\n",
       "             'and': 3,\n",
       "             'learning': 1,\n",
       "             'from': 1,\n",
       "             'text': 1,\n",
       "             'data': 1,\n",
       "             'is': 2,\n",
       "             'an': 1,\n",
       "             'active': 1,\n",
       "             'topic': 1,\n",
       "             'research': 1,\n",
       "             'called': 1,\n",
       "             'natural': 1,\n",
       "             'language': 1,\n",
       "             'processing': 1,\n",
       "             'nlp': 2,\n",
       "             'produces': 1,\n",
       "             'new': 1,\n",
       "             'exciting': 1,\n",
       "             'results': 1,\n",
       "             'on': 1,\n",
       "             'a': 3,\n",
       "             'daily': 1,\n",
       "             'basis': 1,\n",
       "             'very': 1,\n",
       "             'large': 1,\n",
       "             'field': 1,\n",
       "             'however': 1,\n",
       "             'having': 1,\n",
       "             'worked': 1,\n",
       "             'with': 1,\n",
       "             'hundreds': 1,\n",
       "             'companies': 1,\n",
       "             'insight': 1,\n",
       "             'team': 1,\n",
       "             'has': 1,\n",
       "             'seen': 1,\n",
       "             'few': 1,\n",
       "             'key': 1,\n",
       "             'practical': 1,\n",
       "             'applications': 1,\n",
       "             'come': 1,\n",
       "             'up': 1,\n",
       "             'much': 1,\n",
       "             'more': 1,\n",
       "             'frequently': 1,\n",
       "             'than': 1,\n",
       "             'any': 1,\n",
       "             'other': 1})"
      ]
     },
     "execution_count": 62,
     "metadata": {},
     "output_type": "execute_result"
    }
   ],
   "source": [
    "blob.word_counts"
   ]
  },
  {
   "cell_type": "code",
   "execution_count": 34,
   "metadata": {},
   "outputs": [
    {
     "data": {
      "text/plain": [
       "WordList(['The', 'science', 'of', 'extracting', 'meaning', 'and', 'learning', 'from', 'text', 'data', 'is', 'an', 'active', 'topic', 'of', 'research', 'called', 'Natural', 'Language', 'Processing', 'NLP', 'NLP', 'produces', 'new', 'and', 'exciting', 'results', 'on', 'a', 'daily', 'basis', 'and', 'is', 'a', 'very', 'large', 'field', 'However', 'having', 'worked', 'with', 'hundreds', 'of', 'companies', 'the', 'Insight', 'team', 'has', 'seen', 'a', 'few', 'key', 'practical', 'applications', 'come', 'up', 'much', 'more', 'frequently', 'than', 'any', 'other'])"
      ]
     },
     "execution_count": 34,
     "metadata": {},
     "output_type": "execute_result"
    }
   ],
   "source": [
    "blob.words"
   ]
  },
  {
   "cell_type": "code",
   "execution_count": 36,
   "metadata": {},
   "outputs": [
    {
     "data": {
      "text/plain": [
       "Sentence(\"The science of extracting meaning and learning from text data is an active topic of research called Natural Language Processing (NLP).\")"
      ]
     },
     "execution_count": 36,
     "metadata": {},
     "output_type": "execute_result"
    }
   ],
   "source": [
    "blob.sentences[0]"
   ]
  },
  {
   "cell_type": "code",
   "execution_count": 37,
   "metadata": {},
   "outputs": [
    {
     "data": {
      "text/plain": [
       "WordList(['text data', 'active topic', 'language processing', 'nlp', 'nlp', 'exciting results', 'daily basis', 'large field', 'insight', 'practical applications'])"
      ]
     },
     "execution_count": 37,
     "metadata": {},
     "output_type": "execute_result"
    }
   ],
   "source": [
    "blob.noun_phrases"
   ]
  },
  {
   "cell_type": "code",
   "execution_count": 41,
   "metadata": {},
   "outputs": [
    {
     "data": {
      "text/plain": [
       "[WordList(['The', 'science', 'of', 'extracting']),\n",
       " WordList(['science', 'of', 'extracting', 'meaning']),\n",
       " WordList(['of', 'extracting', 'meaning', 'and']),\n",
       " WordList(['extracting', 'meaning', 'and', 'learning']),\n",
       " WordList(['meaning', 'and', 'learning', 'from']),\n",
       " WordList(['and', 'learning', 'from', 'text']),\n",
       " WordList(['learning', 'from', 'text', 'data']),\n",
       " WordList(['from', 'text', 'data', 'is']),\n",
       " WordList(['text', 'data', 'is', 'an']),\n",
       " WordList(['data', 'is', 'an', 'active']),\n",
       " WordList(['is', 'an', 'active', 'topic']),\n",
       " WordList(['an', 'active', 'topic', 'of']),\n",
       " WordList(['active', 'topic', 'of', 'research']),\n",
       " WordList(['topic', 'of', 'research', 'called']),\n",
       " WordList(['of', 'research', 'called', 'Natural']),\n",
       " WordList(['research', 'called', 'Natural', 'Language']),\n",
       " WordList(['called', 'Natural', 'Language', 'Processing']),\n",
       " WordList(['Natural', 'Language', 'Processing', 'NLP']),\n",
       " WordList(['Language', 'Processing', 'NLP', 'NLP']),\n",
       " WordList(['Processing', 'NLP', 'NLP', 'produces']),\n",
       " WordList(['NLP', 'NLP', 'produces', 'new']),\n",
       " WordList(['NLP', 'produces', 'new', 'and']),\n",
       " WordList(['produces', 'new', 'and', 'exciting']),\n",
       " WordList(['new', 'and', 'exciting', 'results']),\n",
       " WordList(['and', 'exciting', 'results', 'on']),\n",
       " WordList(['exciting', 'results', 'on', 'a']),\n",
       " WordList(['results', 'on', 'a', 'daily']),\n",
       " WordList(['on', 'a', 'daily', 'basis']),\n",
       " WordList(['a', 'daily', 'basis', 'and']),\n",
       " WordList(['daily', 'basis', 'and', 'is']),\n",
       " WordList(['basis', 'and', 'is', 'a']),\n",
       " WordList(['and', 'is', 'a', 'very']),\n",
       " WordList(['is', 'a', 'very', 'large']),\n",
       " WordList(['a', 'very', 'large', 'field']),\n",
       " WordList(['very', 'large', 'field', 'However']),\n",
       " WordList(['large', 'field', 'However', 'having']),\n",
       " WordList(['field', 'However', 'having', 'worked']),\n",
       " WordList(['However', 'having', 'worked', 'with']),\n",
       " WordList(['having', 'worked', 'with', 'hundreds']),\n",
       " WordList(['worked', 'with', 'hundreds', 'of']),\n",
       " WordList(['with', 'hundreds', 'of', 'companies']),\n",
       " WordList(['hundreds', 'of', 'companies', 'the']),\n",
       " WordList(['of', 'companies', 'the', 'Insight']),\n",
       " WordList(['companies', 'the', 'Insight', 'team']),\n",
       " WordList(['the', 'Insight', 'team', 'has']),\n",
       " WordList(['Insight', 'team', 'has', 'seen']),\n",
       " WordList(['team', 'has', 'seen', 'a']),\n",
       " WordList(['has', 'seen', 'a', 'few']),\n",
       " WordList(['seen', 'a', 'few', 'key']),\n",
       " WordList(['a', 'few', 'key', 'practical']),\n",
       " WordList(['few', 'key', 'practical', 'applications']),\n",
       " WordList(['key', 'practical', 'applications', 'come']),\n",
       " WordList(['practical', 'applications', 'come', 'up']),\n",
       " WordList(['applications', 'come', 'up', 'much']),\n",
       " WordList(['come', 'up', 'much', 'more']),\n",
       " WordList(['up', 'much', 'more', 'frequently']),\n",
       " WordList(['much', 'more', 'frequently', 'than']),\n",
       " WordList(['more', 'frequently', 'than', 'any']),\n",
       " WordList(['frequently', 'than', 'any', 'other'])]"
      ]
     },
     "execution_count": 41,
     "metadata": {},
     "output_type": "execute_result"
    }
   ],
   "source": [
    "blob.ngrams(n=4)"
   ]
  },
  {
   "cell_type": "code",
   "execution_count": 43,
   "metadata": {},
   "outputs": [
    {
     "data": {
      "text/plain": [
       "Sentiment(polarity=0.0869637937819756, subjectivity=0.4624262101534829, assessments=[(['active'], -0.13333333333333333, 0.6, None), (['natural'], 0.1, 0.4, None), (['new'], 0.13636363636363635, 0.45454545454545453, None), (['exciting'], 0.3, 0.8, None), (['daily'], 0.0, 0.0, None), (['very', 'large'], 0.2785714285714286, 0.5571428571428572, None), (['few'], -0.2, 0.1, None), (['key'], 0.0, 1.0, None), (['much', 'more'], 0.5, 0.5, None), (['frequently'], 0.1, 0.3, None), (['other'], -0.125, 0.375, None)])"
      ]
     },
     "execution_count": 43,
     "metadata": {},
     "output_type": "execute_result"
    }
   ],
   "source": [
    "blob.sentiment_assessments"
   ]
  },
  {
   "cell_type": "code",
   "execution_count": 45,
   "metadata": {},
   "outputs": [
    {
     "data": {
      "text/plain": [
       "defaultdict(int,\n",
       "            {'text data': 1,\n",
       "             'active topic': 1,\n",
       "             'language processing': 1,\n",
       "             'nlp': 2,\n",
       "             'exciting results': 1,\n",
       "             'daily basis': 1,\n",
       "             'large field': 1,\n",
       "             'insight': 1,\n",
       "             'practical applications': 1})"
      ]
     },
     "execution_count": 45,
     "metadata": {},
     "output_type": "execute_result"
    }
   ],
   "source": [
    "blob.np_counts # Returns # of times each noun repeats"
   ]
  },
  {
   "cell_type": "code",
   "execution_count": 50,
   "metadata": {},
   "outputs": [
    {
     "data": {
      "text/plain": [
       "-0.016666666666666663"
      ]
     },
     "execution_count": 50,
     "metadata": {},
     "output_type": "execute_result"
    }
   ],
   "source": [
    "blob.sentences[0].polarity"
   ]
  },
  {
   "cell_type": "code",
   "execution_count": 51,
   "metadata": {},
   "outputs": [
    {
     "data": {
      "text/plain": [
       "0.17873376623376624"
      ]
     },
     "execution_count": 51,
     "metadata": {},
     "output_type": "execute_result"
    }
   ],
   "source": [
    "blob.sentences[1].polarity"
   ]
  },
  {
   "cell_type": "code",
   "execution_count": 52,
   "metadata": {},
   "outputs": [
    {
     "data": {
      "text/plain": [
       "0.0869637937819756"
      ]
     },
     "execution_count": 52,
     "metadata": {},
     "output_type": "execute_result"
    }
   ],
   "source": [
    "blob.polarity"
   ]
  },
  {
   "cell_type": "code",
   "execution_count": 55,
   "metadata": {},
   "outputs": [
    {
     "data": {
      "text/plain": [
       "Sentiment(polarity=0.17873376623376624, subjectivity=0.45292207792207795)"
      ]
     },
     "execution_count": 55,
     "metadata": {},
     "output_type": "execute_result"
    }
   ],
   "source": [
    "blob.sentences[1].sentiment"
   ]
  },
  {
   "cell_type": "code",
   "execution_count": 63,
   "metadata": {},
   "outputs": [
    {
     "data": {
      "text/plain": [
       "WordList(['Use', '4', 'spaces', 'per', 'indentation', 'level'])"
      ]
     },
     "execution_count": 63,
     "metadata": {},
     "output_type": "execute_result"
    }
   ],
   "source": [
    "sentence = TextBlob('Use 4 spaces per indentation level.')\n",
    "sentence.words"
   ]
  },
  {
   "cell_type": "code",
   "execution_count": 71,
   "metadata": {},
   "outputs": [
    {
     "data": {
      "text/plain": [
       "'Uses'"
      ]
     },
     "execution_count": 71,
     "metadata": {},
     "output_type": "execute_result"
    }
   ],
   "source": [
    "sentence.words[0].pluralize()"
   ]
  },
  {
   "cell_type": "code",
   "execution_count": 72,
   "metadata": {},
   "outputs": [
    {
     "data": {
      "text/plain": [
       "'space'"
      ]
     },
     "execution_count": 72,
     "metadata": {},
     "output_type": "execute_result"
    }
   ],
   "source": [
    "sentence.words[2].singularize()"
   ]
  },
  {
   "cell_type": "code",
   "execution_count": 73,
   "metadata": {},
   "outputs": [],
   "source": [
    "from textblob import Word"
   ]
  },
  {
   "cell_type": "code",
   "execution_count": 74,
   "metadata": {},
   "outputs": [],
   "source": [
    "w = Word('octopi')"
   ]
  },
  {
   "cell_type": "code",
   "execution_count": 75,
   "metadata": {},
   "outputs": [
    {
     "data": {
      "text/plain": [
       "'octopus'"
      ]
     },
     "execution_count": 75,
     "metadata": {},
     "output_type": "execute_result"
    }
   ],
   "source": [
    "w.lemmatize()"
   ]
  },
  {
   "cell_type": "code",
   "execution_count": 77,
   "metadata": {},
   "outputs": [
    {
     "data": {
      "text/plain": [
       "'go'"
      ]
     },
     "execution_count": 77,
     "metadata": {},
     "output_type": "execute_result"
    }
   ],
   "source": [
    "w = Word(\"went\")\n",
    "w.lemmatize(\"v\")  # Pass in WordNet part of speech (verb)"
   ]
  },
  {
   "cell_type": "code",
   "execution_count": 80,
   "metadata": {},
   "outputs": [],
   "source": [
    "from textblob.wordnet import VERB"
   ]
  },
  {
   "cell_type": "code",
   "execution_count": 81,
   "metadata": {},
   "outputs": [
    {
     "data": {
      "text/plain": [
       "[Synset('octopus.n.01'), Synset('octopus.n.02')]"
      ]
     },
     "execution_count": 81,
     "metadata": {},
     "output_type": "execute_result"
    }
   ],
   "source": [
    "word = Word('octopus')\n",
    "word.synsets"
   ]
  },
  {
   "cell_type": "code",
   "execution_count": 93,
   "metadata": {},
   "outputs": [
    {
     "data": {
      "text/plain": [
       "[Synset('message.v.01'), Synset('message.v.02'), Synset('message.v.03')]"
      ]
     },
     "execution_count": 93,
     "metadata": {},
     "output_type": "execute_result"
    }
   ],
   "source": [
    "#  Synset instances are the groupings of synonymous that express \n",
    "# the same type of concept.\n",
    "\n",
    "Word(\"Message\").get_synsets(pos=VERB)"
   ]
  },
  {
   "cell_type": "code",
   "execution_count": 94,
   "metadata": {},
   "outputs": [
    {
     "data": {
      "text/plain": [
       "[Synset('test.v.01'),\n",
       " Synset('screen.v.01'),\n",
       " Synset('quiz.v.01'),\n",
       " Synset('test.v.04'),\n",
       " Synset('test.v.05'),\n",
       " Synset('test.v.06'),\n",
       " Synset('test.v.07')]"
      ]
     },
     "execution_count": 94,
     "metadata": {},
     "output_type": "execute_result"
    }
   ],
   "source": [
    "Word(\"test\").get_synsets(pos=VERB)"
   ]
  },
  {
   "cell_type": "code",
   "execution_count": 126,
   "metadata": {},
   "outputs": [
    {
     "data": {
      "text/plain": [
       "WordList(['Beautiful', 'is', 'better', 'than', 'ugly', 'Explicit', 'is', 'better', 'than', 'implicit', 'Simple', 'is', 'better', 'than', 'complex'])"
      ]
     },
     "execution_count": 126,
     "metadata": {},
     "output_type": "execute_result"
    }
   ],
   "source": [
    "zen = textblob.TextBlob(\"Beautiful is better than ugly. \"\n",
    "      \"Explicit is better than implicit. \"\n",
    "      \"Simple is better than complex.\")\n",
    "zen.words"
   ]
  },
  {
   "cell_type": "code",
   "execution_count": 97,
   "metadata": {},
   "outputs": [
    {
     "data": {
      "text/plain": [
       "TextBlob(\"I have good spelling!. spelling checked\")"
      ]
     },
     "execution_count": 97,
     "metadata": {},
     "output_type": "execute_result"
    }
   ],
   "source": [
    "b = TextBlob(\"I havv goood speling!. spelingg checkeer\")\n",
    "b.correct()"
   ]
  },
  {
   "cell_type": "code",
   "execution_count": 101,
   "metadata": {},
   "outputs": [
    {
     "data": {
      "text/plain": [
       "[('specific', 1.0)]"
      ]
     },
     "execution_count": 101,
     "metadata": {},
     "output_type": "execute_result"
    }
   ],
   "source": [
    "w = Word('spesifik')\n",
    "w.spellcheck()"
   ]
  },
  {
   "cell_type": "code",
   "execution_count": 103,
   "metadata": {},
   "outputs": [],
   "source": [
    "monty = TextBlob(\"We are no longer the Knights who say Ni. \"\n",
    "        \"We are now the Knights who say Ekki ekki ekki PTANG.\")"
   ]
  },
  {
   "cell_type": "code",
   "execution_count": 108,
   "metadata": {},
   "outputs": [
    {
     "data": {
      "text/plain": [
       "2"
      ]
     },
     "execution_count": 108,
     "metadata": {},
     "output_type": "execute_result"
    }
   ],
   "source": [
    "monty.words.count('ekki', case_sensitive=True)"
   ]
  },
  {
   "cell_type": "code",
   "execution_count": 114,
   "metadata": {},
   "outputs": [
    {
     "data": {
      "text/plain": [
       "0"
      ]
     },
     "execution_count": 114,
     "metadata": {},
     "output_type": "execute_result"
    }
   ],
   "source": [
    "monty.noun_phrases.count('Knights')"
   ]
  },
  {
   "cell_type": "code",
   "execution_count": 124,
   "metadata": {},
   "outputs": [],
   "source": [
    "w1 = TextBlob(\"John is a national level playing who is doing good in all the seasons\")"
   ]
  },
  {
   "cell_type": "code",
   "execution_count": 125,
   "metadata": {},
   "outputs": [
    {
     "data": {
      "text/plain": [
       "1"
      ]
     },
     "execution_count": 125,
     "metadata": {},
     "output_type": "execute_result"
    }
   ],
   "source": [
    "w1.noun_phrases.count('John')"
   ]
  },
  {
   "cell_type": "code",
   "execution_count": null,
   "metadata": {},
   "outputs": [],
   "source": []
  }
 ],
 "metadata": {
  "kernelspec": {
   "display_name": "Python 3",
   "language": "python",
   "name": "python3"
  },
  "language_info": {
   "codemirror_mode": {
    "name": "ipython",
    "version": 3
   },
   "file_extension": ".py",
   "mimetype": "text/x-python",
   "name": "python",
   "nbconvert_exporter": "python",
   "pygments_lexer": "ipython3",
   "version": "3.8.3"
  }
 },
 "nbformat": 4,
 "nbformat_minor": 4
}
